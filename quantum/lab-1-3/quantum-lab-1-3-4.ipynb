{
 "cells": [
  {
   "cell_type": "code",
   "execution_count": 64,
   "metadata": {},
   "outputs": [],
   "source": [
    "import sympy as sp\n",
    "from sympy import I as i"
   ]
  },
  {
   "attachments": {
    "image.png": {
     "image/png": "[encoded data removed]"
    }
   },
   "cell_type": "markdown",
   "metadata": {},
   "source": [
    "![image.png](attachment:image.png)"
   ]
  },
  {
   "cell_type": "code",
   "execution_count": 65,
   "metadata": {},
   "outputs": [
    {
     "data": {
      "text/latex": [
       "$\\displaystyle \\left[\\begin{matrix}-5 - i\\\\5 + 7 i\\\\-2 - i\\\\1 - 5 i\\\\4 - 5 i\\\\6 + 6 i\\\\5 - 2 i\\\\-3 + 7 i\\end{matrix}\\right]$"
      ],
      "text/plain": [
       "Matrix([\n",
       "[  -5 - I],\n",
       "[ 5 + 7*I],\n",
       "[  -2 - I],\n",
       "[ 1 - 5*I],\n",
       "[ 4 - 5*I],\n",
       "[ 6 + 6*I],\n",
       "[ 5 - 2*I],\n",
       "[-3 + 7*I]])"
      ]
     },
     "execution_count": 65,
     "metadata": {},
     "output_type": "execute_result"
    }
   ],
   "source": [
    "phi = sp.Matrix([\n",
    "    -5-i,\n",
    "    5+7*i,\n",
    "    -2-i,\n",
    "    1-5*i,\n",
    "    4-5*i,\n",
    "    6+6*i,\n",
    "    5-2*i,\n",
    "    -3+7*i\n",
    "])\n",
    "phi"
   ]
  },
  {
   "cell_type": "code",
   "execution_count": 66,
   "metadata": {},
   "outputs": [],
   "source": [
    "phi = phi.normalized()"
   ]
  },
  {
   "cell_type": "code",
   "execution_count": 67,
   "metadata": {},
   "outputs": [
    {
     "data": {
      "text/latex": [
       "$\\displaystyle \\left[\\begin{matrix}\\frac{26}{331}\\\\\\frac{74}{331}\\\\\\frac{5}{331}\\\\\\frac{26}{331}\\\\\\frac{41}{331}\\\\\\frac{72}{331}\\\\\\frac{29}{331}\\\\\\frac{58}{331}\\end{matrix}\\right]$"
      ],
      "text/plain": [
       "Matrix([\n",
       "[26/331],\n",
       "[74/331],\n",
       "[ 5/331],\n",
       "[26/331],\n",
       "[41/331],\n",
       "[72/331],\n",
       "[29/331],\n",
       "[58/331]])"
      ]
     },
     "execution_count": 67,
     "metadata": {},
     "output_type": "execute_result"
    }
   ],
   "source": [
    "p = phi.applyfunc(lambda x: sp.Abs(x)**2)\n",
    "p"
   ]
  }
 ],
 "metadata": {
  "kernelspec": {
   "display_name": ".venv",
   "language": "python",
   "name": "python3"
  },
  "language_info": {
   "codemirror_mode": {
    "name": "ipython",
    "version": 3
   },
   "file_extension": ".py",
   "mimetype": "text/x-python",
   "name": "python",
   "nbconvert_exporter": "python",
   "pygments_lexer": "ipython3",
   "version": "3.11.4"
  }
 },
 "nbformat": 4,
 "nbformat_minor": 2
}
