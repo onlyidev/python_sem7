{
 "cells": [
  {
   "cell_type": "code",
   "execution_count": 1,
   "metadata": {},
   "outputs": [],
   "source": [
    "import numpy as np"
   ]
  },
  {
   "cell_type": "code",
   "execution_count": 2,
   "metadata": {},
   "outputs": [],
   "source": [
    "def generateBistochasticMatrix(N):\n",
    "    stochasticRows = np.array([np.random.rand(N) for _ in range(N)])\n",
    "    return sinkhorn_knopp(stochasticRows)\n",
    "\n",
    "def sinkhorn_knopp(A, tol=1e-11, max_iter=1000):\n",
    "    for i in range(max_iter):\n",
    "        A /= A.sum(axis=1, keepdims=True)  # Normalize rows\n",
    "        A /= A.sum(axis=0, keepdims=True)  # Normalize columns\n",
    "        if np.allclose(A.sum(axis=1), 1, atol=tol) and np.allclose(A.sum(axis=0), 1, atol=tol):\n",
    "            print(f\"Satisfies tolerance. iteration: {i}\")\n",
    "            break\n",
    "    if i == max_iter:\n",
    "        print(\"Max iterations\")\n",
    "    return A"
   ]
  },
  {
   "cell_type": "code",
   "execution_count": 3,
   "metadata": {},
   "outputs": [],
   "source": [
    "def isBistochastic(matrix, tol=1e-7):\n",
    "    if matrix.shape[0] != matrix.shape[1]:\n",
    "        return False\n",
    "    return np.allclose(matrix.sum(axis=1), np.ones(matrix.shape[0]), atol=tol) and np.allclose(matrix.sum(axis=0), np.ones(matrix.shape[0]), atol=tol)"
   ]
  },
  {
   "cell_type": "code",
   "execution_count": 4,
   "metadata": {},
   "outputs": [
    {
     "name": "stdout",
     "output_type": "stream",
     "text": [
      "Satisfies tolerance. iteration: 4\n"
     ]
    },
    {
     "data": {
      "text/plain": [
       "array([[0.39760399, 0.24097433, 0.14494112, 0.18139601, 0.03508235],\n",
       "       [0.0324228 , 0.0335102 , 0.29794932, 0.26109085, 0.3750281 ],\n",
       "       [0.11140616, 0.28159292, 0.28986036, 0.1862244 , 0.13091709],\n",
       "       [0.28464   , 0.08039882, 0.190496  , 0.24036109, 0.20410266],\n",
       "       [0.17392706, 0.36352373, 0.0767532 , 0.13092765, 0.25486981]])"
      ]
     },
     "execution_count": 4,
     "metadata": {},
     "output_type": "execute_result"
    }
   ],
   "source": [
    "M = generateBistochasticMatrix(5)\n",
    "M"
   ]
  },
  {
   "cell_type": "code",
   "execution_count": 5,
   "metadata": {},
   "outputs": [
    {
     "data": {
      "text/plain": [
       "True"
      ]
     },
     "execution_count": 5,
     "metadata": {},
     "output_type": "execute_result"
    }
   ],
   "source": [
    "isBistochastic(M)"
   ]
  },
  {
   "cell_type": "code",
   "execution_count": 7,
   "metadata": {},
   "outputs": [],
   "source": [
    "def calcState(matrix, start, k):\n",
    "    state = start\n",
    "    for _ in range(abs(k)):\n",
    "        state = matrix @ state if k > 0 else state.T @ matrix\n",
    "    return state"
   ]
  },
  {
   "cell_type": "code",
   "execution_count": 22,
   "metadata": {},
   "outputs": [
    {
     "name": "stdout",
     "output_type": "stream",
     "text": [
      "Satisfies tolerance. iteration: 3\n"
     ]
    },
    {
     "data": {
      "text/plain": [
       "array([0.04580572, 0.48550481, 0.46868947])"
      ]
     },
     "execution_count": 22,
     "metadata": {},
     "output_type": "execute_result"
    }
   ],
   "source": [
    "M = generateBistochasticMatrix(3)\n",
    "s = np.random.dirichlet(np.ones(M.shape[0]), size=1)[0]\n",
    "calcState(M, s, 0)"
   ]
  }
 ],
 "metadata": {
  "kernelspec": {
   "display_name": ".venv",
   "language": "python",
   "name": "python3"
  },
  "language_info": {
   "codemirror_mode": {
    "name": "ipython",
    "version": 3
   },
   "file_extension": ".py",
   "mimetype": "text/x-python",
   "name": "python",
   "nbconvert_exporter": "python",
   "pygments_lexer": "ipython3",
   "version": "3.11.4"
  }
 },
 "nbformat": 4,
 "nbformat_minor": 2
}
