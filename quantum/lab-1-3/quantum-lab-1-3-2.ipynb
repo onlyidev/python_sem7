{
 "cells": [
  {
   "cell_type": "code",
   "execution_count": 1,
   "metadata": {},
   "outputs": [],
   "source": [
    "import numpy as np"
   ]
  },
  {
   "cell_type": "code",
   "execution_count": 2,
   "metadata": {},
   "outputs": [],
   "source": [
    "def generateBistochasticMatrix(N):\n",
    "    stochasticRows = np.array([np.random.rand(N) for _ in range(N)])\n",
    "    return sinkhorn_knopp(stochasticRows)\n",
    "\n",
    "def sinkhorn_knopp(A, tol=1e-11, max_iter=1000):\n",
    "    for i in range(max_iter):\n",
    "        A /= A.sum(axis=1, keepdims=True)  # Normalize rows\n",
    "        A /= A.sum(axis=0, keepdims=True)  # Normalize columns\n",
    "        if np.allclose(A.sum(axis=1), 1, atol=tol) and np.allclose(A.sum(axis=0), 1, atol=tol):\n",
    "            print(f\"Satisfies tolerance. iteration: {i}\")\n",
    "            break\n",
    "    if i == max_iter:\n",
    "        print(\"Max iterations\")\n",
    "    return A"
   ]
  },
  {
   "cell_type": "code",
   "execution_count": 3,
   "metadata": {},
   "outputs": [],
   "source": [
    "def isBistochastic(matrix, tol=1e-7):\n",
    "    if matrix.shape[0] != matrix.shape[1]:\n",
    "        return False\n",
    "    return np.allclose(matrix.sum(axis=1), np.ones(matrix.shape[0]), atol=tol) and np.allclose(matrix.sum(axis=0), np.ones(matrix.shape[0]), atol=tol)"
   ]
  },
  {
   "cell_type": "code",
   "execution_count": 4,
   "metadata": {},
   "outputs": [
    {
     "name": "stdout",
     "output_type": "stream",
     "text": [
      "Satisfies tolerance. iteration: 4\n"
     ]
    },
    {
     "data": {
      "text/plain": [
       "array([[0.11647076, 0.21468381, 0.25262192, 0.12566319, 0.29056158],\n",
       "       [0.29144694, 0.15274881, 0.22126004, 0.30856438, 0.02597806],\n",
       "       [0.25469552, 0.30026877, 0.06395908, 0.12333367, 0.25774318],\n",
       "       [0.15236735, 0.14765928, 0.311286  , 0.17095527, 0.2177327 ],\n",
       "       [0.18501943, 0.18463933, 0.15087296, 0.27148348, 0.20798449]])"
      ]
     },
     "execution_count": 4,
     "metadata": {},
     "output_type": "execute_result"
    }
   ],
   "source": [
    "M = generateBistochasticMatrix(5)\n",
    "M"
   ]
  },
  {
   "cell_type": "code",
   "execution_count": 5,
   "metadata": {},
   "outputs": [
    {
     "data": {
      "text/plain": [
       "True"
      ]
     },
     "execution_count": 5,
     "metadata": {},
     "output_type": "execute_result"
    }
   ],
   "source": [
    "isBistochastic(M)"
   ]
  },
  {
   "cell_type": "code",
   "execution_count": 6,
   "metadata": {},
   "outputs": [],
   "source": [
    "def walk(matrix, startPos, k):\n",
    "    m = matrix if k > 0 else matrix.transpose()\n",
    "    currentPos = startPos\n",
    "    for _ in range(abs(k)):\n",
    "        currentPos = np.where(\n",
    "            m[currentPos] == np.random.choice(\n",
    "                m[currentPos], 1, p=m[currentPos]/np.sum(m[currentPos])\n",
    "            )[0]\n",
    "        )[0][0]\n",
    "    return currentPos"
   ]
  },
  {
   "cell_type": "code",
   "execution_count": 7,
   "metadata": {},
   "outputs": [
    {
     "data": {
      "text/plain": [
       "np.int64(1)"
      ]
     },
     "execution_count": 7,
     "metadata": {},
     "output_type": "execute_result"
    }
   ],
   "source": [
    "walk(M,0,-1)"
   ]
  }
 ],
 "metadata": {
  "kernelspec": {
   "display_name": ".venv",
   "language": "python",
   "name": "python3"
  },
  "language_info": {
   "codemirror_mode": {
    "name": "ipython",
    "version": 3
   },
   "file_extension": ".py",
   "mimetype": "text/x-python",
   "name": "python",
   "nbconvert_exporter": "python",
   "pygments_lexer": "ipython3",
   "version": "3.11.4"
  }
 },
 "nbformat": 4,
 "nbformat_minor": 2
}
