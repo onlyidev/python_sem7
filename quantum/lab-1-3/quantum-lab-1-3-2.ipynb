{
 "cells": [
  {
   "cell_type": "code",
   "execution_count": 111,
   "metadata": {},
   "outputs": [],
   "source": [
    "import numpy as np\n",
    "import sympy as sp\n",
    "import random"
   ]
  },
  {
   "cell_type": "code",
   "execution_count": 112,
   "metadata": {},
   "outputs": [],
   "source": [
    "def generateBistochasticMatrix(N):\n",
    "    M = sp.Matrix(np.ones(N**2, dtype=np.int32).reshape((N,N)))/N\n",
    "    for _ in range(N):\n",
    "        alterMatrixRect(M, generateRect(N), lambda x: x+sp.Rational(1,N**2), lambda x: x-sp.Rational(1,N**2))\n",
    "    return M\n",
    "\n",
    "def generateRect(N):\n",
    "    assert N >= 2\n",
    "    x = random.randint(0, N-2)\n",
    "    y = random.randint(0, N-2)\n",
    "    dx = random.randint(1, N-1-x)\n",
    "    dy = random.randint(1, N-1-y)\n",
    "    return x,y,dx,dy\n",
    "\n",
    "def alterMatrixRect(M, R, f, f_inv):\n",
    "    x1,y1,dx,dy = R\n",
    "    x2 = x1+dx\n",
    "    y2 = y1+dy\n",
    "    M[x1, y1] = f(M[x1,y1])\n",
    "    M[x1, y2] = f_inv(M[x1,y2])\n",
    "    M[x2, y1] = f_inv(M[x2,y1])\n",
    "    M[x2, y2] = f(M[x2,y2])"
   ]
  },
  {
   "cell_type": "code",
   "execution_count": 113,
   "metadata": {},
   "outputs": [],
   "source": [
    "def isBistochastic(M):\n",
    "    for i in range(M.shape[0]):\n",
    "        if sum(M.row(i)) != 1 or sum(M.col(i)) != 1:\n",
    "            return False\n",
    "    return True"
   ]
  },
  {
   "cell_type": "code",
   "execution_count": 114,
   "metadata": {},
   "outputs": [
    {
     "data": {
      "text/latex": [
       "$\\displaystyle \\left[\\begin{matrix}\\frac{1}{5} & \\frac{1}{5} & \\frac{1}{5} & \\frac{1}{5} & \\frac{1}{5}\\\\\\frac{1}{5} & \\frac{1}{5} & \\frac{1}{5} & \\frac{1}{5} & \\frac{1}{5}\\\\\\frac{7}{25} & \\frac{6}{25} & \\frac{4}{25} & \\frac{4}{25} & \\frac{4}{25}\\\\\\frac{3}{25} & \\frac{6}{25} & \\frac{6}{25} & \\frac{4}{25} & \\frac{6}{25}\\\\\\frac{1}{5} & \\frac{3}{25} & \\frac{1}{5} & \\frac{7}{25} & \\frac{1}{5}\\end{matrix}\\right]$"
      ],
      "text/plain": [
       "Matrix([\n",
       "[ 1/5,  1/5,  1/5,  1/5,  1/5],\n",
       "[ 1/5,  1/5,  1/5,  1/5,  1/5],\n",
       "[7/25, 6/25, 4/25, 4/25, 4/25],\n",
       "[3/25, 6/25, 6/25, 4/25, 6/25],\n",
       "[ 1/5, 3/25,  1/5, 7/25,  1/5]])"
      ]
     },
     "execution_count": 114,
     "metadata": {},
     "output_type": "execute_result"
    }
   ],
   "source": [
    "M = generateBistochasticMatrix(5)\n",
    "M"
   ]
  },
  {
   "cell_type": "code",
   "execution_count": 115,
   "metadata": {},
   "outputs": [
    {
     "data": {
      "text/plain": [
       "True"
      ]
     },
     "execution_count": 115,
     "metadata": {},
     "output_type": "execute_result"
    }
   ],
   "source": [
    "isBistochastic(M)"
   ]
  },
  {
   "cell_type": "code",
   "execution_count": 149,
   "metadata": {},
   "outputs": [],
   "source": [
    "def calcState(matrix, start, k):\n",
    "    state = start\n",
    "    for _ in range(abs(k)):\n",
    "        state = matrix @ state if k > 0 else matrix.T @ state\n",
    "    return state"
   ]
  },
  {
   "cell_type": "code",
   "execution_count": 158,
   "metadata": {},
   "outputs": [
    {
     "data": {
      "text/latex": [
       "$\\displaystyle \\left[\\begin{matrix}\\frac{4}{9} & \\frac{1}{3} & \\frac{2}{9}\\\\\\frac{4}{9} & \\frac{1}{3} & \\frac{2}{9}\\\\\\frac{1}{9} & \\frac{1}{3} & \\frac{5}{9}\\end{matrix}\\right]$"
      ],
      "text/plain": [
       "Matrix([\n",
       "[4/9, 1/3, 2/9],\n",
       "[4/9, 1/3, 2/9],\n",
       "[1/9, 1/3, 5/9]])"
      ]
     },
     "metadata": {},
     "output_type": "display_data"
    },
    {
     "data": {
      "text/latex": [
       "$\\displaystyle \\left[\\begin{matrix}\\frac{1}{5}\\\\\\frac{3}{5}\\\\\\frac{1}{5}\\end{matrix}\\right]$"
      ],
      "text/plain": [
       "Matrix([\n",
       "[1/5],\n",
       "[3/5],\n",
       "[1/5]])"
      ]
     },
     "metadata": {},
     "output_type": "display_data"
    },
    {
     "data": {
      "text/latex": [
       "$\\displaystyle \\left[\\begin{matrix}\\frac{1}{3}\\\\\\frac{1}{3}\\\\\\frac{1}{3}\\end{matrix}\\right]$"
      ],
      "text/plain": [
       "Matrix([\n",
       "[1/3],\n",
       "[1/3],\n",
       "[1/3]])"
      ]
     },
     "metadata": {},
     "output_type": "display_data"
    }
   ],
   "source": [
    "M = generateBistochasticMatrix(3)\n",
    "k=2\n",
    "s1 = sp.Matrix([1, 3, 1])/5\n",
    "s2 = calcState(M, s1, k)\n",
    "display(M,s1,s2)"
   ]
  },
  {
   "cell_type": "code",
   "execution_count": 157,
   "metadata": {},
   "outputs": [
    {
     "data": {
      "text/latex": [
       "$\\displaystyle \\left[\\begin{matrix}\\frac{43}{135}\\\\\\frac{137}{405}\\\\\\frac{139}{405}\\end{matrix}\\right]$"
      ],
      "text/plain": [
       "Matrix([\n",
       "[ 43/135],\n",
       "[137/405],\n",
       "[139/405]])"
      ]
     },
     "metadata": {},
     "output_type": "display_data"
    },
    {
     "data": {
      "text/latex": [
       "$\\displaystyle 1$"
      ],
      "text/plain": [
       "1"
      ]
     },
     "metadata": {},
     "output_type": "display_data"
    }
   ],
   "source": [
    "s = calcState(M, s1, -k)\n",
    "display(s, sum(s))"
   ]
  }
 ],
 "metadata": {
  "kernelspec": {
   "display_name": ".venv",
   "language": "python",
   "name": "python3"
  },
  "language_info": {
   "codemirror_mode": {
    "name": "ipython",
    "version": 3
   },
   "file_extension": ".py",
   "mimetype": "text/x-python",
   "name": "python",
   "nbconvert_exporter": "python",
   "pygments_lexer": "ipython3",
   "version": "3.11.4"
  }
 },
 "nbformat": 4,
 "nbformat_minor": 2
}
