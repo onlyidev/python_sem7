{
 "cells": [
  {
   "cell_type": "code",
   "execution_count": 2,
   "metadata": {},
   "outputs": [],
   "source": [
    "import numpy as np\n",
    "import sympy as sp\n",
    "from scipy.stats import unitary_group"
   ]
  },
  {
   "cell_type": "code",
   "execution_count": 3,
   "metadata": {},
   "outputs": [],
   "source": [
    "i = sp.I"
   ]
  },
  {
   "cell_type": "code",
   "execution_count": 4,
   "metadata": {},
   "outputs": [],
   "source": [
    "def generateComplexVector(N):\n",
    "    real_parts = np.random.randint(-10, 10, N)\n",
    "    imaginary_parts = np.random.randint(-10, 10, N)\n",
    "    complex_vector = real_parts + i * imaginary_parts\n",
    "    return complex_vector\n",
    "\n",
    "def generateComplexMatrix(N):\n",
    "    return sp.Matrix([generateComplexVector(N) for _ in range(N)])\n",
    "\n",
    "def complexProjection(u,v):\n",
    "    return ((u.H.dot(v))/(u.H.dot(u)) * u).expand()\n",
    "\n",
    "def GramSchmidt(M):\n",
    "    matrix = M\n",
    "    for j in range(1, M.shape[0]):\n",
    "        col = matrix.col(j)\n",
    "        for k in range(0, j):\n",
    "            col -= complexProjection(matrix.col(k),col)\n",
    "        matrix[j] = col.normalized()\n",
    "    matrix[0] = matrix.col(0).normalized()\n",
    "    return matrix.expand()"
   ]
  },
  {
   "cell_type": "code",
   "execution_count": 5,
   "metadata": {},
   "outputs": [],
   "source": [
    "def generateQuantumDynamics(N):\n",
    "    return GramSchmidt(generateComplexMatrix(N))"
   ]
  },
  {
   "cell_type": "code",
   "execution_count": 6,
   "metadata": {},
   "outputs": [],
   "source": [
    "def checkIfQuantumDynamics(M):\n",
    "    return (M@M.H).expand().equals(sp.Matrix(np.eye(M.shape[0]), dtype=np.int8))"
   ]
  },
  {
   "cell_type": "code",
   "execution_count": 7,
   "metadata": {},
   "outputs": [
    {
     "data": {
      "text/latex": [
       "$\\displaystyle \\left[\\begin{matrix}\\frac{2 \\sqrt{93}}{93} - \\frac{2 \\sqrt{93} i}{93} & - \\frac{308 \\sqrt{18786}}{46965} - \\frac{67 \\sqrt{18786} i}{31310} & - \\frac{9 \\sqrt{17210}}{43025} - \\frac{91 \\sqrt{17210} i}{86050}\\\\\\frac{2 \\sqrt{93}}{31} & - \\frac{3 \\sqrt{18786}}{15655} + \\frac{41 \\sqrt{18786} i}{31310} & \\frac{136 \\sqrt{17210}}{43025} + \\frac{419 \\sqrt{17210} i}{86050}\\\\\\frac{7 \\sqrt{93} i}{93} & - \\frac{64 \\sqrt{18786}}{46965} + \\frac{67 \\sqrt{18786} i}{46965} & \\frac{164 \\sqrt{17210}}{43025} - \\frac{127 \\sqrt{17210} i}{43025}\\end{matrix}\\right]$"
      ],
      "text/plain": [
       "Matrix([\n",
       "[2*sqrt(93)/93 - 2*sqrt(93)*I/93, -308*sqrt(18786)/46965 - 67*sqrt(18786)*I/31310,   -9*sqrt(17210)/43025 - 91*sqrt(17210)*I/86050],\n",
       "[                  2*sqrt(93)/31,   -3*sqrt(18786)/15655 + 41*sqrt(18786)*I/31310, 136*sqrt(17210)/43025 + 419*sqrt(17210)*I/86050],\n",
       "[                7*sqrt(93)*I/93,  -64*sqrt(18786)/46965 + 67*sqrt(18786)*I/46965, 164*sqrt(17210)/43025 - 127*sqrt(17210)*I/43025]])"
      ]
     },
     "metadata": {},
     "output_type": "display_data"
    },
    {
     "data": {
      "text/latex": [
       "$\\displaystyle \\left[\\begin{matrix}1 & 0 & 0\\\\0 & 1 & 0\\\\0 & 0 & 1\\end{matrix}\\right]$"
      ],
      "text/plain": [
       "Matrix([\n",
       "[1, 0, 0],\n",
       "[0, 1, 0],\n",
       "[0, 0, 1]])"
      ]
     },
     "metadata": {},
     "output_type": "display_data"
    },
    {
     "data": {
      "text/plain": [
       "True"
      ]
     },
     "metadata": {},
     "output_type": "display_data"
    }
   ],
   "source": [
    "M = generateQuantumDynamics(3)\n",
    "display(M, (M@M.H).expand(), checkIfQuantumDynamics(M))"
   ]
  },
  {
   "cell_type": "code",
   "execution_count": 8,
   "metadata": {},
   "outputs": [],
   "source": [
    "def calcState(matrix, start, k):\n",
    "    state = start\n",
    "    for _ in range(abs(k)):\n",
    "        state = matrix @ state if k > 0 else matrix.T @ state\n",
    "    return state"
   ]
  },
  {
   "cell_type": "code",
   "execution_count": 9,
   "metadata": {},
   "outputs": [],
   "source": [
    "def calculateTransitionProbability(M, i, j, T):\n",
    "    iDirac = np.zeros((M.shape[0], 1))\n",
    "    iDirac[i] = 1\n",
    "    state = calcState(M, iDirac, T)\n",
    "    state = state.normalized()\n",
    "    return sp.Abs(state[j])**2"
   ]
  },
  {
   "cell_type": "code",
   "execution_count": 10,
   "metadata": {},
   "outputs": [
    {
     "data": {
      "text/latex": [
       "$\\displaystyle 0.5$"
      ],
      "text/plain": [
       "0.500000000000000"
      ]
     },
     "execution_count": 10,
     "metadata": {},
     "output_type": "execute_result"
    }
   ],
   "source": [
    "M = sp.Matrix([[1, 1], [1, -1]])*1/sp.sqrt(2)\n",
    "calculateTransitionProbability(M, 0, 1, -3)"
   ]
  },
  {
   "cell_type": "code",
   "execution_count": 11,
   "metadata": {},
   "outputs": [
    {
     "data": {
      "text/latex": [
       "$\\displaystyle \\left[\\begin{matrix}- \\frac{5 \\sqrt{278}}{139} - \\frac{3 \\sqrt{278} i}{278} & \\frac{1313 \\sqrt{21556954}}{21556954} - \\frac{778 \\sqrt{21556954} i}{10778477} & - \\frac{689709 \\sqrt{307900455358}}{615800910716} + \\frac{159863 \\sqrt{307900455358} i}{615800910716} & - \\frac{2338649 \\sqrt{44804011093781}}{224020055468905} - \\frac{4099239 \\sqrt{44804011093781} i}{448040110937810}\\\\- \\frac{3 \\sqrt{278}}{139} - \\frac{\\sqrt{278} i}{278} & - \\frac{2625 \\sqrt{21556954}}{21556954} + \\frac{1327 \\sqrt{21556954} i}{10778477} & - \\frac{175223 \\sqrt{307900455358}}{615800910716} - \\frac{5899 \\sqrt{307900455358} i}{615800910716} & - \\frac{188493 \\sqrt{44804011093781}}{224020055468905} - \\frac{29597473 \\sqrt{44804011093781} i}{448040110937810}\\\\- \\frac{5 \\sqrt{278}}{278} - \\frac{7 \\sqrt{278} i}{278} & - \\frac{275 \\sqrt{21556954}}{21556954} + \\frac{1419 \\sqrt{21556954} i}{21556954} & \\frac{231549 \\sqrt{307900455358}}{615800910716} + \\frac{346495 \\sqrt{307900455358} i}{615800910716} & \\frac{8768767 \\sqrt{44804011093781}}{448040110937810} + \\frac{23156353 \\sqrt{44804011093781} i}{224020055468905}\\\\\\frac{3 \\sqrt{278}}{278} + \\frac{7 \\sqrt{278} i}{278} & - \\frac{771 \\sqrt{21556954}}{21556954} + \\frac{891 \\sqrt{21556954} i}{21556954} & - \\frac{674295 \\sqrt{307900455358}}{615800910716} - \\frac{266949 \\sqrt{307900455358} i}{615800910716} & \\frac{18434679 \\sqrt{44804011093781}}{448040110937810} + \\frac{15842761 \\sqrt{44804011093781} i}{224020055468905}\\end{matrix}\\right]$"
      ],
      "text/plain": [
       "Matrix([\n",
       "[-5*sqrt(278)/139 - 3*sqrt(278)*I/278,   1313*sqrt(21556954)/21556954 - 778*sqrt(21556954)*I/10778477, -689709*sqrt(307900455358)/615800910716 + 159863*sqrt(307900455358)*I/615800910716,  -2338649*sqrt(44804011093781)/224020055468905 - 4099239*sqrt(44804011093781)*I/448040110937810],\n",
       "[  -3*sqrt(278)/139 - sqrt(278)*I/278, -2625*sqrt(21556954)/21556954 + 1327*sqrt(21556954)*I/10778477,   -175223*sqrt(307900455358)/615800910716 - 5899*sqrt(307900455358)*I/615800910716,  -188493*sqrt(44804011093781)/224020055468905 - 29597473*sqrt(44804011093781)*I/448040110937810],\n",
       "[-5*sqrt(278)/278 - 7*sqrt(278)*I/278,  -275*sqrt(21556954)/21556954 + 1419*sqrt(21556954)*I/21556954,  231549*sqrt(307900455358)/615800910716 + 346495*sqrt(307900455358)*I/615800910716,  8768767*sqrt(44804011093781)/448040110937810 + 23156353*sqrt(44804011093781)*I/224020055468905],\n",
       "[ 3*sqrt(278)/278 + 7*sqrt(278)*I/278,   -771*sqrt(21556954)/21556954 + 891*sqrt(21556954)*I/21556954, -674295*sqrt(307900455358)/615800910716 - 266949*sqrt(307900455358)*I/615800910716, 18434679*sqrt(44804011093781)/448040110937810 + 15842761*sqrt(44804011093781)*I/224020055468905]])"
      ]
     },
     "metadata": {},
     "output_type": "display_data"
    }
   ],
   "source": [
    "M = generateQuantumDynamics(4)\n",
    "display(M)"
   ]
  },
  {
   "cell_type": "code",
   "execution_count": 12,
   "metadata": {},
   "outputs": [
    {
     "data": {
      "text/latex": [
       "$\\displaystyle 0.392086$"
      ],
      "text/plain": [
       "0.392086"
      ]
     },
     "metadata": {},
     "output_type": "display_data"
    },
    {
     "data": {
      "text/latex": [
       "$\\displaystyle 0.192286$"
      ],
      "text/plain": [
       "0.192286"
      ]
     },
     "metadata": {},
     "output_type": "display_data"
    },
    {
     "data": {
      "text/latex": [
       "$\\displaystyle 0.406994$"
      ],
      "text/plain": [
       "0.406994"
      ]
     },
     "metadata": {},
     "output_type": "display_data"
    },
    {
     "data": {
      "text/latex": [
       "$\\displaystyle 0.00863335$"
      ],
      "text/plain": [
       "0.00863335"
      ]
     },
     "metadata": {},
     "output_type": "display_data"
    },
    {
     "data": {
      "text/latex": [
       "$\\displaystyle 1.0$"
      ],
      "text/plain": [
       "1.00000"
      ]
     },
     "metadata": {},
     "output_type": "display_data"
    }
   ],
   "source": [
    "d0 = calculateTransitionProbability(M, 0, 0, -1).simplify().evalf(6)\n",
    "d1 = calculateTransitionProbability(M, 0, 1, -1).simplify().evalf(6)\n",
    "d2 = calculateTransitionProbability(M, 0, 2, -1).simplify().evalf(6)\n",
    "d3 = calculateTransitionProbability(M, 0, 3, -1).simplify().evalf(6)\n",
    "display(d0,d1,d2,d3, sum([d0, d1, d2, d3]))"
   ]
  },
  {
   "cell_type": "code",
   "execution_count": 20,
   "metadata": {},
   "outputs": [
    {
     "data": {
      "text/latex": [
       "$\\displaystyle \\left[\\begin{matrix}\\frac{\\sqrt{2}}{2} & \\frac{\\sqrt{2}}{2}\\\\\\frac{\\sqrt{2}}{2} & - \\frac{\\sqrt{2}}{2}\\end{matrix}\\right]$"
      ],
      "text/plain": [
       "Matrix([\n",
       "[sqrt(2)/2,  sqrt(2)/2],\n",
       "[sqrt(2)/2, -sqrt(2)/2]])"
      ]
     },
     "metadata": {},
     "output_type": "display_data"
    },
    {
     "data": {
      "text/latex": [
       "$\\displaystyle \\left[\\begin{matrix}1\\\\0\\end{matrix}\\right]$"
      ],
      "text/plain": [
       "Matrix([\n",
       "[1],\n",
       "[0]])"
      ]
     },
     "metadata": {},
     "output_type": "display_data"
    },
    {
     "data": {
      "text/latex": [
       "$\\displaystyle \\left[\\begin{matrix}\\frac{\\sqrt{2}}{2}\\\\\\frac{\\sqrt{2}}{2}\\end{matrix}\\right]$"
      ],
      "text/plain": [
       "Matrix([\n",
       "[sqrt(2)/2],\n",
       "[sqrt(2)/2]])"
      ]
     },
     "metadata": {},
     "output_type": "display_data"
    },
    {
     "data": {
      "text/latex": [
       "$\\displaystyle \\left[\\begin{matrix}1\\\\0\\end{matrix}\\right]$"
      ],
      "text/plain": [
       "Matrix([\n",
       "[1],\n",
       "[0]])"
      ]
     },
     "metadata": {},
     "output_type": "display_data"
    }
   ],
   "source": [
    "Hm = sp.Matrix([\n",
    "    [1, 1],\n",
    "    [1, -1]\n",
    "])/sp.sqrt(2)\n",
    "zero = sp.Matrix([1, 0])\n",
    "\n",
    "state = calcState(Hm, zero, 3)\n",
    "backInTime = calcState(Hm, state, -3)\n",
    "display(Hm, zero, state, backInTime)"
   ]
  }
 ],
 "metadata": {
  "kernelspec": {
   "display_name": ".venv",
   "language": "python",
   "name": "python3"
  },
  "language_info": {
   "codemirror_mode": {
    "name": "ipython",
    "version": 3
   },
   "file_extension": ".py",
   "mimetype": "text/x-python",
   "name": "python",
   "nbconvert_exporter": "python",
   "pygments_lexer": "ipython3",
   "version": "3.11.4"
  }
 },
 "nbformat": 4,
 "nbformat_minor": 2
}
