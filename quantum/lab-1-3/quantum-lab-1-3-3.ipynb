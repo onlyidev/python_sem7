{
 "cells": [
  {
   "cell_type": "code",
   "execution_count": 1,
   "metadata": {},
   "outputs": [],
   "source": [
    "import numpy as np\n",
    "import sympy as sp\n",
    "from scipy.stats import unitary_group"
   ]
  },
  {
   "cell_type": "code",
   "execution_count": 2,
   "metadata": {},
   "outputs": [],
   "source": [
    "i = sp.I"
   ]
  },
  {
   "cell_type": "code",
   "execution_count": 3,
   "metadata": {},
   "outputs": [],
   "source": [
    "def generateComplexVector(N):\n",
    "    real_parts = np.random.randint(-10, 10, N)\n",
    "    imaginary_parts = np.random.randint(-10, 10, N)\n",
    "    complex_vector = real_parts + i * imaginary_parts\n",
    "    return complex_vector\n",
    "\n",
    "def generateComplexMatrix(N):\n",
    "    return sp.Matrix([generateComplexVector(N) for _ in range(N)])\n",
    "\n",
    "def complexProjection(u,v):\n",
    "    return ((u.H.dot(v))/(u.H.dot(u)) * u).expand()\n",
    "\n",
    "def GramSchmidt(M):\n",
    "    matrix = M\n",
    "    for j in range(1, M.shape[0]):\n",
    "        col = matrix.col(j)\n",
    "        for k in range(0, j):\n",
    "            col -= complexProjection(matrix.col(k),col)\n",
    "        matrix[j] = col.normalized()\n",
    "    matrix[0] = matrix.col(0).normalized()\n",
    "    return matrix.expand()"
   ]
  },
  {
   "cell_type": "code",
   "execution_count": 4,
   "metadata": {},
   "outputs": [
    {
     "data": {
      "text/latex": [
       "$\\displaystyle \\left[\\begin{matrix}- \\frac{5}{7} + \\frac{2 i}{7} & - \\frac{46 \\sqrt{493}}{3451} - \\frac{88 \\sqrt{493} i}{3451}\\\\\\frac{2}{7} + \\frac{4 i}{7} & \\frac{101 \\sqrt{493}}{3451} - \\frac{64 \\sqrt{493} i}{3451}\\end{matrix}\\right]$"
      ],
      "text/plain": [
       "Matrix([\n",
       "[-5/7 + 2*I/7, -46*sqrt(493)/3451 - 88*sqrt(493)*I/3451],\n",
       "[ 2/7 + 4*I/7, 101*sqrt(493)/3451 - 64*sqrt(493)*I/3451]])"
      ]
     },
     "metadata": {},
     "output_type": "display_data"
    },
    {
     "data": {
      "text/latex": [
       "$\\displaystyle \\left[\\begin{matrix}1 & 0\\\\0 & 1\\end{matrix}\\right]$"
      ],
      "text/plain": [
       "Matrix([\n",
       "[1, 0],\n",
       "[0, 1]])"
      ]
     },
     "metadata": {},
     "output_type": "display_data"
    }
   ],
   "source": [
    "# For testing\n",
    "M = generateComplexMatrix(2)\n",
    "U = GramSchmidt(M)\n",
    "display(U, (U.H@U).expand())"
   ]
  },
  {
   "cell_type": "code",
   "execution_count": 5,
   "metadata": {},
   "outputs": [],
   "source": [
    "def generateQuantumDynamics(N):\n",
    "    return GramSchmidt(generateComplexMatrix(N))"
   ]
  },
  {
   "cell_type": "code",
   "execution_count": 18,
   "metadata": {},
   "outputs": [],
   "source": [
    "def checkIfQuantumDynamics(M):\n",
    "    return (M@M.H).expand().equals(sp.Matrix(np.eye(M.shape[0]), dtype=np.int8))"
   ]
  },
  {
   "cell_type": "code",
   "execution_count": 26,
   "metadata": {},
   "outputs": [
    {
     "data": {
      "text/latex": [
       "$\\displaystyle \\left[\\begin{matrix}\\frac{5 \\sqrt{93}}{93} - \\frac{7 \\sqrt{93} i}{93} & - \\frac{5 \\sqrt{2505606}}{2505606} + \\frac{77 \\sqrt{2505606} i}{1252803} & - \\frac{46201 \\sqrt{13109788606}}{13109788606} + \\frac{10242 \\sqrt{13109788606} i}{6554894303}\\\\\\frac{\\sqrt{93}}{93} + \\frac{\\sqrt{93} i}{31} & \\frac{322 \\sqrt{2505606}}{1252803} - \\frac{273 \\sqrt{2505606} i}{835202} & - \\frac{16079 \\sqrt{13109788606}}{6554894303} + \\frac{70615 \\sqrt{13109788606} i}{13109788606}\\\\- \\frac{\\sqrt{93} i}{31} & \\frac{112 \\sqrt{2505606}}{417601} - \\frac{162 \\sqrt{2505606} i}{417601} & \\frac{8983 \\sqrt{13109788606}}{6554894303} - \\frac{32451 \\sqrt{13109788606} i}{6554894303}\\end{matrix}\\right]$"
      ],
      "text/plain": [
       "Matrix([\n",
       "[5*sqrt(93)/93 - 7*sqrt(93)*I/93,  -5*sqrt(2505606)/2505606 + 77*sqrt(2505606)*I/1252803, -46201*sqrt(13109788606)/13109788606 + 10242*sqrt(13109788606)*I/6554894303],\n",
       "[    sqrt(93)/93 + sqrt(93)*I/31, 322*sqrt(2505606)/1252803 - 273*sqrt(2505606)*I/835202, -16079*sqrt(13109788606)/6554894303 + 70615*sqrt(13109788606)*I/13109788606],\n",
       "[                 -sqrt(93)*I/31,  112*sqrt(2505606)/417601 - 162*sqrt(2505606)*I/417601,    8983*sqrt(13109788606)/6554894303 - 32451*sqrt(13109788606)*I/6554894303]])"
      ]
     },
     "metadata": {},
     "output_type": "display_data"
    },
    {
     "data": {
      "text/latex": [
       "$\\displaystyle \\left[\\begin{matrix}1 & 0 & 0\\\\0 & 1 & 0\\\\0 & 0 & 1\\end{matrix}\\right]$"
      ],
      "text/plain": [
       "Matrix([\n",
       "[1, 0, 0],\n",
       "[0, 1, 0],\n",
       "[0, 0, 1]])"
      ]
     },
     "metadata": {},
     "output_type": "display_data"
    },
    {
     "data": {
      "text/plain": [
       "True"
      ]
     },
     "metadata": {},
     "output_type": "display_data"
    }
   ],
   "source": [
    "M = generateQuantumDynamics(3)\n",
    "display(M, (M@M.H).expand(), checkIfQuantumDynamics(M))"
   ]
  },
  {
   "cell_type": "code",
   "execution_count": 27,
   "metadata": {},
   "outputs": [],
   "source": [
    "def calcState(matrix, start, k):\n",
    "    state = start\n",
    "    for _ in range(abs(k)):\n",
    "        state = matrix @ state if k > 0 else matrix.T @ state\n",
    "    return state"
   ]
  },
  {
   "cell_type": "code",
   "execution_count": 38,
   "metadata": {},
   "outputs": [],
   "source": [
    "def calculateTransitionProbability(M, i, j, T):\n",
    "    iDirac = np.zeros((M.shape[0], 1))\n",
    "    iDirac[i] = 1\n",
    "    state = calcState(M, iDirac, T)\n",
    "    state = state.normalized()\n",
    "    return sp.Abs(state[j])**2"
   ]
  },
  {
   "cell_type": "code",
   "execution_count": 42,
   "metadata": {},
   "outputs": [
    {
     "data": {
      "text/latex": [
       "$\\displaystyle 0.5$"
      ],
      "text/plain": [
       "0.500000000000000"
      ]
     },
     "execution_count": 42,
     "metadata": {},
     "output_type": "execute_result"
    }
   ],
   "source": [
    "M = sp.Matrix([[1, 1], [1, -1]])*1/sp.sqrt(2)\n",
    "calculateTransitionProbability(M, 0, 1, -3)"
   ]
  },
  {
   "cell_type": "code",
   "execution_count": 49,
   "metadata": {},
   "outputs": [
    {
     "data": {
      "text/latex": [
       "$\\displaystyle \\left[\\begin{matrix}- \\frac{7 \\sqrt{195} i}{195} & - \\frac{278 \\sqrt{1780935}}{1780935} + \\frac{452 \\sqrt{1780935} i}{1780935} & \\frac{5442 \\sqrt{16356700685}}{1258207745} + \\frac{13862 \\sqrt{16356700685} i}{16356700685} & - \\frac{3022557 \\sqrt{40061650495945}}{40061650495945} + \\frac{1340021 \\sqrt{40061650495945} i}{40061650495945}\\\\- \\frac{2 \\sqrt{195}}{65} - \\frac{4 \\sqrt{195} i}{195} & \\frac{19 \\sqrt{1780935}}{712374} - \\frac{2099 \\sqrt{1780935} i}{3561870} & \\frac{26337 \\sqrt{16356700685}}{32713401370} - \\frac{5437 \\sqrt{16356700685} i}{6542680274} & - \\frac{1594708 \\sqrt{40061650495945}}{40061650495945} - \\frac{1063313 \\sqrt{40061650495945} i}{40061650495945}\\\\- \\frac{2 \\sqrt{195} i}{65} & - \\frac{391 \\sqrt{1780935}}{1187290} + \\frac{119 \\sqrt{1780935} i}{1187290} & \\frac{1867 \\sqrt{16356700685}}{6542680274} - \\frac{103979 \\sqrt{16356700685} i}{32713401370} & \\frac{3107784 \\sqrt{40061650495945}}{40061650495945} - \\frac{2807019 \\sqrt{40061650495945} i}{40061650495945}\\\\\\frac{\\sqrt{195}}{65} + \\frac{7 \\sqrt{195} i}{195} & \\frac{28 \\sqrt{1780935}}{356187} - \\frac{14 \\sqrt{1780935} i}{1780935} & \\frac{69507 \\sqrt{16356700685}}{16356700685} - \\frac{56969 \\sqrt{16356700685} i}{16356700685} & - \\frac{107986 \\sqrt{40061650495945}}{3081665422765} - \\frac{2438859 \\sqrt{40061650495945} i}{40061650495945}\\end{matrix}\\right]$"
      ],
      "text/plain": [
       "Matrix([\n",
       "[                 -7*sqrt(195)*I/195, -278*sqrt(1780935)/1780935 + 452*sqrt(1780935)*I/1780935,   5442*sqrt(16356700685)/1258207745 + 13862*sqrt(16356700685)*I/16356700685, -3022557*sqrt(40061650495945)/40061650495945 + 1340021*sqrt(40061650495945)*I/40061650495945],\n",
       "[-2*sqrt(195)/65 - 4*sqrt(195)*I/195,   19*sqrt(1780935)/712374 - 2099*sqrt(1780935)*I/3561870,   26337*sqrt(16356700685)/32713401370 - 5437*sqrt(16356700685)*I/6542680274, -1594708*sqrt(40061650495945)/40061650495945 - 1063313*sqrt(40061650495945)*I/40061650495945],\n",
       "[                  -2*sqrt(195)*I/65, -391*sqrt(1780935)/1187290 + 119*sqrt(1780935)*I/1187290,  1867*sqrt(16356700685)/6542680274 - 103979*sqrt(16356700685)*I/32713401370,  3107784*sqrt(40061650495945)/40061650495945 - 2807019*sqrt(40061650495945)*I/40061650495945],\n",
       "[   sqrt(195)/65 + 7*sqrt(195)*I/195,     28*sqrt(1780935)/356187 - 14*sqrt(1780935)*I/1780935, 69507*sqrt(16356700685)/16356700685 - 56969*sqrt(16356700685)*I/16356700685,   -107986*sqrt(40061650495945)/3081665422765 - 2438859*sqrt(40061650495945)*I/40061650495945]])"
      ]
     },
     "metadata": {},
     "output_type": "display_data"
    }
   ],
   "source": [
    "M = generateQuantumDynamics(4)\n",
    "display(M)"
   ]
  },
  {
   "cell_type": "code",
   "execution_count": 65,
   "metadata": {},
   "outputs": [
    {
     "data": {
      "text/latex": [
       "$\\displaystyle 0.251282$"
      ],
      "text/plain": [
       "0.251282"
      ]
     },
     "metadata": {},
     "output_type": "display_data"
    },
    {
     "data": {
      "text/latex": [
       "$\\displaystyle 0.158112$"
      ],
      "text/plain": [
       "0.158112"
      ]
     },
     "metadata": {},
     "output_type": "display_data"
    },
    {
     "data": {
      "text/latex": [
       "$\\displaystyle 0.317738$"
      ],
      "text/plain": [
       "0.317738"
      ]
     },
     "metadata": {},
     "output_type": "display_data"
    },
    {
     "data": {
      "text/latex": [
       "$\\displaystyle 0.272867$"
      ],
      "text/plain": [
       "0.272867"
      ]
     },
     "metadata": {},
     "output_type": "display_data"
    },
    {
     "data": {
      "text/latex": [
       "$\\displaystyle 1.0$"
      ],
      "text/plain": [
       "1.00000"
      ]
     },
     "metadata": {},
     "output_type": "display_data"
    }
   ],
   "source": [
    "d0 = calculateTransitionProbability(M, 0, 0, -1).simplify().evalf(6)\n",
    "d1 = calculateTransitionProbability(M, 0, 1, -1).simplify().evalf(6)\n",
    "d2 = calculateTransitionProbability(M, 0, 2, -1).simplify().evalf(6)\n",
    "d3 = calculateTransitionProbability(M, 0, 3, -1).simplify().evalf(6)\n",
    "display(d0,d1,d2,d3, sum([d0, d1, d2, d3]))"
   ]
  }
 ],
 "metadata": {
  "kernelspec": {
   "display_name": ".venv",
   "language": "python",
   "name": "python3"
  },
  "language_info": {
   "codemirror_mode": {
    "name": "ipython",
    "version": 3
   },
   "file_extension": ".py",
   "mimetype": "text/x-python",
   "name": "python",
   "nbconvert_exporter": "python",
   "pygments_lexer": "ipython3",
   "version": "3.11.4"
  }
 },
 "nbformat": 4,
 "nbformat_minor": 2
}
