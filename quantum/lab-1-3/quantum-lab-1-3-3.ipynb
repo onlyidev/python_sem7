{
 "cells": [
  {
   "cell_type": "code",
   "execution_count": 46,
   "metadata": {},
   "outputs": [],
   "source": [
    "import numpy as np\n",
    "import sympy as sp\n",
    "from scipy.stats import unitary_group"
   ]
  },
  {
   "cell_type": "code",
   "execution_count": 47,
   "metadata": {},
   "outputs": [],
   "source": [
    "def generateQuantumDynamics(N):\n",
    "    return unitary_group.rvs(N)"
   ]
  },
  {
   "cell_type": "code",
   "execution_count": 48,
   "metadata": {},
   "outputs": [],
   "source": [
    "def checkIfQuantumDynamics(M):\n",
    "    return np.allclose(M.conj().T@M, np.eye(M.shape[0]), 1e-11)\n"
   ]
  },
  {
   "cell_type": "code",
   "execution_count": 49,
   "metadata": {},
   "outputs": [],
   "source": [
    "def calcState(matrix, start, k):\n",
    "    state = start\n",
    "    for _ in range(abs(k)):\n",
    "        state = matrix @ state if k > 0 else state.T @ matrix\n",
    "    return state"
   ]
  },
  {
   "cell_type": "code",
   "execution_count": 50,
   "metadata": {},
   "outputs": [],
   "source": [
    "def calculateTransitionProbability(M, i, j, T):\n",
    "    iDirac = np.zeros((M.shape[0], 1))\n",
    "    iDirac[i] = 1\n",
    "    state = calcState(M, iDirac, T)\n",
    "    state = state / np.linalg.norm(state)\n",
    "    return abs(state[j])**2"
   ]
  },
  {
   "cell_type": "code",
   "execution_count": 58,
   "metadata": {},
   "outputs": [
    {
     "data": {
      "text/plain": [
       "array([0.5])"
      ]
     },
     "execution_count": 58,
     "metadata": {},
     "output_type": "execute_result"
    }
   ],
   "source": [
    "M = np.array([[1, 1], [1, -1]])*1/np.sqrt(2)\n",
    "calculateTransitionProbability(M, 0, 0, 3)"
   ]
  }
 ],
 "metadata": {
  "kernelspec": {
   "display_name": ".venv",
   "language": "python",
   "name": "python3"
  },
  "language_info": {
   "codemirror_mode": {
    "name": "ipython",
    "version": 3
   },
   "file_extension": ".py",
   "mimetype": "text/x-python",
   "name": "python",
   "nbconvert_exporter": "python",
   "pygments_lexer": "ipython3",
   "version": "3.11.4"
  }
 },
 "nbformat": 4,
 "nbformat_minor": 2
}
