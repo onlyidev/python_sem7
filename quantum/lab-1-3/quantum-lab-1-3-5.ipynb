{
 "cells": [
  {
   "cell_type": "code",
   "execution_count": 1,
   "metadata": {},
   "outputs": [],
   "source": [
    "import sympy as sp\n",
    "from sympy import I as i"
   ]
  },
  {
   "cell_type": "code",
   "execution_count": 2,
   "metadata": {},
   "outputs": [
    {
     "data": {
      "text/latex": [
       "$\\displaystyle \\left[\\begin{matrix}-5 - i\\\\5 + 7 i\\\\-2 - i\\\\1 - 5 i\\\\4 - 5 i\\\\6 + 6 i\\\\5 - 2 i\\\\-3 + 7 i\\end{matrix}\\right]$"
      ],
      "text/plain": [
       "Matrix([\n",
       "[  -5 - I],\n",
       "[ 5 + 7*I],\n",
       "[  -2 - I],\n",
       "[ 1 - 5*I],\n",
       "[ 4 - 5*I],\n",
       "[ 6 + 6*I],\n",
       "[ 5 - 2*I],\n",
       "[-3 + 7*I]])"
      ]
     },
     "execution_count": 2,
     "metadata": {},
     "output_type": "execute_result"
    }
   ],
   "source": [
    "phi = sp.Matrix([\n",
    "    -5-i,\n",
    "    5+7*i,\n",
    "    -2-i,\n",
    "    1-5*i,\n",
    "    4-5*i,\n",
    "    6+6*i,\n",
    "    5-2*i,\n",
    "    -3+7*i\n",
    "])\n",
    "phi"
   ]
  },
  {
   "attachments": {
    "image.png": {
     "image/png": "[encoded data removed]"
    }
   },
   "cell_type": "markdown",
   "metadata": {},
   "source": [
    "![image.png](attachment:image.png)"
   ]
  },
  {
   "cell_type": "code",
   "execution_count": 4,
   "metadata": {},
   "outputs": [
    {
     "data": {
      "text/latex": [
       "$\\displaystyle \\left[\\begin{matrix}-6\\\\-5 + i\\\\-1 - 4 i\\\\5 - 3 i\\\\-6 - 6 i\\\\7 + 3 i\\\\-1 - 6 i\\\\1 - 2 i\\end{matrix}\\right]$"
      ],
      "text/plain": [
       "Matrix([\n",
       "[      -6],\n",
       "[  -5 + I],\n",
       "[-1 - 4*I],\n",
       "[ 5 - 3*I],\n",
       "[-6 - 6*I],\n",
       "[ 7 + 3*I],\n",
       "[-1 - 6*I],\n",
       "[ 1 - 2*I]])"
      ]
     },
     "execution_count": 4,
     "metadata": {},
     "output_type": "execute_result"
    }
   ],
   "source": [
    "phi2 = sp.Matrix([\n",
    "    -6,\n",
    "    -5+i,\n",
    "    -1-4*i,\n",
    "    5-3*i,\n",
    "    -6-6*i,\n",
    "    7+3*i,\n",
    "    -1-6*i,\n",
    "    1-2*i\n",
    "])\n",
    "phi2"
   ]
  },
  {
   "cell_type": "code",
   "execution_count": 5,
   "metadata": {},
   "outputs": [],
   "source": [
    "phi = phi.normalized()\n",
    "phi2 = phi2.normalized()"
   ]
  },
  {
   "cell_type": "code",
   "execution_count": 7,
   "metadata": {},
   "outputs": [
    {
     "data": {
      "text/latex": [
       "$\\displaystyle \\frac{94 \\sqrt{94335}}{94335} - \\frac{16 \\sqrt{94335} i}{31445}$"
      ],
      "text/plain": [
       "94*sqrt(94335)/94335 - 16*sqrt(94335)*I/31445"
      ]
     },
     "execution_count": 7,
     "metadata": {},
     "output_type": "execute_result"
    }
   ],
   "source": [
    "phi.H.dot(phi2).expand()"
   ]
  }
 ],
 "metadata": {
  "kernelspec": {
   "display_name": ".venv",
   "language": "python",
   "name": "python3"
  },
  "language_info": {
   "codemirror_mode": {
    "name": "ipython",
    "version": 3
   },
   "file_extension": ".py",
   "mimetype": "text/x-python",
   "name": "python",
   "nbconvert_exporter": "python",
   "pygments_lexer": "ipython3",
   "version": "3.11.4"
  }
 },
 "nbformat": 4,
 "nbformat_minor": 2
}
