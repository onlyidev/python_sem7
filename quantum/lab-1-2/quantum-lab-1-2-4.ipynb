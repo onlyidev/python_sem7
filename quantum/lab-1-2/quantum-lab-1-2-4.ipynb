{
 "cells": [
  {
   "cell_type": "code",
   "execution_count": 78,
   "metadata": {},
   "outputs": [],
   "source": [
    "import sympy as sp"
   ]
  },
  {
   "cell_type": "code",
   "execution_count": 79,
   "metadata": {},
   "outputs": [],
   "source": [
    "def col_add(m,*args):\n",
    "    m=m.transpose()\n",
    "    m.row_add(*args)\n",
    "    m=m.transpose()\n",
    "    return m"
   ]
  },
  {
   "cell_type": "code",
   "execution_count": 80,
   "metadata": {},
   "outputs": [],
   "source": [
    "i = sp.I\n",
    "v1=sp.Matrix([-2+2*i, -2-i, -5+3*i])\n",
    "v2=sp.Matrix([1+4*i, -4+4*i, 3-4*i])\n",
    "v3=sp.Matrix([-4+4*i, 2-2*i, 1+3*i])\n"
   ]
  },
  {
   "cell_type": "code",
   "execution_count": 81,
   "metadata": {},
   "outputs": [],
   "source": [
    "def proj(u,v):\n",
    "    return v.dot(u)/u.dot(u)*u"
   ]
  },
  {
   "cell_type": "code",
   "execution_count": 82,
   "metadata": {},
   "outputs": [
    {
     "name": "stdout",
     "output_type": "stream",
     "text": [
      "\\left[\\begin{matrix}-2 + 2 i\\\\-2 - i\\\\-5 + 3 i\\end{matrix}\\right]\n"
     ]
    }
   ],
   "source": [
    "u1=v1\n",
    "sp.print_latex(u1)"
   ]
  },
  {
   "cell_type": "code",
   "execution_count": 83,
   "metadata": {},
   "outputs": [
    {
     "name": "stdout",
     "output_type": "stream",
     "text": [
      "\\left[\\begin{matrix}\\frac{841}{1517} + \\frac{8052 i}{1517}\\\\- \\frac{7725}{1517} + \\frac{6057 i}{1517}\\\\\\frac{2207}{1517} - \\frac{2438 i}{1517}\\end{matrix}\\right]\n"
     ]
    }
   ],
   "source": [
    "u2=v2 - proj(u1,v2)\n",
    "u2.simplify()\n",
    "sp.print_latex(u2)"
   ]
  },
  {
   "cell_type": "code",
   "execution_count": 84,
   "metadata": {},
   "outputs": [
    {
     "name": "stdout",
     "output_type": "stream",
     "text": [
      "\\left[\\begin{matrix}- \\frac{5174273}{717994} + \\frac{444185 i}{358997}\\\\\\frac{1798615}{717994} - \\frac{4276371 i}{717994}\\\\\\frac{576603}{717994} - \\frac{364135 i}{358997}\\end{matrix}\\right]\n"
     ]
    }
   ],
   "source": [
    "u3=v3 - proj(u1,v3) - proj(u2,v3)\n",
    "u3.simplify()\n",
    "sp.print_latex(u3)"
   ]
  },
  {
   "cell_type": "code",
   "execution_count": 85,
   "metadata": {},
   "outputs": [
    {
     "data": {
      "text/plain": [
       "[None, None, None]"
      ]
     },
     "execution_count": 85,
     "metadata": {},
     "output_type": "execute_result"
    }
   ],
   "source": [
    "[v.simplify() for v in [u1,u2,u3]]"
   ]
  },
  {
   "cell_type": "code",
   "execution_count": 86,
   "metadata": {},
   "outputs": [],
   "source": [
    "u1=u1.normalized()\n",
    "u2=u2.normalized()\n",
    "u3=u3.normalized()"
   ]
  },
  {
   "cell_type": "code",
   "execution_count": 87,
   "metadata": {},
   "outputs": [
    {
     "data": {
      "text/plain": [
       "[None, None, None]"
      ]
     },
     "execution_count": 87,
     "metadata": {},
     "output_type": "execute_result"
    }
   ],
   "source": [
    "[v.simplify() for v in [u1,u2,u3]]"
   ]
  },
  {
   "cell_type": "code",
   "execution_count": 91,
   "metadata": {},
   "outputs": [
    {
     "name": "stdout",
     "output_type": "stream",
     "text": [
      "\\left[\\begin{matrix}\\frac{\\sqrt{12486878848951} \\left(-5174273 + 888370 i\\right)}{24973757697902}\\\\\\frac{\\sqrt{12486878848951} \\left(1798615 - 4276371 i\\right)}{24973757697902}\\\\\\frac{\\sqrt{12486878848951} \\left(576603 - 728270 i\\right)}{24973757697902}\\end{matrix}\\right]\n"
     ]
    }
   ],
   "source": [
    "sp.print_latex(u3)"
   ]
  }
 ],
 "metadata": {
  "kernelspec": {
   "display_name": ".venv",
   "language": "python",
   "name": "python3"
  },
  "language_info": {
   "codemirror_mode": {
    "name": "ipython",
    "version": 3
   },
   "file_extension": ".py",
   "mimetype": "text/x-python",
   "name": "python",
   "nbconvert_exporter": "python",
   "pygments_lexer": "ipython3",
   "version": "3.11.4"
  }
 },
 "nbformat": 4,
 "nbformat_minor": 2
}
