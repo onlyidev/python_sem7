{
 "cells": [
  {
   "cell_type": "code",
   "execution_count": 16,
   "metadata": {},
   "outputs": [],
   "source": [
    "import sympy as sp"
   ]
  },
  {
   "cell_type": "code",
   "execution_count": 17,
   "metadata": {},
   "outputs": [],
   "source": [
    "def col_add(m,*args):\n",
    "    m=m.transpose()\n",
    "    m.row_add(*args)\n",
    "    m=m.transpose()\n",
    "    return m"
   ]
  },
  {
   "cell_type": "code",
   "execution_count": 18,
   "metadata": {},
   "outputs": [],
   "source": [
    "i = sp.I\n",
    "A = sp.Matrix([\n",
    "    [-9-3*i, -8-8*i],\n",
    "    [-7+2*i, 6+i]\n",
    "])\n",
    "B = sp.Matrix([\n",
    "    [-6-2*i, 7-i],\n",
    "    [5+7*i, -5-8*i]\n",
    "])\n",
    "C = sp.Matrix([\n",
    "    [2-7*i, 2-i],\n",
    "    [4-i, 5-6*i]\n",
    "])\n"
   ]
  },
  {
   "cell_type": "code",
   "execution_count": 19,
   "metadata": {},
   "outputs": [
    {
     "name": "stdout",
     "output_type": "stream",
     "text": [
      "\\left[\\begin{matrix}144 + 94 i & 8 + 40 i\\\\25 + 8 i & 107 + 52 i\\end{matrix}\\right]\n"
     ]
    }
   ],
   "source": [
    "sp.print_latex(A**2)"
   ]
  },
  {
   "cell_type": "code",
   "execution_count": 20,
   "metadata": {},
   "outputs": [
    {
     "name": "stdout",
     "output_type": "stream",
     "text": [
      "\\left[\\begin{matrix}-6 + 2 i & 5 - 7 i\\\\7 + i & -5 + 8 i\\end{matrix}\\right]\n"
     ]
    }
   ],
   "source": [
    "sp.print_latex(B.H)"
   ]
  },
  {
   "cell_type": "code",
   "execution_count": 21,
   "metadata": {},
   "outputs": [
    {
     "name": "stdout",
     "output_type": "stream",
     "text": [
      "\\left[\\begin{matrix}- \\frac{805}{19618} + \\frac{279 i}{19618} & - \\frac{760}{9809} - \\frac{224 i}{9809}\\\\- \\frac{727}{19618} + \\frac{715 i}{19618} & \\frac{654}{9809} - \\frac{117 i}{9809}\\end{matrix}\\right]\n"
     ]
    }
   ],
   "source": [
    "sp.print_latex(A.inv())"
   ]
  },
  {
   "cell_type": "code",
   "execution_count": 22,
   "metadata": {},
   "outputs": [
    {
     "data": {
      "text/latex": [
       "$\\displaystyle \\left[\\begin{matrix}- \\frac{805}{19618} - \\frac{279 i}{19618} & - \\frac{727}{19618} - \\frac{715 i}{19618}\\\\- \\frac{760}{9809} + \\frac{224 i}{9809} & \\frac{654}{9809} + \\frac{117 i}{9809}\\end{matrix}\\right]$"
      ],
      "text/plain": [
       "Matrix([\n",
       "[-805/19618 - 279*I/19618, -727/19618 - 715*I/19618],\n",
       "[  -760/9809 + 224*I/9809,    654/9809 + 117*I/9809]])"
      ]
     },
     "execution_count": 22,
     "metadata": {},
     "output_type": "execute_result"
    }
   ],
   "source": [
    "A.inv().H"
   ]
  },
  {
   "cell_type": "code",
   "execution_count": 23,
   "metadata": {},
   "outputs": [
    {
     "name": "stdout",
     "output_type": "stream",
     "text": [
      "\\left[\\begin{matrix}- \\frac{52607}{2563201} + \\frac{5838 i}{2563201} & \\frac{52847}{5126402} - \\frac{1041 i}{5126402}\\\\\\frac{95541}{5126402} + \\frac{19265 i}{5126402} & - \\frac{25663}{2563201} + \\frac{31741 i}{2563201}\\end{matrix}\\right]\n"
     ]
    }
   ],
   "source": [
    "sp.print_latex((C.inv())**2)"
   ]
  },
  {
   "cell_type": "code",
   "execution_count": 26,
   "metadata": {},
   "outputs": [
    {
     "name": "stdout",
     "output_type": "stream",
     "text": [
      "\\left[\\begin{matrix}\\frac{7266212994053}{50284877218} + \\frac{4711199865421 i}{50284877218} & \\frac{364052038177}{50284877218} + \\frac{2019819004293 i}{50284877218}\\\\\\frac{1223875816535}{50284877218} + \\frac{410213933667 i}{50284877218} & \\frac{2713289182480}{25142438609} + \\frac{1305756986873 i}{25142438609}\\end{matrix}\\right]\n"
     ]
    }
   ],
   "source": [
    "expr = A**2 + 3*(B.H)*((C.inv()**2).H) + (A.inv()).H\n",
    "expr.simplify()\n",
    "sp.print_latex(expr)"
   ]
  }
 ],
 "metadata": {
  "kernelspec": {
   "display_name": ".venv",
   "language": "python",
   "name": "python3"
  },
  "language_info": {
   "codemirror_mode": {
    "name": "ipython",
    "version": 3
   },
   "file_extension": ".py",
   "mimetype": "text/x-python",
   "name": "python",
   "nbconvert_exporter": "python",
   "pygments_lexer": "ipython3",
   "version": "3.11.4"
  }
 },
 "nbformat": 4,
 "nbformat_minor": 2
}
