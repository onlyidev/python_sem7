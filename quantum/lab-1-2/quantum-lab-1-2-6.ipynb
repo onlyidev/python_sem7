{
 "cells": [
  {
   "cell_type": "code",
   "execution_count": 80,
   "metadata": {},
   "outputs": [],
   "source": [
    "import sympy as sp\n",
    "from sympy.physics.quantum import TensorProduct\n"
   ]
  },
  {
   "cell_type": "code",
   "execution_count": 67,
   "metadata": {},
   "outputs": [],
   "source": [
    "def col_add(m,*args):\n",
    "    m=m.transpose()\n",
    "    m.row_add(*args)\n",
    "    m=m.transpose()\n",
    "    return m"
   ]
  },
  {
   "cell_type": "code",
   "execution_count": 87,
   "metadata": {},
   "outputs": [
    {
     "name": "stdout",
     "output_type": "stream",
     "text": [
      "\\left[\\begin{matrix}1 & 5 & 1\\\\5 & 3 & 5 i\\\\1 & - 5 i & -5\\end{matrix}\\right]\n"
     ]
    }
   ],
   "source": [
    "i = sp.I\n",
    "A = sp.Matrix([\n",
    "    [i, 5, 1],\n",
    "    [0, 3*i, 5*i],\n",
    "    [0, 0, -5]\n",
    "])\n",
    "x1,x2,x3,x4,x5,x6,x7,x8,x9 = sp.symbols(\"x1 x2 x3 x4 x5 x6 x7 x8 x9\")\n",
    "X = sp.Matrix([\n",
    "    [x1,x2,x3],\n",
    "    [x4,x5,x6],\n",
    "    [x7,x8,x9],\n",
    "])\n",
    "M = sp.Matrix([\n",
    "    [1, 5, 1],\n",
    "    [5, 3, 5*i],\n",
    "    [1, -5*i, -5],\n",
    "])\n",
    "M\n",
    "sp.print_latex(M)"
   ]
  },
  {
   "cell_type": "code",
   "execution_count": 89,
   "metadata": {},
   "outputs": [
    {
     "name": "stdout",
     "output_type": "stream",
     "text": [
      "\\left[\\begin{matrix}- i & \\frac{5}{3} & \\frac{22 i}{15}\\\\0 & - \\frac{i}{3} & \\frac{1}{3}\\\\0 & 0 & - \\frac{1}{5}\\end{matrix}\\right]\n"
     ]
    }
   ],
   "source": [
    "sp.print_latex(A.inv())"
   ]
  },
  {
   "cell_type": "code",
   "execution_count": 91,
   "metadata": {},
   "outputs": [
    {
     "data": {
      "text/latex": [
       "$\\displaystyle \\left[\\begin{matrix}\\frac{25}{3} + \\frac{7 i}{15} & \\frac{37}{3} - 5 i & 0\\\\\\frac{1}{3} - \\frac{5 i}{3} & - \\frac{8 i}{3} & 0\\\\- \\frac{1}{5} & i & 1\\end{matrix}\\right]$"
      ],
      "text/plain": [
       "Matrix([\n",
       "[25/3 + 7*I/15, 37/3 - 5*I, 0],\n",
       "[  1/3 - 5*I/3,     -8*I/3, 0],\n",
       "[         -1/5,          I, 1]])"
      ]
     },
     "execution_count": 91,
     "metadata": {},
     "output_type": "execute_result"
    }
   ],
   "source": [
    "eq=sp.Eq(A*X, M)\n",
    "sol=sp.solve(eq)\n",
    "sm = sp.Matrix([\n",
    "    [sol[x1], sol[x2], sol[x3]],\n",
    "    [sol[x4], sol[x5], sol[x6]],\n",
    "    [sol[x7], sol[x8], sol[x9]],\n",
    "])\n",
    "sm.simplify()\n",
    "# sp.print_latex(sm)\n",
    "sm"
   ]
  },
  {
   "cell_type": "code",
   "execution_count": 93,
   "metadata": {},
   "outputs": [
    {
     "name": "stdout",
     "output_type": "stream",
     "text": [
      "\\left[\\begin{matrix}\\frac{5}{3} & - i & \\frac{22 i}{15}\\\\- \\frac{i}{3} & 0 & \\frac{1}{3}\\\\0 & 0 & - \\frac{1}{5}\\end{matrix}\\right]\n"
     ]
    }
   ],
   "source": [
    "U = sp.Matrix([\n",
    "    [0, 1, 0],\n",
    "    [1, 0, 0],\n",
    "    [0, 0, 1],\n",
    "])\n",
    "sol=sp.solve(sp.Eq(A*X,U))\n",
    "sm=sp.Matrix([\n",
    "    [sol[x1], sol[x2], sol[x3]],\n",
    "    [sol[x4], sol[x5], sol[x6]],\n",
    "    [sol[x7], sol[x8], sol[x9]],\n",
    "])\n",
    "sp.print_latex(sm)"
   ]
  },
  {
   "cell_type": "code",
   "execution_count": 92,
   "metadata": {},
   "outputs": [
    {
     "name": "stdout",
     "output_type": "stream",
     "text": [
      "\\left[\\begin{matrix}0 & 1 & 0\\\\1 & 0 & 0\\\\0 & 0 & 1\\end{matrix}\\right]\n"
     ]
    }
   ],
   "source": [
    "sp.print_latex(U)"
   ]
  },
  {
   "cell_type": "code",
   "execution_count": 95,
   "metadata": {},
   "outputs": [
    {
     "data": {
      "text/latex": [
       "$\\displaystyle \\left[\\begin{matrix}-1 & i\\\\- 3 i & 2\\end{matrix}\\right]$"
      ],
      "text/plain": [
       "Matrix([\n",
       "[  -1, I],\n",
       "[-3*I, 2]])"
      ]
     },
     "metadata": {},
     "output_type": "display_data"
    },
    {
     "data": {
      "text/latex": [
       "$\\displaystyle \\left[\\begin{matrix}i & 5 & 1\\\\0 & 3 i & 5 i\\\\0 & 0 & -5\\end{matrix}\\right]$"
      ],
      "text/plain": [
       "Matrix([\n",
       "[I,   5,   1],\n",
       "[0, 3*I, 5*I],\n",
       "[0,   0,  -5]])"
      ]
     },
     "metadata": {},
     "output_type": "display_data"
    },
    {
     "data": {
      "text/latex": [
       "$\\displaystyle \\left[\\begin{matrix}- i & -5 & -1 & -1 & 5 i & i\\\\0 & - 3 i & - 5 i & 0 & -3 & -5\\\\0 & 0 & 5 & 0 & 0 & - 5 i\\\\3 & - 15 i & - 3 i & 2 i & 10 & 2\\\\0 & 9 & 15 & 0 & 6 i & 10 i\\\\0 & 0 & 15 i & 0 & 0 & -10\\end{matrix}\\right]$"
      ],
      "text/plain": [
       "Matrix([\n",
       "[-I,    -5,   -1,  -1, 5*I,    I],\n",
       "[ 0,  -3*I, -5*I,   0,  -3,   -5],\n",
       "[ 0,     0,    5,   0,   0, -5*I],\n",
       "[ 3, -15*I, -3*I, 2*I,  10,    2],\n",
       "[ 0,     9,   15,   0, 6*I, 10*I],\n",
       "[ 0,     0, 15*I,   0,   0,  -10]])"
      ]
     },
     "metadata": {},
     "output_type": "display_data"
    },
    {
     "data": {
      "text/latex": [
       "$\\displaystyle \\left[\\begin{matrix}- i & -1 & -5 & 5 i & -1 & i\\\\3 & 2 i & - 15 i & 10 & - 3 i & 2\\\\0 & 0 & - 3 i & -3 & - 5 i & -5\\\\0 & 0 & 9 & 6 i & 15 & 10 i\\\\0 & 0 & 0 & 0 & 5 & - 5 i\\\\0 & 0 & 0 & 0 & 15 i & -10\\end{matrix}\\right]$"
      ],
      "text/plain": [
       "Matrix([\n",
       "[-I,  -1,    -5, 5*I,   -1,    I],\n",
       "[ 3, 2*I, -15*I,  10, -3*I,    2],\n",
       "[ 0,   0,  -3*I,  -3, -5*I,   -5],\n",
       "[ 0,   0,     9, 6*I,   15, 10*I],\n",
       "[ 0,   0,     0,   0,    5, -5*I],\n",
       "[ 0,   0,     0,   0, 15*I,  -10]])"
      ]
     },
     "metadata": {},
     "output_type": "display_data"
    },
    {
     "name": "stdout",
     "output_type": "stream",
     "text": [
      "\\left[\\begin{matrix}- i & -1 & -5 & 5 i & -1 & i\\\\3 & 2 i & - 15 i & 10 & - 3 i & 2\\\\0 & 0 & - 3 i & -3 & - 5 i & -5\\\\0 & 0 & 9 & 6 i & 15 & 10 i\\\\0 & 0 & 0 & 0 & 5 & - 5 i\\\\0 & 0 & 0 & 0 & 15 i & -10\\end{matrix}\\right]\n"
     ]
    }
   ],
   "source": [
    "z=sp.Matrix([\n",
    "    [-1, i],\n",
    "    [-3*i, 2]\n",
    "])\n",
    "display(z,A)\n",
    "tza, taz = (TensorProduct(z,A), TensorProduct(A,z))\n",
    "display(tza,taz)\n",
    "sp.print_latex(taz)"
   ]
  }
 ],
 "metadata": {
  "kernelspec": {
   "display_name": ".venv",
   "language": "python",
   "name": "python3"
  },
  "language_info": {
   "codemirror_mode": {
    "name": "ipython",
    "version": 3
   },
   "file_extension": ".py",
   "mimetype": "text/x-python",
   "name": "python",
   "nbconvert_exporter": "python",
   "pygments_lexer": "ipython3",
   "version": "3.11.4"
  }
 },
 "nbformat": 4,
 "nbformat_minor": 2
}
