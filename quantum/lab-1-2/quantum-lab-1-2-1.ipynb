{
 "cells": [
  {
   "cell_type": "code",
   "execution_count": 1,
   "metadata": {},
   "outputs": [],
   "source": [
    "import sympy as sp"
   ]
  },
  {
   "cell_type": "code",
   "execution_count": 2,
   "metadata": {},
   "outputs": [],
   "source": [
    "def col_add(m,*args):\n",
    "    m=m.transpose()\n",
    "    m.row_add(*args)\n",
    "    m=m.transpose()\n",
    "    return m"
   ]
  },
  {
   "cell_type": "code",
   "execution_count": 11,
   "metadata": {},
   "outputs": [
    {
     "data": {
      "text/latex": [
       "$\\displaystyle \\left[\\begin{matrix}-5 - 5 i & -5 - 5 i & -2 + 2 i\\\\0 & 0 & -61 + 5 i\\\\0 & 0 & 0\\\\0 & 0 & 0\\end{matrix}\\right]$"
      ],
      "text/plain": [
       "Matrix([\n",
       "[-5 - 5*I, -5 - 5*I,  -2 + 2*I],\n",
       "[       0,        0, -61 + 5*I],\n",
       "[       0,        0,         0],\n",
       "[       0,        0,         0]])"
      ]
     },
     "execution_count": 11,
     "metadata": {},
     "output_type": "execute_result"
    }
   ],
   "source": [
    "i = sp.I\n",
    "v1 = [-5 - 5*i, -4 -4*i, -4 -4*i, -2 -5*i]\n",
    "v2 = [-5 -5*i, -4 -4*i, -4 -4*i, -2 -5*i]\n",
    "v3 = [-2 + 2*i, 4 - 5*i, 1 + i, -4 + 3*1]\n",
    "m = sp.Matrix([v1,v2,v3]).transpose()\n",
    "m.echelon_form()"
   ]
  },
  {
   "cell_type": "code",
   "execution_count": 21,
   "metadata": {},
   "outputs": [
    {
     "data": {
      "text/latex": [
       "$\\displaystyle \\left[\\begin{matrix}1 & 1 & 0\\\\0 & 0 & 1\\\\0 & 0 & 0\\\\0 & 0 & 0\\end{matrix}\\right]$"
      ],
      "text/plain": [
       "Matrix([\n",
       "[1, 1, 0],\n",
       "[0, 0, 1],\n",
       "[0, 0, 0],\n",
       "[0, 0, 0]])"
      ]
     },
     "execution_count": 21,
     "metadata": {},
     "output_type": "execute_result"
    }
   ],
   "source": [
    "m.rref()[0]"
   ]
  },
  {
   "cell_type": "code",
   "execution_count": 5,
   "metadata": {},
   "outputs": [
    {
     "data": {
      "text/latex": [
       "$\\displaystyle \\left[\\begin{matrix}-5 - 5 i & -5 - 5 i & -2 + 2 i\\\\-4 - 4 i & -4 - 4 i & 4 - 5 i\\\\1 + i & 1 + i & 3 - i\\\\-2 - 5 i & -2 - 5 i & -1\\end{matrix}\\right]$"
      ],
      "text/plain": [
       "Matrix([\n",
       "[-5 - 5*I, -5 - 5*I, -2 + 2*I],\n",
       "[-4 - 4*I, -4 - 4*I,  4 - 5*I],\n",
       "[   1 + I,    1 + I,    3 - I],\n",
       "[-2 - 5*I, -2 - 5*I,       -1]])"
      ]
     },
     "execution_count": 5,
     "metadata": {},
     "output_type": "execute_result"
    }
   ],
   "source": [
    "m"
   ]
  }
 ],
 "metadata": {
  "kernelspec": {
   "display_name": ".venv",
   "language": "python",
   "name": "python3"
  },
  "language_info": {
   "codemirror_mode": {
    "name": "ipython",
    "version": 3
   },
   "file_extension": ".py",
   "mimetype": "text/x-python",
   "name": "python",
   "nbconvert_exporter": "python",
   "pygments_lexer": "ipython3",
   "version": "3.11.4"
  }
 },
 "nbformat": 4,
 "nbformat_minor": 2
}
