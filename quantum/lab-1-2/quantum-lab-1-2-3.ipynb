{
 "cells": [
  {
   "cell_type": "code",
   "execution_count": 2,
   "metadata": {},
   "outputs": [],
   "source": [
    "import sympy as sp"
   ]
  },
  {
   "cell_type": "code",
   "execution_count": 3,
   "metadata": {},
   "outputs": [],
   "source": [
    "def col_add(m,*args):\n",
    "    m=m.transpose()\n",
    "    m.row_add(*args)\n",
    "    m=m.transpose()\n",
    "    return m"
   ]
  },
  {
   "cell_type": "code",
   "execution_count": 21,
   "metadata": {},
   "outputs": [
    {
     "name": "stdout",
     "output_type": "stream",
     "text": [
      "\\left[\\begin{matrix}-2 + 2 i & 1 + 4 i & -4 + 4 i\\\\-2 - i & -4 + 4 i & 2 - 2 i\\\\-5 + 3 i & 3 - 4 i & 1 + 3 i\\end{matrix}\\right]\n"
     ]
    },
    {
     "data": {
      "text/latex": [
       "$\\displaystyle \\left[\\begin{matrix}\\frac{328}{45349} - \\frac{2270 i}{45349} & - \\frac{3876}{45349} + \\frac{279 i}{45349} & - \\frac{5668}{45349} - \\frac{1698 i}{45349}\\\\- \\frac{2563}{45349} - \\frac{2448 i}{45349} & - \\frac{2342}{45349} - \\frac{4254 i}{45349} & \\frac{600}{45349} + \\frac{2484 i}{45349}\\\\- \\frac{6683}{90698} - \\frac{10435 i}{90698} & \\frac{5475}{45349} - \\frac{8 i}{45349} & \\frac{2113}{90698} + \\frac{585 i}{90698}\\end{matrix}\\right]$"
      ],
      "text/plain": [
       "Matrix([\n",
       "[   328/45349 - 2270*I/45349,  -3876/45349 + 279*I/45349, -5668/45349 - 1698*I/45349],\n",
       "[ -2563/45349 - 2448*I/45349, -2342/45349 - 4254*I/45349,   600/45349 + 2484*I/45349],\n",
       "[-6683/90698 - 10435*I/90698,     5475/45349 - 8*I/45349,   2113/90698 + 585*I/90698]])"
      ]
     },
     "execution_count": 21,
     "metadata": {},
     "output_type": "execute_result"
    }
   ],
   "source": [
    "i = sp.I\n",
    "v1=[-2+2*i, -2-i, -5+3*i]\n",
    "v2=[1+4*i, -4+4*i, 3-4*i]\n",
    "v3=[-4+4*i, 2-2*i, 1+3*i]\n",
    "v4=[3+3*i, 2-2*i, -3-2*i]\n",
    "\n",
    "A = sp.Matrix([v1,v2,v3]).transpose()\n",
    "B = sp.Matrix(v4)\n",
    "\n",
    "inv = A.inv()\n",
    "inv.simplify()\n",
    "sp.print_latex(A)"
   ]
  },
  {
   "cell_type": "code",
   "execution_count": 22,
   "metadata": {},
   "outputs": [
    {
     "name": "stdout",
     "output_type": "stream",
     "text": [
      "\\left[\\begin{matrix}\\frac{14208}{45349} + \\frac{18914 i}{45349}\\\\- \\frac{10369}{45349} - \\frac{27509 i}{45349}\\\\\\frac{27955}{90698} - \\frac{79267 i}{90698}\\end{matrix}\\right]\n"
     ]
    }
   ],
   "source": [
    "sp.print_latex(A.solve(B))"
   ]
  }
 ],
 "metadata": {
  "kernelspec": {
   "display_name": ".venv",
   "language": "python",
   "name": "python3"
  },
  "language_info": {
   "codemirror_mode": {
    "name": "ipython",
    "version": 3
   },
   "file_extension": ".py",
   "mimetype": "text/x-python",
   "name": "python",
   "nbconvert_exporter": "python",
   "pygments_lexer": "ipython3",
   "version": "3.11.4"
  }
 },
 "nbformat": 4,
 "nbformat_minor": 2
}
