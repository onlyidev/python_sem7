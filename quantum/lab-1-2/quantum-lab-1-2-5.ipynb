{
 "cells": [
  {
   "cell_type": "code",
   "execution_count": 146,
   "metadata": {},
   "outputs": [],
   "source": [
    "import sympy as sp"
   ]
  },
  {
   "cell_type": "code",
   "execution_count": 147,
   "metadata": {},
   "outputs": [],
   "source": [
    "def col_add(m,*args):\n",
    "    m=m.transpose()\n",
    "    m.row_add(*args)\n",
    "    m=m.transpose()\n",
    "    return m"
   ]
  },
  {
   "cell_type": "code",
   "execution_count": 148,
   "metadata": {},
   "outputs": [],
   "source": [
    "i = sp.I\n",
    "A = sp.Matrix([\n",
    "    [i, 5, 1],\n",
    "    [0, 3*i, 5*i],\n",
    "    [0, 0, -5]\n",
    "])"
   ]
  },
  {
   "cell_type": "code",
   "execution_count": 149,
   "metadata": {},
   "outputs": [
    {
     "name": "stdout",
     "output_type": "stream",
     "text": [
      "\\left[\\begin{matrix}- \\lambda + i & 5 & 1\\\\0 & - \\lambda + 3 i & 5 i\\\\0 & 0 & - \\lambda - 5\\end{matrix}\\right]\n"
     ]
    }
   ],
   "source": [
    "l = sp.symbols(\"lambda\")\n",
    "A -= sp.Matrix([\n",
    "    [l, 0, 0],\n",
    "    [0, l, 0],\n",
    "    [0, 0, l],\n",
    "])\n",
    "sp.print_latex(A)"
   ]
  },
  {
   "cell_type": "code",
   "execution_count": 150,
   "metadata": {},
   "outputs": [
    {
     "data": {
      "text/latex": [
       "$\\displaystyle - \\left(\\lambda + 5\\right) \\left(\\lambda - 3 i\\right) \\left(\\lambda - i\\right)$"
      ],
      "text/plain": [
       "-(lambda + 5)*(lambda - 3*I)*(lambda - I)"
      ]
     },
     "execution_count": 150,
     "metadata": {},
     "output_type": "execute_result"
    }
   ],
   "source": [
    "d=A.det()\n",
    "d=d.factor()\n",
    "d.simplify()\n",
    "d\n",
    "# sp.print_latex(d)"
   ]
  },
  {
   "cell_type": "code",
   "execution_count": 151,
   "metadata": {},
   "outputs": [
    {
     "data": {
      "text/plain": [
       "[-5, I, 3*I]"
      ]
     },
     "execution_count": 151,
     "metadata": {},
     "output_type": "execute_result"
    }
   ],
   "source": [
    "sp.solve(sp.Eq(d, 0))"
   ]
  },
  {
   "cell_type": "code",
   "execution_count": 152,
   "metadata": {},
   "outputs": [
    {
     "name": "stdout",
     "output_type": "stream",
     "text": [
      "\\left[\\begin{matrix}5 + i & 5 & 1\\\\0 & 5 + 3 i & 5 i\\\\0 & 0 & 0\\end{matrix}\\right]\n"
     ]
    }
   ],
   "source": [
    "z=sp.zeros(3).col(0)\n",
    "a1=A.subs(l, -5)\n",
    "sp.print_latex(a1)"
   ]
  },
  {
   "cell_type": "code",
   "execution_count": 153,
   "metadata": {},
   "outputs": [
    {
     "name": "stdout",
     "output_type": "stream",
     "text": [
      "-195 - 325 i\n"
     ]
    }
   ],
   "source": [
    "v1,v2,v3 = sp.symbols(\"v1 v2 v3\")\n",
    "eq1=sp.Eq(a1[1,1]*v2, -a1[1,2]*v3)\n",
    "eq2=sp.Eq(a1[0,0]*v1 + a1[0,1]*v2, -a1[0,2]*v3)\n",
    "sol=sp.solve([eq1,eq2])\n",
    "s1 = sol[v1]\n",
    "s1.simplify()\n",
    "sol\n",
    "sp.print_latex(sol[v2].subs(v3,442))"
   ]
  },
  {
   "cell_type": "code",
   "execution_count": 154,
   "metadata": {},
   "outputs": [
    {
     "data": {
      "text/latex": [
       "$\\displaystyle \\left[\\begin{matrix}0 & 5 & 1\\\\0 & 2 i & 5 i\\\\0 & 0 & -5 - i\\end{matrix}\\right]$"
      ],
      "text/plain": [
       "Matrix([\n",
       "[0,   5,      1],\n",
       "[0, 2*I,    5*I],\n",
       "[0,   0, -5 - I]])"
      ]
     },
     "execution_count": 154,
     "metadata": {},
     "output_type": "execute_result"
    }
   ],
   "source": [
    "z=sp.zeros(3).col(0)\n",
    "a2=A.subs(l, i)\n",
    "a2"
   ]
  },
  {
   "cell_type": "code",
   "execution_count": 155,
   "metadata": {},
   "outputs": [
    {
     "name": "stdout",
     "output_type": "stream",
     "text": [
      "\\left[\\begin{matrix}0 & 5 & 1\\\\0 & 2 i & 5 i\\\\0 & 0 & -5 - i\\end{matrix}\\right]\n"
     ]
    }
   ],
   "source": [
    "sp.print_latex(a2)"
   ]
  },
  {
   "cell_type": "code",
   "execution_count": 156,
   "metadata": {},
   "outputs": [],
   "source": [
    "# v3 =0, 5v2=-v3=0, v1 - bet kas"
   ]
  },
  {
   "cell_type": "code",
   "execution_count": 157,
   "metadata": {},
   "outputs": [
    {
     "data": {
      "text/latex": [
       "$\\displaystyle \\left[\\begin{matrix}- 2 i & 5 & 1\\\\0 & 0 & 5 i\\\\0 & 0 & -5 - 3 i\\end{matrix}\\right]$"
      ],
      "text/plain": [
       "Matrix([\n",
       "[-2*I, 5,        1],\n",
       "[   0, 0,      5*I],\n",
       "[   0, 0, -5 - 3*I]])"
      ]
     },
     "execution_count": 157,
     "metadata": {},
     "output_type": "execute_result"
    }
   ],
   "source": [
    "z=sp.zeros(3).col(0)\n",
    "a2=A.subs(l, 3*i)\n",
    "a2"
   ]
  },
  {
   "cell_type": "code",
   "execution_count": 159,
   "metadata": {},
   "outputs": [
    {
     "name": "stdout",
     "output_type": "stream",
     "text": [
      "\\left[\\begin{matrix}- 2 i & 5 & 1\\\\0 & 0 & 5 i\\\\0 & 0 & -5 - 3 i\\end{matrix}\\right]\n"
     ]
    }
   ],
   "source": [
    "sp.print_latex(a2)"
   ]
  },
  {
   "cell_type": "code",
   "execution_count": 161,
   "metadata": {},
   "outputs": [],
   "source": [
    "v1,v2,v3 = sp.symbols(\"v1 v2 v3\")\n",
    "eq1=sp.Eq(v3, 0)\n",
    "eq2=sp.Eq(5*v2+v3,2*i*v1)\n",
    "sol = sp.solve([eq1,eq2])"
   ]
  },
  {
   "cell_type": "code",
   "execution_count": 162,
   "metadata": {},
   "outputs": [
    {
     "name": "stdout",
     "output_type": "stream",
     "text": [
      "- \\frac{5 i v_{2}}{2}\n"
     ]
    }
   ],
   "source": [
    "sp.print_latex(sol[v1])"
   ]
  }
 ],
 "metadata": {
  "kernelspec": {
   "display_name": ".venv",
   "language": "python",
   "name": "python3"
  },
  "language_info": {
   "codemirror_mode": {
    "name": "ipython",
    "version": 3
   },
   "file_extension": ".py",
   "mimetype": "text/x-python",
   "name": "python",
   "nbconvert_exporter": "python",
   "pygments_lexer": "ipython3",
   "version": "3.11.4"
  }
 },
 "nbformat": 4,
 "nbformat_minor": 2
}
