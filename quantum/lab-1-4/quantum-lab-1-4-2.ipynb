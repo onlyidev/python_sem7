{
 "cells": [
  {
   "cell_type": "code",
   "execution_count": 6,
   "metadata": {},
   "outputs": [],
   "source": [
    "import sympy as sp\n",
    "from sympy.abc import t\n",
    "from sympy.physics.quantum import TensorProduct\n",
    "i = sp.I"
   ]
  },
  {
   "cell_type": "code",
   "execution_count": 42,
   "metadata": {},
   "outputs": [
    {
     "data": {
      "text/latex": [
       "$\\displaystyle \\left[\\begin{matrix}e^{i t} & 0 & 0 & 0\\\\0 & e^{- i t} & 0 & 0\\\\0 & 0 & e^{i t} & 0\\\\0 & 0 & 0 & e^{- i t}\\end{matrix}\\right]$"
      ],
      "text/plain": [
       "Matrix([\n",
       "[exp(I*t),         0,        0,         0],\n",
       "[       0, exp(-I*t),        0,         0],\n",
       "[       0,         0, exp(I*t),         0],\n",
       "[       0,         0,        0, exp(-I*t)]])"
      ]
     },
     "execution_count": 42,
     "metadata": {},
     "output_type": "execute_result"
    }
   ],
   "source": [
    "U = sp.Matrix([\n",
    "    [sp.exp(i*t),0,0,0],\n",
    "    [0,sp.exp(-i*t),0,0],\n",
    "    [0,0,sp.exp(i*t),0],\n",
    "    [0,0,0,sp.exp(-i*t)],\n",
    "])\n",
    "U"
   ]
  },
  {
   "cell_type": "code",
   "execution_count": 43,
   "metadata": {},
   "outputs": [],
   "source": [
    "def calcState(s, T):\n",
    "    state = s\n",
    "    for k in range(T):\n",
    "        state = U.subs(t,k) @ state\n",
    "    return state"
   ]
  },
  {
   "cell_type": "code",
   "execution_count": 49,
   "metadata": {},
   "outputs": [
    {
     "data": {
      "text/latex": [
       "$\\displaystyle \\left[\\begin{matrix}e^{66 i}\\\\0\\\\2 e^{66 i}\\\\0\\end{matrix}\\right]$"
      ],
      "text/plain": [
       "Matrix([\n",
       "[  exp(66*I)],\n",
       "[          0],\n",
       "[2*exp(66*I)],\n",
       "[          0]])"
      ]
     },
     "execution_count": 49,
     "metadata": {},
     "output_type": "execute_result"
    }
   ],
   "source": [
    "s = sp.Matrix([1,0, 2, 0])\n",
    "calcState(s, 12)"
   ]
  }
 ],
 "metadata": {
  "kernelspec": {
   "display_name": ".venv",
   "language": "python",
   "name": "python3"
  },
  "language_info": {
   "codemirror_mode": {
    "name": "ipython",
    "version": 3
   },
   "file_extension": ".py",
   "mimetype": "text/x-python",
   "name": "python",
   "nbconvert_exporter": "python",
   "pygments_lexer": "ipython3",
   "version": "3.11.4"
  }
 },
 "nbformat": 4,
 "nbformat_minor": 2
}
