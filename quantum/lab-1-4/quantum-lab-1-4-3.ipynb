{
 "cells": [
  {
   "cell_type": "code",
   "execution_count": 212,
   "metadata": {},
   "outputs": [],
   "source": [
    "import sympy as sp\n",
    "from sympy.abc import t\n",
    "from sympy.physics.quantum import TensorProduct\n",
    "import typing as tp\n",
    "i = sp.I"
   ]
  },
  {
   "cell_type": "code",
   "execution_count": 213,
   "metadata": {},
   "outputs": [],
   "source": [
    "class Qubits:\n",
    "    ZERO = sp.Matrix([1,0])\n",
    "    ONE = sp.Matrix([0,1])"
   ]
  },
  {
   "cell_type": "code",
   "execution_count": 214,
   "metadata": {},
   "outputs": [],
   "source": [
    "class Q:\n",
    "    X = sp.Matrix([\n",
    "        [0, 1],\n",
    "        [1, 0]\n",
    "    ])\n",
    "    Y = sp.Matrix([\n",
    "        [0, -i],\n",
    "        [i, 0]\n",
    "    ])\n",
    "    Z = sp.Matrix([\n",
    "        [1, 0],\n",
    "        [0, -1]\n",
    "    ])\n",
    "    H = sp.Matrix([\n",
    "        [1, 1],\n",
    "        [1, -1]\n",
    "    ])/sp.sqrt(2)\n",
    "    T = sp.Matrix([\n",
    "        [1, 0],\n",
    "        [0, sp.exp(i*sp.pi/4)]\n",
    "    ])\n",
    "    CX = sp.Matrix([\n",
    "        [sp.eye(2), sp.zeros(2)],\n",
    "        [sp.zeros(2), X]\n",
    "    ])\n",
    "    CU = lambda U: sp.Matrix([\n",
    "        [sp.eye(2), sp.zeros(2)],\n",
    "        [sp.zeros(2), U]\n",
    "    ])\n",
    "    CCNOT = sp.Matrix([\n",
    "        [sp.eye(4), sp.zeros(4)],\n",
    "        [sp.zeros(4), CX]\n",
    "    ])\n",
    "    SWAP = sp.Matrix([\n",
    "        [1, 0, 0, 0],\n",
    "        [0, 0, 1, 0],\n",
    "        [0, 1, 0, 0],\n",
    "        [0, 0, 0, 1],\n",
    "    ])\n",
    "    P = lambda phi: sp.Matrix([\n",
    "        [1, 0],\n",
    "        [0, sp.exp(i*phi)]\n",
    "    ])\n",
    "    XC = SWAP@CX@SWAP\n",
    "    I = sp.eye(2)\n"
   ]
  },
  {
   "cell_type": "code",
   "execution_count": 215,
   "metadata": {},
   "outputs": [],
   "source": [
    "from functools import reduce\n",
    "\n",
    "\n",
    "class QAlgo:\n",
    "    def __init__(self, str: tp.List[tp.LiteralString]):\n",
    "        assert len(str) <= 2\n",
    " \n",
    "        str = [s.replace(\"-\", \"I\") for s in str]\n",
    "\n",
    "        self.str = str\n",
    "\n",
    "    def execGate(self, C: tp.List[tp.LiteralString], state: sp.Matrix):\n",
    "        control = getattr(Q, \"\".join(C), None)\n",
    "        matrix = reduce(TensorProduct, [getattr(Q, c) for c in C], sp.Matrix([1])) if control == None else control\n",
    "        return matrix @ state\n",
    "\n",
    "    def process(self, primaryState: sp.Matrix):\n",
    "        state = reduce(TensorProduct, primaryState, sp.Matrix([1]))\n",
    "        for gates in zip(*self.str):\n",
    "            state = self.execGate(gates, state)\n",
    "        return state\n",
    "    \n",
    "    def matrixForm(self):\n",
    "        matrix = sp.eye(len(self.str)**2)\n",
    "        for gates in zip(*self.str):\n",
    "            matrix = self.execGate(gates, matrix)\n",
    "        return matrix"
   ]
  },
  {
   "cell_type": "code",
   "execution_count": 219,
   "metadata": {},
   "outputs": [
    {
     "data": {
      "text/latex": [
       "$\\displaystyle \\left[\\begin{matrix}0\\\\\\frac{\\sqrt{2} i}{2}\\\\- \\frac{\\sqrt{2} i}{2}\\\\0\\end{matrix}\\right]$"
      ],
      "text/plain": [
       "Matrix([\n",
       "[           0],\n",
       "[ sqrt(2)*I/2],\n",
       "[-sqrt(2)*I/2],\n",
       "[           0]])"
      ]
     },
     "metadata": {},
     "output_type": "display_data"
    },
    {
     "data": {
      "text/latex": [
       "$\\displaystyle \\left[\\begin{matrix}0 & \\frac{\\sqrt{2} i}{2} & \\frac{\\sqrt{2} i}{2} & 0\\\\\\frac{\\sqrt{2} i}{2} & 0 & 0 & - \\frac{\\sqrt{2} i}{2}\\\\- \\frac{\\sqrt{2} i}{2} & 0 & 0 & - \\frac{\\sqrt{2} i}{2}\\\\0 & \\frac{\\sqrt{2} i}{2} & - \\frac{\\sqrt{2} i}{2} & 0\\end{matrix}\\right]$"
      ],
      "text/plain": [
       "Matrix([\n",
       "[           0, sqrt(2)*I/2,  sqrt(2)*I/2,            0],\n",
       "[ sqrt(2)*I/2,           0,            0, -sqrt(2)*I/2],\n",
       "[-sqrt(2)*I/2,           0,            0, -sqrt(2)*I/2],\n",
       "[           0, sqrt(2)*I/2, -sqrt(2)*I/2,            0]])"
      ]
     },
     "execution_count": 219,
     "metadata": {},
     "output_type": "execute_result"
    }
   ],
   "source": [
    "algo = QAlgo([\"HCY-HX\", \"HXZHHC\"])\n",
    "q0 = Qubits.ZERO\n",
    "q1 = Qubits.ZERO\n",
    "display(algo.process([q0,q1]))\n",
    "U=algo.matrixForm()\n",
    "U"
   ]
  },
  {
   "cell_type": "code",
   "execution_count": 217,
   "metadata": {},
   "outputs": [
    {
     "data": {
      "text/latex": [
       "$\\displaystyle \\left[\\begin{matrix}0\\\\\\frac{\\sqrt{2} i}{2}\\\\- \\frac{\\sqrt{2} i}{2}\\\\0\\end{matrix}\\right]$"
      ],
      "text/plain": [
       "Matrix([\n",
       "[           0],\n",
       "[ sqrt(2)*I/2],\n",
       "[-sqrt(2)*I/2],\n",
       "[           0]])"
      ]
     },
     "execution_count": 217,
     "metadata": {},
     "output_type": "execute_result"
    }
   ],
   "source": [
    "U@sp.Matrix([1,0,0,0])"
   ]
  },
  {
   "cell_type": "code",
   "execution_count": 246,
   "metadata": {},
   "outputs": [
    {
     "data": {
      "text/latex": [
       "$\\displaystyle \\left[\\begin{matrix}0\\\\0\\\\\\frac{\\sqrt{2}}{2}\\\\- \\frac{\\sqrt{2}}{2}\\end{matrix}\\right]$"
      ],
      "text/plain": [
       "Matrix([\n",
       "[         0],\n",
       "[         0],\n",
       "[ sqrt(2)/2],\n",
       "[-sqrt(2)/2]])"
      ]
     },
     "execution_count": 246,
     "metadata": {},
     "output_type": "execute_result"
    }
   ],
   "source": [
    "# Deutsch-Jozsa: \n",
    "deutsch = QAlgo([\"HCH\", \"HX-\"]) # f(x) = !x\n",
    "# deutsch = QAlgo([\"H-H\", \"HX-\"]) # f(x) = 1\n",
    "# deutsch = QAlgo([\"H-H\", \"H--\"]) # f(x) = 0\n",
    "deutsch.process([Qubits.ZERO, Qubits.ONE])"
   ]
  }
 ],
 "metadata": {
  "kernelspec": {
   "display_name": ".venv",
   "language": "python",
   "name": "python3"
  },
  "language_info": {
   "codemirror_mode": {
    "name": "ipython",
    "version": 3
   },
   "file_extension": ".py",
   "mimetype": "text/x-python",
   "name": "python",
   "nbconvert_exporter": "python",
   "pygments_lexer": "ipython3",
   "version": "3.11.4"
  }
 },
 "nbformat": 4,
 "nbformat_minor": 2
}
