{
 "cells": [
  {
   "cell_type": "code",
   "execution_count": 2,
   "metadata": {},
   "outputs": [],
   "source": [
    "import sympy as sp\n",
    "i = sp.I"
   ]
  },
  {
   "cell_type": "code",
   "execution_count": 20,
   "metadata": {},
   "outputs": [],
   "source": [
    "def mean(M, state):\n",
    "    return (M @ state).H.dot(state)\n",
    "\n",
    "def var(M, state):\n",
    "    m = mean(M, state)\n",
    "    delta = M - sp.eye(state.shape[0]) * m\n",
    "    display(delta**2)\n",
    "    return mean(delta**2, state)"
   ]
  },
  {
   "cell_type": "code",
   "execution_count": 21,
   "metadata": {},
   "outputs": [
    {
     "data": {
      "text/latex": [
       "$\\displaystyle \\left[\\begin{matrix}\\frac{17}{16} & - \\frac{i}{2}\\\\\\frac{i}{2} & \\frac{25}{16}\\end{matrix}\\right]$"
      ],
      "text/plain": [
       "Matrix([\n",
       "[17/16,  -I/2],\n",
       "[  I/2, 25/16]])"
      ]
     },
     "metadata": {},
     "output_type": "display_data"
    },
    {
     "data": {
      "text/latex": [
       "$\\displaystyle \\frac{29}{32}$"
      ],
      "text/plain": [
       "29/32"
      ]
     },
     "execution_count": 21,
     "metadata": {},
     "output_type": "execute_result"
    }
   ],
   "source": [
    "A = sp.Matrix([\n",
    "    [1, -i],\n",
    "    [i, 2]\n",
    "])\n",
    "s = sp.Matrix([sp.Rational(1,2), i/2])\n",
    "var(A,s)"
   ]
  }
 ],
 "metadata": {
  "kernelspec": {
   "display_name": ".venv",
   "language": "python",
   "name": "python3"
  },
  "language_info": {
   "codemirror_mode": {
    "name": "ipython",
    "version": 3
   },
   "file_extension": ".py",
   "mimetype": "text/x-python",
   "name": "python",
   "nbconvert_exporter": "python",
   "pygments_lexer": "ipython3",
   "version": "3.11.4"
  }
 },
 "nbformat": 4,
 "nbformat_minor": 2
}
