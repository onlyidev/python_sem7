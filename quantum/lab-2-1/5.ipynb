{
 "cells": [
  {
   "cell_type": "code",
   "execution_count": 1,
   "metadata": {},
   "outputs": [],
   "source": [
    "import numpy as np\n",
    "import sympy as sp\n",
    "import pandas as pd\n",
    "from pandas import DataFrame as df\n",
    "import itertools\n",
    "import sympy.physics.quantum as spq"
   ]
  },
  {
   "cell_type": "code",
   "execution_count": 2,
   "metadata": {},
   "outputs": [],
   "source": [
    "def strToByteTuple(str):\n",
    "    return tuple([int(c) for c in str])"
   ]
  },
  {
   "cell_type": "code",
   "execution_count": 3,
   "metadata": {},
   "outputs": [
    {
     "data": {
      "text/html": [
       "<div>\n",
       "<style scoped>\n",
       "    .dataframe tbody tr th:only-of-type {\n",
       "        vertical-align: middle;\n",
       "    }\n",
       "\n",
       "    .dataframe tbody tr th {\n",
       "        vertical-align: top;\n",
       "    }\n",
       "\n",
       "    .dataframe thead th {\n",
       "        text-align: right;\n",
       "    }\n",
       "</style>\n",
       "<table border=\"1\" class=\"dataframe\">\n",
       "  <thead>\n",
       "    <tr style=\"text-align: right;\">\n",
       "      <th></th>\n",
       "      <th>output</th>\n",
       "      <th>input</th>\n",
       "    </tr>\n",
       "  </thead>\n",
       "  <tbody>\n",
       "    <tr>\n",
       "      <th>0</th>\n",
       "      <td>(0, 0, 0, 0, 0)</td>\n",
       "      <td>(0, 0, 0, 0, 0)</td>\n",
       "    </tr>\n",
       "    <tr>\n",
       "      <th>1</th>\n",
       "      <td>(0, 0, 0, 1, 1)</td>\n",
       "      <td>(0, 0, 0, 0, 1)</td>\n",
       "    </tr>\n",
       "    <tr>\n",
       "      <th>2</th>\n",
       "      <td>(0, 0, 1, 0, 0)</td>\n",
       "      <td>(0, 0, 0, 1, 0)</td>\n",
       "    </tr>\n",
       "    <tr>\n",
       "      <th>3</th>\n",
       "      <td>(0, 0, 1, 1, 1)</td>\n",
       "      <td>(0, 0, 0, 1, 1)</td>\n",
       "    </tr>\n",
       "    <tr>\n",
       "      <th>4</th>\n",
       "      <td>(0, 1, 0, 0, 0)</td>\n",
       "      <td>(0, 0, 1, 0, 0)</td>\n",
       "    </tr>\n",
       "    <tr>\n",
       "      <th>5</th>\n",
       "      <td>(0, 1, 0, 1, 1)</td>\n",
       "      <td>(0, 0, 1, 0, 1)</td>\n",
       "    </tr>\n",
       "    <tr>\n",
       "      <th>6</th>\n",
       "      <td>(0, 1, 1, 0, 0)</td>\n",
       "      <td>(0, 0, 1, 1, 0)</td>\n",
       "    </tr>\n",
       "    <tr>\n",
       "      <th>7</th>\n",
       "      <td>(0, 1, 1, 1, 1)</td>\n",
       "      <td>(0, 0, 1, 1, 1)</td>\n",
       "    </tr>\n",
       "    <tr>\n",
       "      <th>8</th>\n",
       "      <td>(0, 0, 0, 1, 1)</td>\n",
       "      <td>(0, 1, 0, 0, 0)</td>\n",
       "    </tr>\n",
       "    <tr>\n",
       "      <th>9</th>\n",
       "      <td>(0, 0, 0, 0, 0)</td>\n",
       "      <td>(0, 1, 0, 0, 1)</td>\n",
       "    </tr>\n",
       "    <tr>\n",
       "      <th>10</th>\n",
       "      <td>(0, 0, 1, 1, 1)</td>\n",
       "      <td>(0, 1, 0, 1, 0)</td>\n",
       "    </tr>\n",
       "    <tr>\n",
       "      <th>11</th>\n",
       "      <td>(0, 0, 1, 0, 0)</td>\n",
       "      <td>(0, 1, 0, 1, 1)</td>\n",
       "    </tr>\n",
       "    <tr>\n",
       "      <th>12</th>\n",
       "      <td>(0, 1, 0, 1, 1)</td>\n",
       "      <td>(0, 1, 1, 0, 0)</td>\n",
       "    </tr>\n",
       "    <tr>\n",
       "      <th>13</th>\n",
       "      <td>(0, 1, 0, 0, 0)</td>\n",
       "      <td>(0, 1, 1, 0, 1)</td>\n",
       "    </tr>\n",
       "    <tr>\n",
       "      <th>14</th>\n",
       "      <td>(0, 1, 1, 1, 1)</td>\n",
       "      <td>(0, 1, 1, 1, 0)</td>\n",
       "    </tr>\n",
       "    <tr>\n",
       "      <th>15</th>\n",
       "      <td>(0, 1, 1, 0, 0)</td>\n",
       "      <td>(0, 1, 1, 1, 1)</td>\n",
       "    </tr>\n",
       "    <tr>\n",
       "      <th>16</th>\n",
       "      <td>(1, 0, 0, 0, 0)</td>\n",
       "      <td>(1, 0, 0, 0, 0)</td>\n",
       "    </tr>\n",
       "    <tr>\n",
       "      <th>17</th>\n",
       "      <td>(1, 0, 0, 1, 1)</td>\n",
       "      <td>(1, 0, 0, 0, 1)</td>\n",
       "    </tr>\n",
       "    <tr>\n",
       "      <th>18</th>\n",
       "      <td>(1, 0, 1, 0, 0)</td>\n",
       "      <td>(1, 0, 0, 1, 0)</td>\n",
       "    </tr>\n",
       "    <tr>\n",
       "      <th>19</th>\n",
       "      <td>(1, 0, 1, 1, 1)</td>\n",
       "      <td>(1, 0, 0, 1, 1)</td>\n",
       "    </tr>\n",
       "    <tr>\n",
       "      <th>20</th>\n",
       "      <td>(1, 1, 0, 0, 0)</td>\n",
       "      <td>(1, 0, 1, 0, 0)</td>\n",
       "    </tr>\n",
       "    <tr>\n",
       "      <th>21</th>\n",
       "      <td>(1, 1, 0, 1, 1)</td>\n",
       "      <td>(1, 0, 1, 0, 1)</td>\n",
       "    </tr>\n",
       "    <tr>\n",
       "      <th>22</th>\n",
       "      <td>(1, 1, 1, 0, 0)</td>\n",
       "      <td>(1, 0, 1, 1, 0)</td>\n",
       "    </tr>\n",
       "    <tr>\n",
       "      <th>23</th>\n",
       "      <td>(1, 1, 1, 1, 1)</td>\n",
       "      <td>(1, 0, 1, 1, 1)</td>\n",
       "    </tr>\n",
       "    <tr>\n",
       "      <th>24</th>\n",
       "      <td>(1, 0, 0, 1, 1)</td>\n",
       "      <td>(1, 1, 0, 0, 0)</td>\n",
       "    </tr>\n",
       "    <tr>\n",
       "      <th>25</th>\n",
       "      <td>(1, 0, 0, 0, 0)</td>\n",
       "      <td>(1, 1, 0, 0, 1)</td>\n",
       "    </tr>\n",
       "    <tr>\n",
       "      <th>26</th>\n",
       "      <td>(1, 0, 1, 1, 1)</td>\n",
       "      <td>(1, 1, 0, 1, 0)</td>\n",
       "    </tr>\n",
       "    <tr>\n",
       "      <th>27</th>\n",
       "      <td>(1, 0, 1, 0, 0)</td>\n",
       "      <td>(1, 1, 0, 1, 1)</td>\n",
       "    </tr>\n",
       "    <tr>\n",
       "      <th>28</th>\n",
       "      <td>(1, 1, 0, 1, 1)</td>\n",
       "      <td>(1, 1, 1, 0, 0)</td>\n",
       "    </tr>\n",
       "    <tr>\n",
       "      <th>29</th>\n",
       "      <td>(1, 1, 0, 0, 0)</td>\n",
       "      <td>(1, 1, 1, 0, 1)</td>\n",
       "    </tr>\n",
       "    <tr>\n",
       "      <th>30</th>\n",
       "      <td>(1, 1, 1, 1, 1)</td>\n",
       "      <td>(1, 1, 1, 1, 0)</td>\n",
       "    </tr>\n",
       "    <tr>\n",
       "      <th>31</th>\n",
       "      <td>(1, 1, 1, 0, 0)</td>\n",
       "      <td>(1, 1, 1, 1, 1)</td>\n",
       "    </tr>\n",
       "  </tbody>\n",
       "</table>\n",
       "</div>"
      ],
      "text/plain": [
       "             output            input\n",
       "0   (0, 0, 0, 0, 0)  (0, 0, 0, 0, 0)\n",
       "1   (0, 0, 0, 1, 1)  (0, 0, 0, 0, 1)\n",
       "2   (0, 0, 1, 0, 0)  (0, 0, 0, 1, 0)\n",
       "3   (0, 0, 1, 1, 1)  (0, 0, 0, 1, 1)\n",
       "4   (0, 1, 0, 0, 0)  (0, 0, 1, 0, 0)\n",
       "5   (0, 1, 0, 1, 1)  (0, 0, 1, 0, 1)\n",
       "6   (0, 1, 1, 0, 0)  (0, 0, 1, 1, 0)\n",
       "7   (0, 1, 1, 1, 1)  (0, 0, 1, 1, 1)\n",
       "8   (0, 0, 0, 1, 1)  (0, 1, 0, 0, 0)\n",
       "9   (0, 0, 0, 0, 0)  (0, 1, 0, 0, 1)\n",
       "10  (0, 0, 1, 1, 1)  (0, 1, 0, 1, 0)\n",
       "11  (0, 0, 1, 0, 0)  (0, 1, 0, 1, 1)\n",
       "12  (0, 1, 0, 1, 1)  (0, 1, 1, 0, 0)\n",
       "13  (0, 1, 0, 0, 0)  (0, 1, 1, 0, 1)\n",
       "14  (0, 1, 1, 1, 1)  (0, 1, 1, 1, 0)\n",
       "15  (0, 1, 1, 0, 0)  (0, 1, 1, 1, 1)\n",
       "16  (1, 0, 0, 0, 0)  (1, 0, 0, 0, 0)\n",
       "17  (1, 0, 0, 1, 1)  (1, 0, 0, 0, 1)\n",
       "18  (1, 0, 1, 0, 0)  (1, 0, 0, 1, 0)\n",
       "19  (1, 0, 1, 1, 1)  (1, 0, 0, 1, 1)\n",
       "20  (1, 1, 0, 0, 0)  (1, 0, 1, 0, 0)\n",
       "21  (1, 1, 0, 1, 1)  (1, 0, 1, 0, 1)\n",
       "22  (1, 1, 1, 0, 0)  (1, 0, 1, 1, 0)\n",
       "23  (1, 1, 1, 1, 1)  (1, 0, 1, 1, 1)\n",
       "24  (1, 0, 0, 1, 1)  (1, 1, 0, 0, 0)\n",
       "25  (1, 0, 0, 0, 0)  (1, 1, 0, 0, 1)\n",
       "26  (1, 0, 1, 1, 1)  (1, 1, 0, 1, 0)\n",
       "27  (1, 0, 1, 0, 0)  (1, 1, 0, 1, 1)\n",
       "28  (1, 1, 0, 1, 1)  (1, 1, 1, 0, 0)\n",
       "29  (1, 1, 0, 0, 0)  (1, 1, 1, 0, 1)\n",
       "30  (1, 1, 1, 1, 1)  (1, 1, 1, 1, 0)\n",
       "31  (1, 1, 1, 0, 0)  (1, 1, 1, 1, 1)"
      ]
     },
     "execution_count": 3,
     "metadata": {},
     "output_type": "execute_result"
    }
   ],
   "source": [
    "table = pd.read_csv(\"./table.csv\",converters={\"output\": strToByteTuple})\n",
    "comb = list(itertools.product([0,1], repeat=5))\n",
    "table[\"input\"] = comb\n",
    "table"
   ]
  },
  {
   "cell_type": "code",
   "execution_count": 4,
   "metadata": {},
   "outputs": [],
   "source": [
    "def f(x):\n",
    "    assert type(x) is tuple\n",
    "    return table.where(table[\"input\"] == x).dropna().reset_index(drop=True)[\"output\"][0]"
   ]
  },
  {
   "cell_type": "code",
   "execution_count": 5,
   "metadata": {},
   "outputs": [
    {
     "data": {
      "text/latex": [
       "$\\displaystyle {\\left|\\varphi_{1}\\right\\rangle } = \\frac{\\sqrt{2} \\left({{\\left|00000\\right\\rangle }}\\otimes {{\\left|0\\right\\rangle }} + {{\\left|00001\\right\\rangle }}\\otimes {{\\left|0\\right\\rangle }} + {{\\left|00010\\right\\rangle }}\\otimes {{\\left|0\\right\\rangle }} + {{\\left|00011\\right\\rangle }}\\otimes {{\\left|0\\right\\rangle }} + {{\\left|00100\\right\\rangle }}\\otimes {{\\left|0\\right\\rangle }} + {{\\left|00101\\right\\rangle }}\\otimes {{\\left|0\\right\\rangle }} + {{\\left|00110\\right\\rangle }}\\otimes {{\\left|0\\right\\rangle }} + {{\\left|00111\\right\\rangle }}\\otimes {{\\left|0\\right\\rangle }} + {{\\left|01000\\right\\rangle }}\\otimes {{\\left|0\\right\\rangle }} + {{\\left|01001\\right\\rangle }}\\otimes {{\\left|0\\right\\rangle }} + {{\\left|01010\\right\\rangle }}\\otimes {{\\left|0\\right\\rangle }} + {{\\left|01011\\right\\rangle }}\\otimes {{\\left|0\\right\\rangle }} + {{\\left|01100\\right\\rangle }}\\otimes {{\\left|0\\right\\rangle }} + {{\\left|01101\\right\\rangle }}\\otimes {{\\left|0\\right\\rangle }} + {{\\left|01110\\right\\rangle }}\\otimes {{\\left|0\\right\\rangle }} + {{\\left|01111\\right\\rangle }}\\otimes {{\\left|0\\right\\rangle }} + {{\\left|10000\\right\\rangle }}\\otimes {{\\left|0\\right\\rangle }} + {{\\left|10001\\right\\rangle }}\\otimes {{\\left|0\\right\\rangle }} + {{\\left|10010\\right\\rangle }}\\otimes {{\\left|0\\right\\rangle }} + {{\\left|10011\\right\\rangle }}\\otimes {{\\left|0\\right\\rangle }} + {{\\left|10100\\right\\rangle }}\\otimes {{\\left|0\\right\\rangle }} + {{\\left|10101\\right\\rangle }}\\otimes {{\\left|0\\right\\rangle }} + {{\\left|10110\\right\\rangle }}\\otimes {{\\left|0\\right\\rangle }} + {{\\left|10111\\right\\rangle }}\\otimes {{\\left|0\\right\\rangle }} + {{\\left|11000\\right\\rangle }}\\otimes {{\\left|0\\right\\rangle }} + {{\\left|11001\\right\\rangle }}\\otimes {{\\left|0\\right\\rangle }} + {{\\left|11010\\right\\rangle }}\\otimes {{\\left|0\\right\\rangle }} + {{\\left|11011\\right\\rangle }}\\otimes {{\\left|0\\right\\rangle }} + {{\\left|11100\\right\\rangle }}\\otimes {{\\left|0\\right\\rangle }} + {{\\left|11101\\right\\rangle }}\\otimes {{\\left|0\\right\\rangle }} + {{\\left|11110\\right\\rangle }}\\otimes {{\\left|0\\right\\rangle }} + {{\\left|11111\\right\\rangle }}\\otimes {{\\left|0\\right\\rangle }}\\right)}{8}$"
      ],
      "text/plain": [
       "Eq(|varphi_1>, sqrt(2)*(|00000>x|0> + |00001>x|0> + |00010>x|0> + |00011>x|0> + |00100>x|0> + |00101>x|0> + |00110>x|0> + |00111>x|0> + |01000>x|0> + |01001>x|0> + |01010>x|0> + |01011>x|0> + |01100>x|0> + |01101>x|0> + |01110>x|0> + |01111>x|0> + |10000>x|0> + |10001>x|0> + |10010>x|0> + |10011>x|0> + |10100>x|0> + |10101>x|0> + |10110>x|0> + |10111>x|0> + |11000>x|0> + |11001>x|0> + |11010>x|0> + |11011>x|0> + |11100>x|0> + |11101>x|0> + |11110>x|0> + |11111>x|0>)/8)"
      ]
     },
     "execution_count": 5,
     "metadata": {},
     "output_type": "execute_result"
    }
   ],
   "source": [
    "phi1 = spq.Ket(sp.Symbol(\"varphi_1\"))\n",
    "eq1 = sp.Eq(phi1, 1/sp.sqrt(2**5)*(sum([spq.TensorProduct(spq.Ket(*a), spq.Ket(0)) for a in itertools.product([0,1], repeat=5)])))\n",
    "eq1"
   ]
  },
  {
   "cell_type": "code",
   "execution_count": 6,
   "metadata": {},
   "outputs": [
    {
     "data": {
      "text/latex": [
       "$\\displaystyle {\\left|\\varphi_{2}\\right\\rangle } = \\frac{\\sqrt{2} \\left({{\\left|00000\\right\\rangle }}\\otimes {{\\left|00000\\right\\rangle }} + {{\\left|00001\\right\\rangle }}\\otimes {{\\left|00011\\right\\rangle }} + {{\\left|00010\\right\\rangle }}\\otimes {{\\left|00100\\right\\rangle }} + {{\\left|00011\\right\\rangle }}\\otimes {{\\left|00111\\right\\rangle }} + {{\\left|00100\\right\\rangle }}\\otimes {{\\left|01000\\right\\rangle }} + {{\\left|00101\\right\\rangle }}\\otimes {{\\left|01011\\right\\rangle }} + {{\\left|00110\\right\\rangle }}\\otimes {{\\left|01100\\right\\rangle }} + {{\\left|00111\\right\\rangle }}\\otimes {{\\left|01111\\right\\rangle }} + {{\\left|01000\\right\\rangle }}\\otimes {{\\left|00011\\right\\rangle }} + {{\\left|01001\\right\\rangle }}\\otimes {{\\left|00000\\right\\rangle }} + {{\\left|01010\\right\\rangle }}\\otimes {{\\left|00111\\right\\rangle }} + {{\\left|01011\\right\\rangle }}\\otimes {{\\left|00100\\right\\rangle }} + {{\\left|01100\\right\\rangle }}\\otimes {{\\left|01011\\right\\rangle }} + {{\\left|01101\\right\\rangle }}\\otimes {{\\left|01000\\right\\rangle }} + {{\\left|01110\\right\\rangle }}\\otimes {{\\left|01111\\right\\rangle }} + {{\\left|01111\\right\\rangle }}\\otimes {{\\left|01100\\right\\rangle }} + {{\\left|10000\\right\\rangle }}\\otimes {{\\left|10000\\right\\rangle }} + {{\\left|10001\\right\\rangle }}\\otimes {{\\left|10011\\right\\rangle }} + {{\\left|10010\\right\\rangle }}\\otimes {{\\left|10100\\right\\rangle }} + {{\\left|10011\\right\\rangle }}\\otimes {{\\left|10111\\right\\rangle }} + {{\\left|10100\\right\\rangle }}\\otimes {{\\left|11000\\right\\rangle }} + {{\\left|10101\\right\\rangle }}\\otimes {{\\left|11011\\right\\rangle }} + {{\\left|10110\\right\\rangle }}\\otimes {{\\left|11100\\right\\rangle }} + {{\\left|10111\\right\\rangle }}\\otimes {{\\left|11111\\right\\rangle }} + {{\\left|11000\\right\\rangle }}\\otimes {{\\left|10011\\right\\rangle }} + {{\\left|11001\\right\\rangle }}\\otimes {{\\left|10000\\right\\rangle }} + {{\\left|11010\\right\\rangle }}\\otimes {{\\left|10111\\right\\rangle }} + {{\\left|11011\\right\\rangle }}\\otimes {{\\left|10100\\right\\rangle }} + {{\\left|11100\\right\\rangle }}\\otimes {{\\left|11011\\right\\rangle }} + {{\\left|11101\\right\\rangle }}\\otimes {{\\left|11000\\right\\rangle }} + {{\\left|11110\\right\\rangle }}\\otimes {{\\left|11111\\right\\rangle }} + {{\\left|11111\\right\\rangle }}\\otimes {{\\left|11100\\right\\rangle }}\\right)}{8}$"
      ],
      "text/plain": [
       "Eq(|varphi_2>, sqrt(2)*(|00000>x|00000> + |00001>x|00011> + |00010>x|00100> + |00011>x|00111> + |00100>x|01000> + |00101>x|01011> + |00110>x|01100> + |00111>x|01111> + |01000>x|00011> + |01001>x|00000> + |01010>x|00111> + |01011>x|00100> + |01100>x|01011> + |01101>x|01000> + |01110>x|01111> + |01111>x|01100> + |10000>x|10000> + |10001>x|10011> + |10010>x|10100> + |10011>x|10111> + |10100>x|11000> + |10101>x|11011> + |10110>x|11100> + |10111>x|11111> + |11000>x|10011> + |11001>x|10000> + |11010>x|10111> + |11011>x|10100> + |11100>x|11011> + |11101>x|11000> + |11110>x|11111> + |11111>x|11100>)/8)"
      ]
     },
     "execution_count": 6,
     "metadata": {},
     "output_type": "execute_result"
    }
   ],
   "source": [
    "phi2 = spq.Ket(sp.Symbol(\"varphi_2\"))\n",
    "eq2 = sp.Eq(phi2, 1/sp.sqrt(2**5)*(sum([spq.TensorProduct(spq.Ket(*a), spq.Ket(*f(tuple(a)))) for a in itertools.product([0,1], repeat=5)])))\n",
    "eq2"
   ]
  },
  {
   "cell_type": "code",
   "execution_count": 20,
   "metadata": {},
   "outputs": [
    {
     "data": {
      "text/latex": [
       "$\\displaystyle {\\left|\\varphi_{3}\\right\\rangle } = \\frac{2 {{\\left|00000\\right\\rangle }}\\otimes {{\\left|00000\\right\\rangle }} + 2 {{\\left|00000\\right\\rangle }}\\otimes {{\\left|00011\\right\\rangle }} + 2 {{\\left|00000\\right\\rangle }}\\otimes {{\\left|00100\\right\\rangle }} + 2 {{\\left|00000\\right\\rangle }}\\otimes {{\\left|00111\\right\\rangle }} + 2 {{\\left|00000\\right\\rangle }}\\otimes {{\\left|01000\\right\\rangle }} + 2 {{\\left|00000\\right\\rangle }}\\otimes {{\\left|01011\\right\\rangle }} + 2 {{\\left|00000\\right\\rangle }}\\otimes {{\\left|01100\\right\\rangle }} + 2 {{\\left|00000\\right\\rangle }}\\otimes {{\\left|01111\\right\\rangle }} + 2 {{\\left|00000\\right\\rangle }}\\otimes {{\\left|10000\\right\\rangle }} + 2 {{\\left|00000\\right\\rangle }}\\otimes {{\\left|10011\\right\\rangle }} + 2 {{\\left|00000\\right\\rangle }}\\otimes {{\\left|10100\\right\\rangle }} + 2 {{\\left|00000\\right\\rangle }}\\otimes {{\\left|10111\\right\\rangle }} + 2 {{\\left|00000\\right\\rangle }}\\otimes {{\\left|11000\\right\\rangle }} + 2 {{\\left|00000\\right\\rangle }}\\otimes {{\\left|11011\\right\\rangle }} + 2 {{\\left|00000\\right\\rangle }}\\otimes {{\\left|11100\\right\\rangle }} + 2 {{\\left|00000\\right\\rangle }}\\otimes {{\\left|11111\\right\\rangle }} + 2 {{\\left|00010\\right\\rangle }}\\otimes {{\\left|00000\\right\\rangle }} + 2 {{\\left|00010\\right\\rangle }}\\otimes {{\\left|00011\\right\\rangle }} - 2 {{\\left|00010\\right\\rangle }}\\otimes {{\\left|00100\\right\\rangle }} - 2 {{\\left|00010\\right\\rangle }}\\otimes {{\\left|00111\\right\\rangle }} + 2 {{\\left|00010\\right\\rangle }}\\otimes {{\\left|01000\\right\\rangle }} + 2 {{\\left|00010\\right\\rangle }}\\otimes {{\\left|01011\\right\\rangle }} - 2 {{\\left|00010\\right\\rangle }}\\otimes {{\\left|01100\\right\\rangle }} - 2 {{\\left|00010\\right\\rangle }}\\otimes {{\\left|01111\\right\\rangle }} + 2 {{\\left|00010\\right\\rangle }}\\otimes {{\\left|10000\\right\\rangle }} + 2 {{\\left|00010\\right\\rangle }}\\otimes {{\\left|10011\\right\\rangle }} - 2 {{\\left|00010\\right\\rangle }}\\otimes {{\\left|10100\\right\\rangle }} - 2 {{\\left|00010\\right\\rangle }}\\otimes {{\\left|10111\\right\\rangle }} + 2 {{\\left|00010\\right\\rangle }}\\otimes {{\\left|11000\\right\\rangle }} + 2 {{\\left|00010\\right\\rangle }}\\otimes {{\\left|11011\\right\\rangle }} - 2 {{\\left|00010\\right\\rangle }}\\otimes {{\\left|11100\\right\\rangle }} - 2 {{\\left|00010\\right\\rangle }}\\otimes {{\\left|11111\\right\\rangle }} + 2 {{\\left|00100\\right\\rangle }}\\otimes {{\\left|00000\\right\\rangle }} + 2 {{\\left|00100\\right\\rangle }}\\otimes {{\\left|00011\\right\\rangle }} + 2 {{\\left|00100\\right\\rangle }}\\otimes {{\\left|00100\\right\\rangle }} + 2 {{\\left|00100\\right\\rangle }}\\otimes {{\\left|00111\\right\\rangle }} - 2 {{\\left|00100\\right\\rangle }}\\otimes {{\\left|01000\\right\\rangle }} - 2 {{\\left|00100\\right\\rangle }}\\otimes {{\\left|01011\\right\\rangle }} - 2 {{\\left|00100\\right\\rangle }}\\otimes {{\\left|01100\\right\\rangle }} - 2 {{\\left|00100\\right\\rangle }}\\otimes {{\\left|01111\\right\\rangle }} + 2 {{\\left|00100\\right\\rangle }}\\otimes {{\\left|10000\\right\\rangle }} + 2 {{\\left|00100\\right\\rangle }}\\otimes {{\\left|10011\\right\\rangle }} + 2 {{\\left|00100\\right\\rangle }}\\otimes {{\\left|10100\\right\\rangle }} + 2 {{\\left|00100\\right\\rangle }}\\otimes {{\\left|10111\\right\\rangle }} - 2 {{\\left|00100\\right\\rangle }}\\otimes {{\\left|11000\\right\\rangle }} - 2 {{\\left|00100\\right\\rangle }}\\otimes {{\\left|11011\\right\\rangle }} - 2 {{\\left|00100\\right\\rangle }}\\otimes {{\\left|11100\\right\\rangle }} - 2 {{\\left|00100\\right\\rangle }}\\otimes {{\\left|11111\\right\\rangle }} + 2 {{\\left|00110\\right\\rangle }}\\otimes {{\\left|00000\\right\\rangle }} + 2 {{\\left|00110\\right\\rangle }}\\otimes {{\\left|00011\\right\\rangle }} - 2 {{\\left|00110\\right\\rangle }}\\otimes {{\\left|00100\\right\\rangle }} - 2 {{\\left|00110\\right\\rangle }}\\otimes {{\\left|00111\\right\\rangle }} - 2 {{\\left|00110\\right\\rangle }}\\otimes {{\\left|01000\\right\\rangle }} - 2 {{\\left|00110\\right\\rangle }}\\otimes {{\\left|01011\\right\\rangle }} + 2 {{\\left|00110\\right\\rangle }}\\otimes {{\\left|01100\\right\\rangle }} + 2 {{\\left|00110\\right\\rangle }}\\otimes {{\\left|01111\\right\\rangle }} + 2 {{\\left|00110\\right\\rangle }}\\otimes {{\\left|10000\\right\\rangle }} + 2 {{\\left|00110\\right\\rangle }}\\otimes {{\\left|10011\\right\\rangle }} - 2 {{\\left|00110\\right\\rangle }}\\otimes {{\\left|10100\\right\\rangle }} - 2 {{\\left|00110\\right\\rangle }}\\otimes {{\\left|10111\\right\\rangle }} - 2 {{\\left|00110\\right\\rangle }}\\otimes {{\\left|11000\\right\\rangle }} - 2 {{\\left|00110\\right\\rangle }}\\otimes {{\\left|11011\\right\\rangle }} + 2 {{\\left|00110\\right\\rangle }}\\otimes {{\\left|11100\\right\\rangle }} + 2 {{\\left|00110\\right\\rangle }}\\otimes {{\\left|11111\\right\\rangle }} + 2 {{\\left|01001\\right\\rangle }}\\otimes {{\\left|00000\\right\\rangle }} - 2 {{\\left|01001\\right\\rangle }}\\otimes {{\\left|00011\\right\\rangle }} + 2 {{\\left|01001\\right\\rangle }}\\otimes {{\\left|00100\\right\\rangle }} - 2 {{\\left|01001\\right\\rangle }}\\otimes {{\\left|00111\\right\\rangle }} + 2 {{\\left|01001\\right\\rangle }}\\otimes {{\\left|01000\\right\\rangle }} - 2 {{\\left|01001\\right\\rangle }}\\otimes {{\\left|01011\\right\\rangle }} + 2 {{\\left|01001\\right\\rangle }}\\otimes {{\\left|01100\\right\\rangle }} - 2 {{\\left|01001\\right\\rangle }}\\otimes {{\\left|01111\\right\\rangle }} + 2 {{\\left|01001\\right\\rangle }}\\otimes {{\\left|10000\\right\\rangle }} - 2 {{\\left|01001\\right\\rangle }}\\otimes {{\\left|10011\\right\\rangle }} + 2 {{\\left|01001\\right\\rangle }}\\otimes {{\\left|10100\\right\\rangle }} - 2 {{\\left|01001\\right\\rangle }}\\otimes {{\\left|10111\\right\\rangle }} + 2 {{\\left|01001\\right\\rangle }}\\otimes {{\\left|11000\\right\\rangle }} - 2 {{\\left|01001\\right\\rangle }}\\otimes {{\\left|11011\\right\\rangle }} + 2 {{\\left|01001\\right\\rangle }}\\otimes {{\\left|11100\\right\\rangle }} - 2 {{\\left|01001\\right\\rangle }}\\otimes {{\\left|11111\\right\\rangle }} + 2 {{\\left|01011\\right\\rangle }}\\otimes {{\\left|00000\\right\\rangle }} - 2 {{\\left|01011\\right\\rangle }}\\otimes {{\\left|00011\\right\\rangle }} - 2 {{\\left|01011\\right\\rangle }}\\otimes {{\\left|00100\\right\\rangle }} + 2 {{\\left|01011\\right\\rangle }}\\otimes {{\\left|00111\\right\\rangle }} + 2 {{\\left|01011\\right\\rangle }}\\otimes {{\\left|01000\\right\\rangle }} - 2 {{\\left|01011\\right\\rangle }}\\otimes {{\\left|01011\\right\\rangle }} - 2 {{\\left|01011\\right\\rangle }}\\otimes {{\\left|01100\\right\\rangle }} + 2 {{\\left|01011\\right\\rangle }}\\otimes {{\\left|01111\\right\\rangle }} + 2 {{\\left|01011\\right\\rangle }}\\otimes {{\\left|10000\\right\\rangle }} - 2 {{\\left|01011\\right\\rangle }}\\otimes {{\\left|10011\\right\\rangle }} - 2 {{\\left|01011\\right\\rangle }}\\otimes {{\\left|10100\\right\\rangle }} + 2 {{\\left|01011\\right\\rangle }}\\otimes {{\\left|10111\\right\\rangle }} + 2 {{\\left|01011\\right\\rangle }}\\otimes {{\\left|11000\\right\\rangle }} - 2 {{\\left|01011\\right\\rangle }}\\otimes {{\\left|11011\\right\\rangle }} - 2 {{\\left|01011\\right\\rangle }}\\otimes {{\\left|11100\\right\\rangle }} + 2 {{\\left|01011\\right\\rangle }}\\otimes {{\\left|11111\\right\\rangle }} + 2 {{\\left|01101\\right\\rangle }}\\otimes {{\\left|00000\\right\\rangle }} - 2 {{\\left|01101\\right\\rangle }}\\otimes {{\\left|00011\\right\\rangle }} + 2 {{\\left|01101\\right\\rangle }}\\otimes {{\\left|00100\\right\\rangle }} - 2 {{\\left|01101\\right\\rangle }}\\otimes {{\\left|00111\\right\\rangle }} - 2 {{\\left|01101\\right\\rangle }}\\otimes {{\\left|01000\\right\\rangle }} + 2 {{\\left|01101\\right\\rangle }}\\otimes {{\\left|01011\\right\\rangle }} - 2 {{\\left|01101\\right\\rangle }}\\otimes {{\\left|01100\\right\\rangle }} + 2 {{\\left|01101\\right\\rangle }}\\otimes {{\\left|01111\\right\\rangle }} + 2 {{\\left|01101\\right\\rangle }}\\otimes {{\\left|10000\\right\\rangle }} - 2 {{\\left|01101\\right\\rangle }}\\otimes {{\\left|10011\\right\\rangle }} + 2 {{\\left|01101\\right\\rangle }}\\otimes {{\\left|10100\\right\\rangle }} - 2 {{\\left|01101\\right\\rangle }}\\otimes {{\\left|10111\\right\\rangle }} - 2 {{\\left|01101\\right\\rangle }}\\otimes {{\\left|11000\\right\\rangle }} + 2 {{\\left|01101\\right\\rangle }}\\otimes {{\\left|11011\\right\\rangle }} - 2 {{\\left|01101\\right\\rangle }}\\otimes {{\\left|11100\\right\\rangle }} + 2 {{\\left|01101\\right\\rangle }}\\otimes {{\\left|11111\\right\\rangle }} + 2 {{\\left|01111\\right\\rangle }}\\otimes {{\\left|00000\\right\\rangle }} - 2 {{\\left|01111\\right\\rangle }}\\otimes {{\\left|00011\\right\\rangle }} - 2 {{\\left|01111\\right\\rangle }}\\otimes {{\\left|00100\\right\\rangle }} + 2 {{\\left|01111\\right\\rangle }}\\otimes {{\\left|00111\\right\\rangle }} - 2 {{\\left|01111\\right\\rangle }}\\otimes {{\\left|01000\\right\\rangle }} + 2 {{\\left|01111\\right\\rangle }}\\otimes {{\\left|01011\\right\\rangle }} + 2 {{\\left|01111\\right\\rangle }}\\otimes {{\\left|01100\\right\\rangle }} - 2 {{\\left|01111\\right\\rangle }}\\otimes {{\\left|01111\\right\\rangle }} + 2 {{\\left|01111\\right\\rangle }}\\otimes {{\\left|10000\\right\\rangle }} - 2 {{\\left|01111\\right\\rangle }}\\otimes {{\\left|10011\\right\\rangle }} - 2 {{\\left|01111\\right\\rangle }}\\otimes {{\\left|10100\\right\\rangle }} + 2 {{\\left|01111\\right\\rangle }}\\otimes {{\\left|10111\\right\\rangle }} - 2 {{\\left|01111\\right\\rangle }}\\otimes {{\\left|11000\\right\\rangle }} + 2 {{\\left|01111\\right\\rangle }}\\otimes {{\\left|11011\\right\\rangle }} + 2 {{\\left|01111\\right\\rangle }}\\otimes {{\\left|11100\\right\\rangle }} - 2 {{\\left|01111\\right\\rangle }}\\otimes {{\\left|11111\\right\\rangle }} + 2 {{\\left|10000\\right\\rangle }}\\otimes {{\\left|00000\\right\\rangle }} + 2 {{\\left|10000\\right\\rangle }}\\otimes {{\\left|00011\\right\\rangle }} + 2 {{\\left|10000\\right\\rangle }}\\otimes {{\\left|00100\\right\\rangle }} + 2 {{\\left|10000\\right\\rangle }}\\otimes {{\\left|00111\\right\\rangle }} + 2 {{\\left|10000\\right\\rangle }}\\otimes {{\\left|01000\\right\\rangle }} + 2 {{\\left|10000\\right\\rangle }}\\otimes {{\\left|01011\\right\\rangle }} + 2 {{\\left|10000\\right\\rangle }}\\otimes {{\\left|01100\\right\\rangle }} + 2 {{\\left|10000\\right\\rangle }}\\otimes {{\\left|01111\\right\\rangle }} - 2 {{\\left|10000\\right\\rangle }}\\otimes {{\\left|10000\\right\\rangle }} - 2 {{\\left|10000\\right\\rangle }}\\otimes {{\\left|10011\\right\\rangle }} - 2 {{\\left|10000\\right\\rangle }}\\otimes {{\\left|10100\\right\\rangle }} - 2 {{\\left|10000\\right\\rangle }}\\otimes {{\\left|10111\\right\\rangle }} - 2 {{\\left|10000\\right\\rangle }}\\otimes {{\\left|11000\\right\\rangle }} - 2 {{\\left|10000\\right\\rangle }}\\otimes {{\\left|11011\\right\\rangle }} - 2 {{\\left|10000\\right\\rangle }}\\otimes {{\\left|11100\\right\\rangle }} - 2 {{\\left|10000\\right\\rangle }}\\otimes {{\\left|11111\\right\\rangle }} + 2 {{\\left|10010\\right\\rangle }}\\otimes {{\\left|00000\\right\\rangle }} + 2 {{\\left|10010\\right\\rangle }}\\otimes {{\\left|00011\\right\\rangle }} - 2 {{\\left|10010\\right\\rangle }}\\otimes {{\\left|00100\\right\\rangle }} - 2 {{\\left|10010\\right\\rangle }}\\otimes {{\\left|00111\\right\\rangle }} + 2 {{\\left|10010\\right\\rangle }}\\otimes {{\\left|01000\\right\\rangle }} + 2 {{\\left|10010\\right\\rangle }}\\otimes {{\\left|01011\\right\\rangle }} - 2 {{\\left|10010\\right\\rangle }}\\otimes {{\\left|01100\\right\\rangle }} - 2 {{\\left|10010\\right\\rangle }}\\otimes {{\\left|01111\\right\\rangle }} - 2 {{\\left|10010\\right\\rangle }}\\otimes {{\\left|10000\\right\\rangle }} - 2 {{\\left|10010\\right\\rangle }}\\otimes {{\\left|10011\\right\\rangle }} + 2 {{\\left|10010\\right\\rangle }}\\otimes {{\\left|10100\\right\\rangle }} + 2 {{\\left|10010\\right\\rangle }}\\otimes {{\\left|10111\\right\\rangle }} - 2 {{\\left|10010\\right\\rangle }}\\otimes {{\\left|11000\\right\\rangle }} - 2 {{\\left|10010\\right\\rangle }}\\otimes {{\\left|11011\\right\\rangle }} + 2 {{\\left|10010\\right\\rangle }}\\otimes {{\\left|11100\\right\\rangle }} + 2 {{\\left|10010\\right\\rangle }}\\otimes {{\\left|11111\\right\\rangle }} + 2 {{\\left|10100\\right\\rangle }}\\otimes {{\\left|00000\\right\\rangle }} + 2 {{\\left|10100\\right\\rangle }}\\otimes {{\\left|00011\\right\\rangle }} + 2 {{\\left|10100\\right\\rangle }}\\otimes {{\\left|00100\\right\\rangle }} + 2 {{\\left|10100\\right\\rangle }}\\otimes {{\\left|00111\\right\\rangle }} - 2 {{\\left|10100\\right\\rangle }}\\otimes {{\\left|01000\\right\\rangle }} - 2 {{\\left|10100\\right\\rangle }}\\otimes {{\\left|01011\\right\\rangle }} - 2 {{\\left|10100\\right\\rangle }}\\otimes {{\\left|01100\\right\\rangle }} - 2 {{\\left|10100\\right\\rangle }}\\otimes {{\\left|01111\\right\\rangle }} - 2 {{\\left|10100\\right\\rangle }}\\otimes {{\\left|10000\\right\\rangle }} - 2 {{\\left|10100\\right\\rangle }}\\otimes {{\\left|10011\\right\\rangle }} - 2 {{\\left|10100\\right\\rangle }}\\otimes {{\\left|10100\\right\\rangle }} - 2 {{\\left|10100\\right\\rangle }}\\otimes {{\\left|10111\\right\\rangle }} + 2 {{\\left|10100\\right\\rangle }}\\otimes {{\\left|11000\\right\\rangle }} + 2 {{\\left|10100\\right\\rangle }}\\otimes {{\\left|11011\\right\\rangle }} + 2 {{\\left|10100\\right\\rangle }}\\otimes {{\\left|11100\\right\\rangle }} + 2 {{\\left|10100\\right\\rangle }}\\otimes {{\\left|11111\\right\\rangle }} + 2 {{\\left|10110\\right\\rangle }}\\otimes {{\\left|00000\\right\\rangle }} + 2 {{\\left|10110\\right\\rangle }}\\otimes {{\\left|00011\\right\\rangle }} - 2 {{\\left|10110\\right\\rangle }}\\otimes {{\\left|00100\\right\\rangle }} - 2 {{\\left|10110\\right\\rangle }}\\otimes {{\\left|00111\\right\\rangle }} - 2 {{\\left|10110\\right\\rangle }}\\otimes {{\\left|01000\\right\\rangle }} - 2 {{\\left|10110\\right\\rangle }}\\otimes {{\\left|01011\\right\\rangle }} + 2 {{\\left|10110\\right\\rangle }}\\otimes {{\\left|01100\\right\\rangle }} + 2 {{\\left|10110\\right\\rangle }}\\otimes {{\\left|01111\\right\\rangle }} - 2 {{\\left|10110\\right\\rangle }}\\otimes {{\\left|10000\\right\\rangle }} - 2 {{\\left|10110\\right\\rangle }}\\otimes {{\\left|10011\\right\\rangle }} + 2 {{\\left|10110\\right\\rangle }}\\otimes {{\\left|10100\\right\\rangle }} + 2 {{\\left|10110\\right\\rangle }}\\otimes {{\\left|10111\\right\\rangle }} + 2 {{\\left|10110\\right\\rangle }}\\otimes {{\\left|11000\\right\\rangle }} + 2 {{\\left|10110\\right\\rangle }}\\otimes {{\\left|11011\\right\\rangle }} - 2 {{\\left|10110\\right\\rangle }}\\otimes {{\\left|11100\\right\\rangle }} - 2 {{\\left|10110\\right\\rangle }}\\otimes {{\\left|11111\\right\\rangle }} + 2 {{\\left|11001\\right\\rangle }}\\otimes {{\\left|00000\\right\\rangle }} - 2 {{\\left|11001\\right\\rangle }}\\otimes {{\\left|00011\\right\\rangle }} + 2 {{\\left|11001\\right\\rangle }}\\otimes {{\\left|00100\\right\\rangle }} - 2 {{\\left|11001\\right\\rangle }}\\otimes {{\\left|00111\\right\\rangle }} + 2 {{\\left|11001\\right\\rangle }}\\otimes {{\\left|01000\\right\\rangle }} - 2 {{\\left|11001\\right\\rangle }}\\otimes {{\\left|01011\\right\\rangle }} + 2 {{\\left|11001\\right\\rangle }}\\otimes {{\\left|01100\\right\\rangle }} - 2 {{\\left|11001\\right\\rangle }}\\otimes {{\\left|01111\\right\\rangle }} - 2 {{\\left|11001\\right\\rangle }}\\otimes {{\\left|10000\\right\\rangle }} + 2 {{\\left|11001\\right\\rangle }}\\otimes {{\\left|10011\\right\\rangle }} - 2 {{\\left|11001\\right\\rangle }}\\otimes {{\\left|10100\\right\\rangle }} + 2 {{\\left|11001\\right\\rangle }}\\otimes {{\\left|10111\\right\\rangle }} - 2 {{\\left|11001\\right\\rangle }}\\otimes {{\\left|11000\\right\\rangle }} + 2 {{\\left|11001\\right\\rangle }}\\otimes {{\\left|11011\\right\\rangle }} - 2 {{\\left|11001\\right\\rangle }}\\otimes {{\\left|11100\\right\\rangle }} + 2 {{\\left|11001\\right\\rangle }}\\otimes {{\\left|11111\\right\\rangle }} + 2 {{\\left|11011\\right\\rangle }}\\otimes {{\\left|00000\\right\\rangle }} - 2 {{\\left|11011\\right\\rangle }}\\otimes {{\\left|00011\\right\\rangle }} - 2 {{\\left|11011\\right\\rangle }}\\otimes {{\\left|00100\\right\\rangle }} + 2 {{\\left|11011\\right\\rangle }}\\otimes {{\\left|00111\\right\\rangle }} + 2 {{\\left|11011\\right\\rangle }}\\otimes {{\\left|01000\\right\\rangle }} - 2 {{\\left|11011\\right\\rangle }}\\otimes {{\\left|01011\\right\\rangle }} - 2 {{\\left|11011\\right\\rangle }}\\otimes {{\\left|01100\\right\\rangle }} + 2 {{\\left|11011\\right\\rangle }}\\otimes {{\\left|01111\\right\\rangle }} - 2 {{\\left|11011\\right\\rangle }}\\otimes {{\\left|10000\\right\\rangle }} + 2 {{\\left|11011\\right\\rangle }}\\otimes {{\\left|10011\\right\\rangle }} + 2 {{\\left|11011\\right\\rangle }}\\otimes {{\\left|10100\\right\\rangle }} - 2 {{\\left|11011\\right\\rangle }}\\otimes {{\\left|10111\\right\\rangle }} - 2 {{\\left|11011\\right\\rangle }}\\otimes {{\\left|11000\\right\\rangle }} + 2 {{\\left|11011\\right\\rangle }}\\otimes {{\\left|11011\\right\\rangle }} + 2 {{\\left|11011\\right\\rangle }}\\otimes {{\\left|11100\\right\\rangle }} - 2 {{\\left|11011\\right\\rangle }}\\otimes {{\\left|11111\\right\\rangle }} + 2 {{\\left|11101\\right\\rangle }}\\otimes {{\\left|00000\\right\\rangle }} - 2 {{\\left|11101\\right\\rangle }}\\otimes {{\\left|00011\\right\\rangle }} + 2 {{\\left|11101\\right\\rangle }}\\otimes {{\\left|00100\\right\\rangle }} - 2 {{\\left|11101\\right\\rangle }}\\otimes {{\\left|00111\\right\\rangle }} - 2 {{\\left|11101\\right\\rangle }}\\otimes {{\\left|01000\\right\\rangle }} + 2 {{\\left|11101\\right\\rangle }}\\otimes {{\\left|01011\\right\\rangle }} - 2 {{\\left|11101\\right\\rangle }}\\otimes {{\\left|01100\\right\\rangle }} + 2 {{\\left|11101\\right\\rangle }}\\otimes {{\\left|01111\\right\\rangle }} - 2 {{\\left|11101\\right\\rangle }}\\otimes {{\\left|10000\\right\\rangle }} + 2 {{\\left|11101\\right\\rangle }}\\otimes {{\\left|10011\\right\\rangle }} - 2 {{\\left|11101\\right\\rangle }}\\otimes {{\\left|10100\\right\\rangle }} + 2 {{\\left|11101\\right\\rangle }}\\otimes {{\\left|10111\\right\\rangle }} + 2 {{\\left|11101\\right\\rangle }}\\otimes {{\\left|11000\\right\\rangle }} - 2 {{\\left|11101\\right\\rangle }}\\otimes {{\\left|11011\\right\\rangle }} + 2 {{\\left|11101\\right\\rangle }}\\otimes {{\\left|11100\\right\\rangle }} - 2 {{\\left|11101\\right\\rangle }}\\otimes {{\\left|11111\\right\\rangle }} + 2 {{\\left|11111\\right\\rangle }}\\otimes {{\\left|00000\\right\\rangle }} - 2 {{\\left|11111\\right\\rangle }}\\otimes {{\\left|00011\\right\\rangle }} - 2 {{\\left|11111\\right\\rangle }}\\otimes {{\\left|00100\\right\\rangle }} + 2 {{\\left|11111\\right\\rangle }}\\otimes {{\\left|00111\\right\\rangle }} - 2 {{\\left|11111\\right\\rangle }}\\otimes {{\\left|01000\\right\\rangle }} + 2 {{\\left|11111\\right\\rangle }}\\otimes {{\\left|01011\\right\\rangle }} + 2 {{\\left|11111\\right\\rangle }}\\otimes {{\\left|01100\\right\\rangle }} - 2 {{\\left|11111\\right\\rangle }}\\otimes {{\\left|01111\\right\\rangle }} - 2 {{\\left|11111\\right\\rangle }}\\otimes {{\\left|10000\\right\\rangle }} + 2 {{\\left|11111\\right\\rangle }}\\otimes {{\\left|10011\\right\\rangle }} + 2 {{\\left|11111\\right\\rangle }}\\otimes {{\\left|10100\\right\\rangle }} - 2 {{\\left|11111\\right\\rangle }}\\otimes {{\\left|10111\\right\\rangle }} + 2 {{\\left|11111\\right\\rangle }}\\otimes {{\\left|11000\\right\\rangle }} - 2 {{\\left|11111\\right\\rangle }}\\otimes {{\\left|11011\\right\\rangle }} - 2 {{\\left|11111\\right\\rangle }}\\otimes {{\\left|11100\\right\\rangle }} + 2 {{\\left|11111\\right\\rangle }}\\otimes {{\\left|11111\\right\\rangle }}}{32}$"
      ],
      "text/plain": [
       "Eq(|varphi_3>, (2*|00000>x|00000> + 2*|00000>x|00011> + 2*|00000>x|00100> + 2*|00000>x|00111> + 2*|00000>x|01000> + 2*|00000>x|01011> + 2*|00000>x|01100> + 2*|00000>x|01111> + 2*|00000>x|10000> + 2*|00000>x|10011> + 2*|00000>x|10100> + 2*|00000>x|10111> + 2*|00000>x|11000> + 2*|00000>x|11011> + 2*|00000>x|11100> + 2*|00000>x|11111> + 2*|00010>x|00000> + 2*|00010>x|00011> - 2*|00010>x|00100> - 2*|00010>x|00111> + 2*|00010>x|01000> + 2*|00010>x|01011> - 2*|00010>x|01100> - 2*|00010>x|01111> + 2*|00010>x|10000> + 2*|00010>x|10011> - 2*|00010>x|10100> - 2*|00010>x|10111> + 2*|00010>x|11000> + 2*|00010>x|11011> - 2*|00010>x|11100> - 2*|00010>x|11111> + 2*|00100>x|00000> + 2*|00100>x|00011> + 2*|00100>x|00100> + 2*|00100>x|00111> - 2*|00100>x|01000> - 2*|00100>x|01011> - 2*|00100>x|01100> - 2*|00100>x|01111> + 2*|00100>x|10000> + 2*|00100>x|10011> + 2*|00100>x|10100> + 2*|00100>x|10111> - 2*|00100>x|11000> - 2*|00100>x|11011> - 2*|00100>x|11100> - 2*|00100>x|11111> + 2*|00110>x|00000> + 2*|00110>x|00011> - 2*|00110>x|00100> - 2*|00110>x|00111> - 2*|00110>x|01000> - 2*|00110>x|01011> + 2*|00110>x|01100> + 2*|00110>x|01111> + 2*|00110>x|10000> + 2*|00110>x|10011> - 2*|00110>x|10100> - 2*|00110>x|10111> - 2*|00110>x|11000> - 2*|00110>x|11011> + 2*|00110>x|11100> + 2*|00110>x|11111> + 2*|01001>x|00000> - 2*|01001>x|00011> + 2*|01001>x|00100> - 2*|01001>x|00111> + 2*|01001>x|01000> - 2*|01001>x|01011> + 2*|01001>x|01100> - 2*|01001>x|01111> + 2*|01001>x|10000> - 2*|01001>x|10011> + 2*|01001>x|10100> - 2*|01001>x|10111> + 2*|01001>x|11000> - 2*|01001>x|11011> + 2*|01001>x|11100> - 2*|01001>x|11111> + 2*|01011>x|00000> - 2*|01011>x|00011> - 2*|01011>x|00100> + 2*|01011>x|00111> + 2*|01011>x|01000> - 2*|01011>x|01011> - 2*|01011>x|01100> + 2*|01011>x|01111> + 2*|01011>x|10000> - 2*|01011>x|10011> - 2*|01011>x|10100> + 2*|01011>x|10111> + 2*|01011>x|11000> - 2*|01011>x|11011> - 2*|01011>x|11100> + 2*|01011>x|11111> + 2*|01101>x|00000> - 2*|01101>x|00011> + 2*|01101>x|00100> - 2*|01101>x|00111> - 2*|01101>x|01000> + 2*|01101>x|01011> - 2*|01101>x|01100> + 2*|01101>x|01111> + 2*|01101>x|10000> - 2*|01101>x|10011> + 2*|01101>x|10100> - 2*|01101>x|10111> - 2*|01101>x|11000> + 2*|01101>x|11011> - 2*|01101>x|11100> + 2*|01101>x|11111> + 2*|01111>x|00000> - 2*|01111>x|00011> - 2*|01111>x|00100> + 2*|01111>x|00111> - 2*|01111>x|01000> + 2*|01111>x|01011> + 2*|01111>x|01100> - 2*|01111>x|01111> + 2*|01111>x|10000> - 2*|01111>x|10011> - 2*|01111>x|10100> + 2*|01111>x|10111> - 2*|01111>x|11000> + 2*|01111>x|11011> + 2*|01111>x|11100> - 2*|01111>x|11111> + 2*|10000>x|00000> + 2*|10000>x|00011> + 2*|10000>x|00100> + 2*|10000>x|00111> + 2*|10000>x|01000> + 2*|10000>x|01011> + 2*|10000>x|01100> + 2*|10000>x|01111> - 2*|10000>x|10000> - 2*|10000>x|10011> - 2*|10000>x|10100> - 2*|10000>x|10111> - 2*|10000>x|11000> - 2*|10000>x|11011> - 2*|10000>x|11100> - 2*|10000>x|11111> + 2*|10010>x|00000> + 2*|10010>x|00011> - 2*|10010>x|00100> - 2*|10010>x|00111> + 2*|10010>x|01000> + 2*|10010>x|01011> - 2*|10010>x|01100> - 2*|10010>x|01111> - 2*|10010>x|10000> - 2*|10010>x|10011> + 2*|10010>x|10100> + 2*|10010>x|10111> - 2*|10010>x|11000> - 2*|10010>x|11011> + 2*|10010>x|11100> + 2*|10010>x|11111> + 2*|10100>x|00000> + 2*|10100>x|00011> + 2*|10100>x|00100> + 2*|10100>x|00111> - 2*|10100>x|01000> - 2*|10100>x|01011> - 2*|10100>x|01100> - 2*|10100>x|01111> - 2*|10100>x|10000> - 2*|10100>x|10011> - 2*|10100>x|10100> - 2*|10100>x|10111> + 2*|10100>x|11000> + 2*|10100>x|11011> + 2*|10100>x|11100> + 2*|10100>x|11111> + 2*|10110>x|00000> + 2*|10110>x|00011> - 2*|10110>x|00100> - 2*|10110>x|00111> - 2*|10110>x|01000> - 2*|10110>x|01011> + 2*|10110>x|01100> + 2*|10110>x|01111> - 2*|10110>x|10000> - 2*|10110>x|10011> + 2*|10110>x|10100> + 2*|10110>x|10111> + 2*|10110>x|11000> + 2*|10110>x|11011> - 2*|10110>x|11100> - 2*|10110>x|11111> + 2*|11001>x|00000> - 2*|11001>x|00011> + 2*|11001>x|00100> - 2*|11001>x|00111> + 2*|11001>x|01000> - 2*|11001>x|01011> + 2*|11001>x|01100> - 2*|11001>x|01111> - 2*|11001>x|10000> + 2*|11001>x|10011> - 2*|11001>x|10100> + 2*|11001>x|10111> - 2*|11001>x|11000> + 2*|11001>x|11011> - 2*|11001>x|11100> + 2*|11001>x|11111> + 2*|11011>x|00000> - 2*|11011>x|00011> - 2*|11011>x|00100> + 2*|11011>x|00111> + 2*|11011>x|01000> - 2*|11011>x|01011> - 2*|11011>x|01100> + 2*|11011>x|01111> - 2*|11011>x|10000> + 2*|11011>x|10011> + 2*|11011>x|10100> - 2*|11011>x|10111> - 2*|11011>x|11000> + 2*|11011>x|11011> + 2*|11011>x|11100> - 2*|11011>x|11111> + 2*|11101>x|00000> - 2*|11101>x|00011> + 2*|11101>x|00100> - 2*|11101>x|00111> - 2*|11101>x|01000> + 2*|11101>x|01011> - 2*|11101>x|01100> + 2*|11101>x|01111> - 2*|11101>x|10000> + 2*|11101>x|10011> - 2*|11101>x|10100> + 2*|11101>x|10111> + 2*|11101>x|11000> - 2*|11101>x|11011> + 2*|11101>x|11100> - 2*|11101>x|11111> + 2*|11111>x|00000> - 2*|11111>x|00011> - 2*|11111>x|00100> + 2*|11111>x|00111> - 2*|11111>x|01000> + 2*|11111>x|01011> + 2*|11111>x|01100> - 2*|11111>x|01111> - 2*|11111>x|10000> + 2*|11111>x|10011> + 2*|11111>x|10100> - 2*|11111>x|10111> + 2*|11111>x|11000> - 2*|11111>x|11011> - 2*|11111>x|11100> + 2*|11111>x|11111>)/32)"
      ]
     },
     "execution_count": 20,
     "metadata": {},
     "output_type": "execute_result"
    }
   ],
   "source": [
    "perm = list(itertools.product([0,1], repeat=5))\n",
    "phi3 = spq.Ket(sp.Symbol(\"varphi_3\"))\n",
    "eq3 = sp.Eq(phi3, sp.Rational(1,2**5)*(sum([(-1)**(sp.Matrix(z).T.dot(sp.Matrix(x)))*spq.TensorProduct(spq.Ket(*z), spq.Ket(*f(x))) for x in perm for z in perm])))\n",
    "eq3"
   ]
  },
  {
   "cell_type": "code",
   "execution_count": null,
   "metadata": {},
   "outputs": [
    {
     "data": {
      "text/latex": [
       "$\\displaystyle \\frac{{{\\left|00000\\right\\rangle }}\\otimes {{\\left|00000\\right\\rangle }} + {{\\left|00000\\right\\rangle }}\\otimes {{\\left|00011\\right\\rangle }} + {{\\left|00000\\right\\rangle }}\\otimes {{\\left|00100\\right\\rangle }} + {{\\left|00000\\right\\rangle }}\\otimes {{\\left|00111\\right\\rangle }} + {{\\left|00000\\right\\rangle }}\\otimes {{\\left|01000\\right\\rangle }} + {{\\left|00000\\right\\rangle }}\\otimes {{\\left|01011\\right\\rangle }} + {{\\left|00000\\right\\rangle }}\\otimes {{\\left|01100\\right\\rangle }} + {{\\left|00000\\right\\rangle }}\\otimes {{\\left|01111\\right\\rangle }} + {{\\left|00000\\right\\rangle }}\\otimes {{\\left|10000\\right\\rangle }} + {{\\left|00000\\right\\rangle }}\\otimes {{\\left|10011\\right\\rangle }} + {{\\left|00000\\right\\rangle }}\\otimes {{\\left|10100\\right\\rangle }} + {{\\left|00000\\right\\rangle }}\\otimes {{\\left|10111\\right\\rangle }} + {{\\left|00000\\right\\rangle }}\\otimes {{\\left|11000\\right\\rangle }} + {{\\left|00000\\right\\rangle }}\\otimes {{\\left|11011\\right\\rangle }} + {{\\left|00000\\right\\rangle }}\\otimes {{\\left|11100\\right\\rangle }} + {{\\left|00000\\right\\rangle }}\\otimes {{\\left|11111\\right\\rangle }} + {{\\left|00010\\right\\rangle }}\\otimes {{\\left|00000\\right\\rangle }} + {{\\left|00010\\right\\rangle }}\\otimes {{\\left|00011\\right\\rangle }} - {{\\left|00010\\right\\rangle }}\\otimes {{\\left|00100\\right\\rangle }} - {{\\left|00010\\right\\rangle }}\\otimes {{\\left|00111\\right\\rangle }} + {{\\left|00010\\right\\rangle }}\\otimes {{\\left|01000\\right\\rangle }} + {{\\left|00010\\right\\rangle }}\\otimes {{\\left|01011\\right\\rangle }} - {{\\left|00010\\right\\rangle }}\\otimes {{\\left|01100\\right\\rangle }} - {{\\left|00010\\right\\rangle }}\\otimes {{\\left|01111\\right\\rangle }} + {{\\left|00010\\right\\rangle }}\\otimes {{\\left|10000\\right\\rangle }} + {{\\left|00010\\right\\rangle }}\\otimes {{\\left|10011\\right\\rangle }} - {{\\left|00010\\right\\rangle }}\\otimes {{\\left|10100\\right\\rangle }} - {{\\left|00010\\right\\rangle }}\\otimes {{\\left|10111\\right\\rangle }} + {{\\left|00010\\right\\rangle }}\\otimes {{\\left|11000\\right\\rangle }} + {{\\left|00010\\right\\rangle }}\\otimes {{\\left|11011\\right\\rangle }} - {{\\left|00010\\right\\rangle }}\\otimes {{\\left|11100\\right\\rangle }} - {{\\left|00010\\right\\rangle }}\\otimes {{\\left|11111\\right\\rangle }} + {{\\left|00100\\right\\rangle }}\\otimes {{\\left|00000\\right\\rangle }} + {{\\left|00100\\right\\rangle }}\\otimes {{\\left|00011\\right\\rangle }} + {{\\left|00100\\right\\rangle }}\\otimes {{\\left|00100\\right\\rangle }} + {{\\left|00100\\right\\rangle }}\\otimes {{\\left|00111\\right\\rangle }} - {{\\left|00100\\right\\rangle }}\\otimes {{\\left|01000\\right\\rangle }} - {{\\left|00100\\right\\rangle }}\\otimes {{\\left|01011\\right\\rangle }} - {{\\left|00100\\right\\rangle }}\\otimes {{\\left|01100\\right\\rangle }} - {{\\left|00100\\right\\rangle }}\\otimes {{\\left|01111\\right\\rangle }} + {{\\left|00100\\right\\rangle }}\\otimes {{\\left|10000\\right\\rangle }} + {{\\left|00100\\right\\rangle }}\\otimes {{\\left|10011\\right\\rangle }} + {{\\left|00100\\right\\rangle }}\\otimes {{\\left|10100\\right\\rangle }} + {{\\left|00100\\right\\rangle }}\\otimes {{\\left|10111\\right\\rangle }} - {{\\left|00100\\right\\rangle }}\\otimes {{\\left|11000\\right\\rangle }} - {{\\left|00100\\right\\rangle }}\\otimes {{\\left|11011\\right\\rangle }} - {{\\left|00100\\right\\rangle }}\\otimes {{\\left|11100\\right\\rangle }} - {{\\left|00100\\right\\rangle }}\\otimes {{\\left|11111\\right\\rangle }} + {{\\left|00110\\right\\rangle }}\\otimes {{\\left|00000\\right\\rangle }} + {{\\left|00110\\right\\rangle }}\\otimes {{\\left|00011\\right\\rangle }} - {{\\left|00110\\right\\rangle }}\\otimes {{\\left|00100\\right\\rangle }} - {{\\left|00110\\right\\rangle }}\\otimes {{\\left|00111\\right\\rangle }} - {{\\left|00110\\right\\rangle }}\\otimes {{\\left|01000\\right\\rangle }} - {{\\left|00110\\right\\rangle }}\\otimes {{\\left|01011\\right\\rangle }} + {{\\left|00110\\right\\rangle }}\\otimes {{\\left|01100\\right\\rangle }} + {{\\left|00110\\right\\rangle }}\\otimes {{\\left|01111\\right\\rangle }} + {{\\left|00110\\right\\rangle }}\\otimes {{\\left|10000\\right\\rangle }} + {{\\left|00110\\right\\rangle }}\\otimes {{\\left|10011\\right\\rangle }} - {{\\left|00110\\right\\rangle }}\\otimes {{\\left|10100\\right\\rangle }} - {{\\left|00110\\right\\rangle }}\\otimes {{\\left|10111\\right\\rangle }} - {{\\left|00110\\right\\rangle }}\\otimes {{\\left|11000\\right\\rangle }} - {{\\left|00110\\right\\rangle }}\\otimes {{\\left|11011\\right\\rangle }} + {{\\left|00110\\right\\rangle }}\\otimes {{\\left|11100\\right\\rangle }} + {{\\left|00110\\right\\rangle }}\\otimes {{\\left|11111\\right\\rangle }} + {{\\left|01001\\right\\rangle }}\\otimes {{\\left|00000\\right\\rangle }} - {{\\left|01001\\right\\rangle }}\\otimes {{\\left|00011\\right\\rangle }} + {{\\left|01001\\right\\rangle }}\\otimes {{\\left|00100\\right\\rangle }} - {{\\left|01001\\right\\rangle }}\\otimes {{\\left|00111\\right\\rangle }} + {{\\left|01001\\right\\rangle }}\\otimes {{\\left|01000\\right\\rangle }} - {{\\left|01001\\right\\rangle }}\\otimes {{\\left|01011\\right\\rangle }} + {{\\left|01001\\right\\rangle }}\\otimes {{\\left|01100\\right\\rangle }} - {{\\left|01001\\right\\rangle }}\\otimes {{\\left|01111\\right\\rangle }} + {{\\left|01001\\right\\rangle }}\\otimes {{\\left|10000\\right\\rangle }} - {{\\left|01001\\right\\rangle }}\\otimes {{\\left|10011\\right\\rangle }} + {{\\left|01001\\right\\rangle }}\\otimes {{\\left|10100\\right\\rangle }} - {{\\left|01001\\right\\rangle }}\\otimes {{\\left|10111\\right\\rangle }} + {{\\left|01001\\right\\rangle }}\\otimes {{\\left|11000\\right\\rangle }} - {{\\left|01001\\right\\rangle }}\\otimes {{\\left|11011\\right\\rangle }} + {{\\left|01001\\right\\rangle }}\\otimes {{\\left|11100\\right\\rangle }} - {{\\left|01001\\right\\rangle }}\\otimes {{\\left|11111\\right\\rangle }} + {{\\left|01011\\right\\rangle }}\\otimes {{\\left|00000\\right\\rangle }} - {{\\left|01011\\right\\rangle }}\\otimes {{\\left|00011\\right\\rangle }} - {{\\left|01011\\right\\rangle }}\\otimes {{\\left|00100\\right\\rangle }} + {{\\left|01011\\right\\rangle }}\\otimes {{\\left|00111\\right\\rangle }} + {{\\left|01011\\right\\rangle }}\\otimes {{\\left|01000\\right\\rangle }} - {{\\left|01011\\right\\rangle }}\\otimes {{\\left|01011\\right\\rangle }} - {{\\left|01011\\right\\rangle }}\\otimes {{\\left|01100\\right\\rangle }} + {{\\left|01011\\right\\rangle }}\\otimes {{\\left|01111\\right\\rangle }} + {{\\left|01011\\right\\rangle }}\\otimes {{\\left|10000\\right\\rangle }} - {{\\left|01011\\right\\rangle }}\\otimes {{\\left|10011\\right\\rangle }} - {{\\left|01011\\right\\rangle }}\\otimes {{\\left|10100\\right\\rangle }} + {{\\left|01011\\right\\rangle }}\\otimes {{\\left|10111\\right\\rangle }} + {{\\left|01011\\right\\rangle }}\\otimes {{\\left|11000\\right\\rangle }} - {{\\left|01011\\right\\rangle }}\\otimes {{\\left|11011\\right\\rangle }} - {{\\left|01011\\right\\rangle }}\\otimes {{\\left|11100\\right\\rangle }} + {{\\left|01011\\right\\rangle }}\\otimes {{\\left|11111\\right\\rangle }} + {{\\left|01101\\right\\rangle }}\\otimes {{\\left|00000\\right\\rangle }} - {{\\left|01101\\right\\rangle }}\\otimes {{\\left|00011\\right\\rangle }} + {{\\left|01101\\right\\rangle }}\\otimes {{\\left|00100\\right\\rangle }} - {{\\left|01101\\right\\rangle }}\\otimes {{\\left|00111\\right\\rangle }} - {{\\left|01101\\right\\rangle }}\\otimes {{\\left|01000\\right\\rangle }} + {{\\left|01101\\right\\rangle }}\\otimes {{\\left|01011\\right\\rangle }} - {{\\left|01101\\right\\rangle }}\\otimes {{\\left|01100\\right\\rangle }} + {{\\left|01101\\right\\rangle }}\\otimes {{\\left|01111\\right\\rangle }} + {{\\left|01101\\right\\rangle }}\\otimes {{\\left|10000\\right\\rangle }} - {{\\left|01101\\right\\rangle }}\\otimes {{\\left|10011\\right\\rangle }} + {{\\left|01101\\right\\rangle }}\\otimes {{\\left|10100\\right\\rangle }} - {{\\left|01101\\right\\rangle }}\\otimes {{\\left|10111\\right\\rangle }} - {{\\left|01101\\right\\rangle }}\\otimes {{\\left|11000\\right\\rangle }} + {{\\left|01101\\right\\rangle }}\\otimes {{\\left|11011\\right\\rangle }} - {{\\left|01101\\right\\rangle }}\\otimes {{\\left|11100\\right\\rangle }} + {{\\left|01101\\right\\rangle }}\\otimes {{\\left|11111\\right\\rangle }} + {{\\left|01111\\right\\rangle }}\\otimes {{\\left|00000\\right\\rangle }} - {{\\left|01111\\right\\rangle }}\\otimes {{\\left|00011\\right\\rangle }} - {{\\left|01111\\right\\rangle }}\\otimes {{\\left|00100\\right\\rangle }} + {{\\left|01111\\right\\rangle }}\\otimes {{\\left|00111\\right\\rangle }} - {{\\left|01111\\right\\rangle }}\\otimes {{\\left|01000\\right\\rangle }} + {{\\left|01111\\right\\rangle }}\\otimes {{\\left|01011\\right\\rangle }} + {{\\left|01111\\right\\rangle }}\\otimes {{\\left|01100\\right\\rangle }} - {{\\left|01111\\right\\rangle }}\\otimes {{\\left|01111\\right\\rangle }} + {{\\left|01111\\right\\rangle }}\\otimes {{\\left|10000\\right\\rangle }} - {{\\left|01111\\right\\rangle }}\\otimes {{\\left|10011\\right\\rangle }} - {{\\left|01111\\right\\rangle }}\\otimes {{\\left|10100\\right\\rangle }} + {{\\left|01111\\right\\rangle }}\\otimes {{\\left|10111\\right\\rangle }} - {{\\left|01111\\right\\rangle }}\\otimes {{\\left|11000\\right\\rangle }} + {{\\left|01111\\right\\rangle }}\\otimes {{\\left|11011\\right\\rangle }} + {{\\left|01111\\right\\rangle }}\\otimes {{\\left|11100\\right\\rangle }} - {{\\left|01111\\right\\rangle }}\\otimes {{\\left|11111\\right\\rangle }} + {{\\left|10000\\right\\rangle }}\\otimes {{\\left|00000\\right\\rangle }} + {{\\left|10000\\right\\rangle }}\\otimes {{\\left|00011\\right\\rangle }} + {{\\left|10000\\right\\rangle }}\\otimes {{\\left|00100\\right\\rangle }} + {{\\left|10000\\right\\rangle }}\\otimes {{\\left|00111\\right\\rangle }} + {{\\left|10000\\right\\rangle }}\\otimes {{\\left|01000\\right\\rangle }} + {{\\left|10000\\right\\rangle }}\\otimes {{\\left|01011\\right\\rangle }} + {{\\left|10000\\right\\rangle }}\\otimes {{\\left|01100\\right\\rangle }} + {{\\left|10000\\right\\rangle }}\\otimes {{\\left|01111\\right\\rangle }} - {{\\left|10000\\right\\rangle }}\\otimes {{\\left|10000\\right\\rangle }} - {{\\left|10000\\right\\rangle }}\\otimes {{\\left|10011\\right\\rangle }} - {{\\left|10000\\right\\rangle }}\\otimes {{\\left|10100\\right\\rangle }} - {{\\left|10000\\right\\rangle }}\\otimes {{\\left|10111\\right\\rangle }} - {{\\left|10000\\right\\rangle }}\\otimes {{\\left|11000\\right\\rangle }} - {{\\left|10000\\right\\rangle }}\\otimes {{\\left|11011\\right\\rangle }} - {{\\left|10000\\right\\rangle }}\\otimes {{\\left|11100\\right\\rangle }} - {{\\left|10000\\right\\rangle }}\\otimes {{\\left|11111\\right\\rangle }} + {{\\left|10010\\right\\rangle }}\\otimes {{\\left|00000\\right\\rangle }} + {{\\left|10010\\right\\rangle }}\\otimes {{\\left|00011\\right\\rangle }} - {{\\left|10010\\right\\rangle }}\\otimes {{\\left|00100\\right\\rangle }} - {{\\left|10010\\right\\rangle }}\\otimes {{\\left|00111\\right\\rangle }} + {{\\left|10010\\right\\rangle }}\\otimes {{\\left|01000\\right\\rangle }} + {{\\left|10010\\right\\rangle }}\\otimes {{\\left|01011\\right\\rangle }} - {{\\left|10010\\right\\rangle }}\\otimes {{\\left|01100\\right\\rangle }} - {{\\left|10010\\right\\rangle }}\\otimes {{\\left|01111\\right\\rangle }} - {{\\left|10010\\right\\rangle }}\\otimes {{\\left|10000\\right\\rangle }} - {{\\left|10010\\right\\rangle }}\\otimes {{\\left|10011\\right\\rangle }} + {{\\left|10010\\right\\rangle }}\\otimes {{\\left|10100\\right\\rangle }} + {{\\left|10010\\right\\rangle }}\\otimes {{\\left|10111\\right\\rangle }} - {{\\left|10010\\right\\rangle }}\\otimes {{\\left|11000\\right\\rangle }} - {{\\left|10010\\right\\rangle }}\\otimes {{\\left|11011\\right\\rangle }} + {{\\left|10010\\right\\rangle }}\\otimes {{\\left|11100\\right\\rangle }} + {{\\left|10010\\right\\rangle }}\\otimes {{\\left|11111\\right\\rangle }} + {{\\left|10100\\right\\rangle }}\\otimes {{\\left|00000\\right\\rangle }} + {{\\left|10100\\right\\rangle }}\\otimes {{\\left|00011\\right\\rangle }} + {{\\left|10100\\right\\rangle }}\\otimes {{\\left|00100\\right\\rangle }} + {{\\left|10100\\right\\rangle }}\\otimes {{\\left|00111\\right\\rangle }} - {{\\left|10100\\right\\rangle }}\\otimes {{\\left|01000\\right\\rangle }} - {{\\left|10100\\right\\rangle }}\\otimes {{\\left|01011\\right\\rangle }} - {{\\left|10100\\right\\rangle }}\\otimes {{\\left|01100\\right\\rangle }} - {{\\left|10100\\right\\rangle }}\\otimes {{\\left|01111\\right\\rangle }} - {{\\left|10100\\right\\rangle }}\\otimes {{\\left|10000\\right\\rangle }} - {{\\left|10100\\right\\rangle }}\\otimes {{\\left|10011\\right\\rangle }} - {{\\left|10100\\right\\rangle }}\\otimes {{\\left|10100\\right\\rangle }} - {{\\left|10100\\right\\rangle }}\\otimes {{\\left|10111\\right\\rangle }} + {{\\left|10100\\right\\rangle }}\\otimes {{\\left|11000\\right\\rangle }} + {{\\left|10100\\right\\rangle }}\\otimes {{\\left|11011\\right\\rangle }} + {{\\left|10100\\right\\rangle }}\\otimes {{\\left|11100\\right\\rangle }} + {{\\left|10100\\right\\rangle }}\\otimes {{\\left|11111\\right\\rangle }} + {{\\left|10110\\right\\rangle }}\\otimes {{\\left|00000\\right\\rangle }} + {{\\left|10110\\right\\rangle }}\\otimes {{\\left|00011\\right\\rangle }} - {{\\left|10110\\right\\rangle }}\\otimes {{\\left|00100\\right\\rangle }} - {{\\left|10110\\right\\rangle }}\\otimes {{\\left|00111\\right\\rangle }} - {{\\left|10110\\right\\rangle }}\\otimes {{\\left|01000\\right\\rangle }} - {{\\left|10110\\right\\rangle }}\\otimes {{\\left|01011\\right\\rangle }} + {{\\left|10110\\right\\rangle }}\\otimes {{\\left|01100\\right\\rangle }} + {{\\left|10110\\right\\rangle }}\\otimes {{\\left|01111\\right\\rangle }} - {{\\left|10110\\right\\rangle }}\\otimes {{\\left|10000\\right\\rangle }} - {{\\left|10110\\right\\rangle }}\\otimes {{\\left|10011\\right\\rangle }} + {{\\left|10110\\right\\rangle }}\\otimes {{\\left|10100\\right\\rangle }} + {{\\left|10110\\right\\rangle }}\\otimes {{\\left|10111\\right\\rangle }} + {{\\left|10110\\right\\rangle }}\\otimes {{\\left|11000\\right\\rangle }} + {{\\left|10110\\right\\rangle }}\\otimes {{\\left|11011\\right\\rangle }} - {{\\left|10110\\right\\rangle }}\\otimes {{\\left|11100\\right\\rangle }} - {{\\left|10110\\right\\rangle }}\\otimes {{\\left|11111\\right\\rangle }} + {{\\left|11001\\right\\rangle }}\\otimes {{\\left|00000\\right\\rangle }} - {{\\left|11001\\right\\rangle }}\\otimes {{\\left|00011\\right\\rangle }} + {{\\left|11001\\right\\rangle }}\\otimes {{\\left|00100\\right\\rangle }} - {{\\left|11001\\right\\rangle }}\\otimes {{\\left|00111\\right\\rangle }} + {{\\left|11001\\right\\rangle }}\\otimes {{\\left|01000\\right\\rangle }} - {{\\left|11001\\right\\rangle }}\\otimes {{\\left|01011\\right\\rangle }} + {{\\left|11001\\right\\rangle }}\\otimes {{\\left|01100\\right\\rangle }} - {{\\left|11001\\right\\rangle }}\\otimes {{\\left|01111\\right\\rangle }} - {{\\left|11001\\right\\rangle }}\\otimes {{\\left|10000\\right\\rangle }} + {{\\left|11001\\right\\rangle }}\\otimes {{\\left|10011\\right\\rangle }} - {{\\left|11001\\right\\rangle }}\\otimes {{\\left|10100\\right\\rangle }} + {{\\left|11001\\right\\rangle }}\\otimes {{\\left|10111\\right\\rangle }} - {{\\left|11001\\right\\rangle }}\\otimes {{\\left|11000\\right\\rangle }} + {{\\left|11001\\right\\rangle }}\\otimes {{\\left|11011\\right\\rangle }} - {{\\left|11001\\right\\rangle }}\\otimes {{\\left|11100\\right\\rangle }} + {{\\left|11001\\right\\rangle }}\\otimes {{\\left|11111\\right\\rangle }} + {{\\left|11011\\right\\rangle }}\\otimes {{\\left|00000\\right\\rangle }} - {{\\left|11011\\right\\rangle }}\\otimes {{\\left|00011\\right\\rangle }} - {{\\left|11011\\right\\rangle }}\\otimes {{\\left|00100\\right\\rangle }} + {{\\left|11011\\right\\rangle }}\\otimes {{\\left|00111\\right\\rangle }} + {{\\left|11011\\right\\rangle }}\\otimes {{\\left|01000\\right\\rangle }} - {{\\left|11011\\right\\rangle }}\\otimes {{\\left|01011\\right\\rangle }} - {{\\left|11011\\right\\rangle }}\\otimes {{\\left|01100\\right\\rangle }} + {{\\left|11011\\right\\rangle }}\\otimes {{\\left|01111\\right\\rangle }} - {{\\left|11011\\right\\rangle }}\\otimes {{\\left|10000\\right\\rangle }} + {{\\left|11011\\right\\rangle }}\\otimes {{\\left|10011\\right\\rangle }} + {{\\left|11011\\right\\rangle }}\\otimes {{\\left|10100\\right\\rangle }} - {{\\left|11011\\right\\rangle }}\\otimes {{\\left|10111\\right\\rangle }} - {{\\left|11011\\right\\rangle }}\\otimes {{\\left|11000\\right\\rangle }} + {{\\left|11011\\right\\rangle }}\\otimes {{\\left|11011\\right\\rangle }} + {{\\left|11011\\right\\rangle }}\\otimes {{\\left|11100\\right\\rangle }} - {{\\left|11011\\right\\rangle }}\\otimes {{\\left|11111\\right\\rangle }} + {{\\left|11101\\right\\rangle }}\\otimes {{\\left|00000\\right\\rangle }} - {{\\left|11101\\right\\rangle }}\\otimes {{\\left|00011\\right\\rangle }} + {{\\left|11101\\right\\rangle }}\\otimes {{\\left|00100\\right\\rangle }} - {{\\left|11101\\right\\rangle }}\\otimes {{\\left|00111\\right\\rangle }} - {{\\left|11101\\right\\rangle }}\\otimes {{\\left|01000\\right\\rangle }} + {{\\left|11101\\right\\rangle }}\\otimes {{\\left|01011\\right\\rangle }} - {{\\left|11101\\right\\rangle }}\\otimes {{\\left|01100\\right\\rangle }} + {{\\left|11101\\right\\rangle }}\\otimes {{\\left|01111\\right\\rangle }} - {{\\left|11101\\right\\rangle }}\\otimes {{\\left|10000\\right\\rangle }} + {{\\left|11101\\right\\rangle }}\\otimes {{\\left|10011\\right\\rangle }} - {{\\left|11101\\right\\rangle }}\\otimes {{\\left|10100\\right\\rangle }} + {{\\left|11101\\right\\rangle }}\\otimes {{\\left|10111\\right\\rangle }} + {{\\left|11101\\right\\rangle }}\\otimes {{\\left|11000\\right\\rangle }} - {{\\left|11101\\right\\rangle }}\\otimes {{\\left|11011\\right\\rangle }} + {{\\left|11101\\right\\rangle }}\\otimes {{\\left|11100\\right\\rangle }} - {{\\left|11101\\right\\rangle }}\\otimes {{\\left|11111\\right\\rangle }} + {{\\left|11111\\right\\rangle }}\\otimes {{\\left|00000\\right\\rangle }} - {{\\left|11111\\right\\rangle }}\\otimes {{\\left|00011\\right\\rangle }} - {{\\left|11111\\right\\rangle }}\\otimes {{\\left|00100\\right\\rangle }} + {{\\left|11111\\right\\rangle }}\\otimes {{\\left|00111\\right\\rangle }} - {{\\left|11111\\right\\rangle }}\\otimes {{\\left|01000\\right\\rangle }} + {{\\left|11111\\right\\rangle }}\\otimes {{\\left|01011\\right\\rangle }} + {{\\left|11111\\right\\rangle }}\\otimes {{\\left|01100\\right\\rangle }} - {{\\left|11111\\right\\rangle }}\\otimes {{\\left|01111\\right\\rangle }} - {{\\left|11111\\right\\rangle }}\\otimes {{\\left|10000\\right\\rangle }} + {{\\left|11111\\right\\rangle }}\\otimes {{\\left|10011\\right\\rangle }} + {{\\left|11111\\right\\rangle }}\\otimes {{\\left|10100\\right\\rangle }} - {{\\left|11111\\right\\rangle }}\\otimes {{\\left|10111\\right\\rangle }} + {{\\left|11111\\right\\rangle }}\\otimes {{\\left|11000\\right\\rangle }} - {{\\left|11111\\right\\rangle }}\\otimes {{\\left|11011\\right\\rangle }} - {{\\left|11111\\right\\rangle }}\\otimes {{\\left|11100\\right\\rangle }} + {{\\left|11111\\right\\rangle }}\\otimes {{\\left|11111\\right\\rangle }}}{16}$"
      ],
      "text/plain": [
       "(|00000>x|00000> + |00000>x|00011> + |00000>x|00100> + |00000>x|00111> + |00000>x|01000> + |00000>x|01011> + |00000>x|01100> + |00000>x|01111> + |00000>x|10000> + |00000>x|10011> + |00000>x|10100> + |00000>x|10111> + |00000>x|11000> + |00000>x|11011> + |00000>x|11100> + |00000>x|11111> + |00010>x|00000> + |00010>x|00011> - |00010>x|00100> - |00010>x|00111> + |00010>x|01000> + |00010>x|01011> - |00010>x|01100> - |00010>x|01111> + |00010>x|10000> + |00010>x|10011> - |00010>x|10100> - |00010>x|10111> + |00010>x|11000> + |00010>x|11011> - |00010>x|11100> - |00010>x|11111> + |00100>x|00000> + |00100>x|00011> + |00100>x|00100> + |00100>x|00111> - |00100>x|01000> - |00100>x|01011> - |00100>x|01100> - |00100>x|01111> + |00100>x|10000> + |00100>x|10011> + |00100>x|10100> + |00100>x|10111> - |00100>x|11000> - |00100>x|11011> - |00100>x|11100> - |00100>x|11111> + |00110>x|00000> + |00110>x|00011> - |00110>x|00100> - |00110>x|00111> - |00110>x|01000> - |00110>x|01011> + |00110>x|01100> + |00110>x|01111> + |00110>x|10000> + |00110>x|10011> - |00110>x|10100> - |00110>x|10111> - |00110>x|11000> - |00110>x|11011> + |00110>x|11100> + |00110>x|11111> + |01001>x|00000> - |01001>x|00011> + |01001>x|00100> - |01001>x|00111> + |01001>x|01000> - |01001>x|01011> + |01001>x|01100> - |01001>x|01111> + |01001>x|10000> - |01001>x|10011> + |01001>x|10100> - |01001>x|10111> + |01001>x|11000> - |01001>x|11011> + |01001>x|11100> - |01001>x|11111> + |01011>x|00000> - |01011>x|00011> - |01011>x|00100> + |01011>x|00111> + |01011>x|01000> - |01011>x|01011> - |01011>x|01100> + |01011>x|01111> + |01011>x|10000> - |01011>x|10011> - |01011>x|10100> + |01011>x|10111> + |01011>x|11000> - |01011>x|11011> - |01011>x|11100> + |01011>x|11111> + |01101>x|00000> - |01101>x|00011> + |01101>x|00100> - |01101>x|00111> - |01101>x|01000> + |01101>x|01011> - |01101>x|01100> + |01101>x|01111> + |01101>x|10000> - |01101>x|10011> + |01101>x|10100> - |01101>x|10111> - |01101>x|11000> + |01101>x|11011> - |01101>x|11100> + |01101>x|11111> + |01111>x|00000> - |01111>x|00011> - |01111>x|00100> + |01111>x|00111> - |01111>x|01000> + |01111>x|01011> + |01111>x|01100> - |01111>x|01111> + |01111>x|10000> - |01111>x|10011> - |01111>x|10100> + |01111>x|10111> - |01111>x|11000> + |01111>x|11011> + |01111>x|11100> - |01111>x|11111> + |10000>x|00000> + |10000>x|00011> + |10000>x|00100> + |10000>x|00111> + |10000>x|01000> + |10000>x|01011> + |10000>x|01100> + |10000>x|01111> - |10000>x|10000> - |10000>x|10011> - |10000>x|10100> - |10000>x|10111> - |10000>x|11000> - |10000>x|11011> - |10000>x|11100> - |10000>x|11111> + |10010>x|00000> + |10010>x|00011> - |10010>x|00100> - |10010>x|00111> + |10010>x|01000> + |10010>x|01011> - |10010>x|01100> - |10010>x|01111> - |10010>x|10000> - |10010>x|10011> + |10010>x|10100> + |10010>x|10111> - |10010>x|11000> - |10010>x|11011> + |10010>x|11100> + |10010>x|11111> + |10100>x|00000> + |10100>x|00011> + |10100>x|00100> + |10100>x|00111> - |10100>x|01000> - |10100>x|01011> - |10100>x|01100> - |10100>x|01111> - |10100>x|10000> - |10100>x|10011> - |10100>x|10100> - |10100>x|10111> + |10100>x|11000> + |10100>x|11011> + |10100>x|11100> + |10100>x|11111> + |10110>x|00000> + |10110>x|00011> - |10110>x|00100> - |10110>x|00111> - |10110>x|01000> - |10110>x|01011> + |10110>x|01100> + |10110>x|01111> - |10110>x|10000> - |10110>x|10011> + |10110>x|10100> + |10110>x|10111> + |10110>x|11000> + |10110>x|11011> - |10110>x|11100> - |10110>x|11111> + |11001>x|00000> - |11001>x|00011> + |11001>x|00100> - |11001>x|00111> + |11001>x|01000> - |11001>x|01011> + |11001>x|01100> - |11001>x|01111> - |11001>x|10000> + |11001>x|10011> - |11001>x|10100> + |11001>x|10111> - |11001>x|11000> + |11001>x|11011> - |11001>x|11100> + |11001>x|11111> + |11011>x|00000> - |11011>x|00011> - |11011>x|00100> + |11011>x|00111> + |11011>x|01000> - |11011>x|01011> - |11011>x|01100> + |11011>x|01111> - |11011>x|10000> + |11011>x|10011> + |11011>x|10100> - |11011>x|10111> - |11011>x|11000> + |11011>x|11011> + |11011>x|11100> - |11011>x|11111> + |11101>x|00000> - |11101>x|00011> + |11101>x|00100> - |11101>x|00111> - |11101>x|01000> + |11101>x|01011> - |11101>x|01100> + |11101>x|01111> - |11101>x|10000> + |11101>x|10011> - |11101>x|10100> + |11101>x|10111> + |11101>x|11000> - |11101>x|11011> + |11101>x|11100> - |11101>x|11111> + |11111>x|00000> - |11111>x|00011> - |11111>x|00100> + |11111>x|00111> - |11111>x|01000> + |11111>x|01011> + |11111>x|01100> - |11111>x|01111> - |11111>x|10000> + |11111>x|10011> + |11111>x|10100> - |11111>x|10111> + |11111>x|11000> - |11111>x|11011> - |11111>x|11100> + |11111>x|11111>)/16"
      ]
     },
     "execution_count": 23,
     "metadata": {},
     "output_type": "execute_result"
    }
   ],
   "source": [
    "sp.simplify(eq3.rhs)\n",
    "# <00000,c>=0\n",
    "# <00010,c>=0\n",
    "# <00100,c>=0\n",
    "# <00110,c>=0\n",
    "# <01001,c>=0\n",
    "# <01011,c>=0 \n",
    "# <01101,c>=0 \n",
    "# <01111,c>=0 \n",
    "# <10000,c>=0 \n",
    "# <10010,c>=0 \n",
    "# <10100,c>=0 \n",
    "# <10110,c>=0 \n",
    "# <11001,c>=0 \n",
    "# <11011,c>=0 \n",
    "# <11101,c>=0 \n",
    "# <11111,c>=0 "
   ]
  }
 ],
 "metadata": {
  "kernelspec": {
   "display_name": ".venv",
   "language": "python",
   "name": "python3"
  },
  "language_info": {
   "codemirror_mode": {
    "name": "ipython",
    "version": 3
   },
   "file_extension": ".py",
   "mimetype": "text/x-python",
   "name": "python",
   "nbconvert_exporter": "python",
   "pygments_lexer": "ipython3",
   "version": "3.11.4"
  }
 },
 "nbformat": 4,
 "nbformat_minor": 2
}
