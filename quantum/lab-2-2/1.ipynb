{
 "cells": [
  {
   "cell_type": "code",
   "execution_count": 1,
   "metadata": {},
   "outputs": [],
   "source": [
    "import sympy as sp\n",
    "from sympy.physics.quantum import TensorProduct\n",
    "i = sp.I"
   ]
  },
  {
   "cell_type": "code",
   "execution_count": 35,
   "metadata": {},
   "outputs": [],
   "source": [
    "class Q:\n",
    "    X = sp.Matrix([\n",
    "        [0, 1],\n",
    "        [1, 0]\n",
    "    ])\n",
    "    Y = sp.Matrix([\n",
    "        [0, -i],\n",
    "        [i, 0]\n",
    "    ])\n",
    "    Z = sp.Matrix([\n",
    "        [1, 0],\n",
    "        [0, -1]\n",
    "    ])\n",
    "    H = sp.Matrix([\n",
    "        [1, 1],\n",
    "        [1, -1]\n",
    "    ])/sp.sqrt(2)\n",
    "    T = sp.Matrix([\n",
    "        [1, 0],\n",
    "        [0, sp.exp(i*sp.pi/4)]\n",
    "    ])\n",
    "    CX = sp.Matrix([\n",
    "        [sp.eye(2), sp.zeros(2)],\n",
    "        [sp.zeros(2), X]\n",
    "    ])\n",
    "    CU = lambda U: sp.Matrix([\n",
    "        [sp.eye(2), sp.zeros(2)],\n",
    "        [sp.zeros(2), U]\n",
    "    ])\n",
    "    CCNOT = sp.Matrix([\n",
    "        [sp.eye(4), sp.zeros(4)],\n",
    "        [sp.zeros(4), CX]\n",
    "    ])\n",
    "    SWAP = sp.Matrix([\n",
    "        [1, 0, 0, 0],\n",
    "        [0, 0, 1, 0],\n",
    "        [0, 1, 0, 0],\n",
    "        [0, 0, 0, 1],\n",
    "    ])\n",
    "    P = lambda phi: sp.Matrix([\n",
    "        [1, 0],\n",
    "        [0, sp.exp(i*phi)]\n",
    "    ])\n",
    "    XC = SWAP@CX@SWAP\n",
    "    UC = lambda U: Q.SWAP@Q.CU(U)@Q.SWAP\n",
    "    I = sp.eye(2)\n",
    "    Rx = lambda theta: sp.Matrix([\n",
    "        [sp.cos(theta/2), -i*sp.sin(theta/2)],\n",
    "        [-i*sp.sin(theta/2), sp.cos(theta/2)]\n",
    "    ])\n",
    "    S = sp.Matrix([\n",
    "        [1, 0],\n",
    "        [0, i]\n",
    "    ])\n",
    "    Sx = sp.Matrix([\n",
    "        [1+i, 1-i],\n",
    "        [1-i, 1+i]\n",
    "    ])/2\n"
   ]
  },
  {
   "cell_type": "code",
   "execution_count": 29,
   "metadata": {},
   "outputs": [
    {
     "data": {
      "text/latex": [
       "$\\displaystyle \\left[\\begin{array}{cccccccccccccccc}1 & 0 & 0 & 0 & 0 & 0 & 0 & 0 & 0 & 0 & 0 & 0 & 0 & 0 & 0 & 0\\\\0 & 1 & 0 & 0 & 0 & 0 & 0 & 0 & 0 & 0 & 0 & 0 & 0 & 0 & 0 & 0\\\\0 & 0 & 1 & 0 & 0 & 0 & 0 & 0 & 0 & 0 & 0 & 0 & 0 & 0 & 0 & 0\\\\0 & 0 & 0 & 1 & 0 & 0 & 0 & 0 & 0 & 0 & 0 & 0 & 0 & 0 & 0 & 0\\\\0 & 0 & 0 & 0 & 0 & - i & 0 & 0 & 0 & 0 & 0 & 0 & 0 & 0 & 0 & 0\\\\0 & 0 & 0 & 0 & i & 0 & 0 & 0 & 0 & 0 & 0 & 0 & 0 & 0 & 0 & 0\\\\0 & 0 & 0 & 0 & 0 & 0 & 0 & - i & 0 & 0 & 0 & 0 & 0 & 0 & 0 & 0\\\\0 & 0 & 0 & 0 & 0 & 0 & i & 0 & 0 & 0 & 0 & 0 & 0 & 0 & 0 & 0\\\\0 & 0 & 0 & 0 & 0 & 0 & 0 & 0 & i & 0 & 0 & 0 & 0 & 0 & 0 & 0\\\\0 & 0 & 0 & 0 & 0 & 0 & 0 & 0 & 0 & i & 0 & 0 & 0 & 0 & 0 & 0\\\\0 & 0 & 0 & 0 & 0 & 0 & 0 & 0 & 0 & 0 & i & 0 & 0 & 0 & 0 & 0\\\\0 & 0 & 0 & 0 & 0 & 0 & 0 & 0 & 0 & 0 & 0 & i & 0 & 0 & 0 & 0\\\\0 & 0 & 0 & 0 & 0 & 0 & 0 & 0 & 0 & 0 & 0 & 0 & 0 & 1 & 0 & 0\\\\0 & 0 & 0 & 0 & 0 & 0 & 0 & 0 & 0 & 0 & 0 & 0 & -1 & 0 & 0 & 0\\\\0 & 0 & 0 & 0 & 0 & 0 & 0 & 0 & 0 & 0 & 0 & 0 & 0 & 0 & 0 & 1\\\\0 & 0 & 0 & 0 & 0 & 0 & 0 & 0 & 0 & 0 & 0 & 0 & 0 & 0 & -1 & 0\\end{array}\\right]$"
      ],
      "text/plain": [
       "Matrix([\n",
       "[1, 0, 0, 0, 0,  0, 0,  0, 0, 0, 0, 0,  0, 0,  0, 0],\n",
       "[0, 1, 0, 0, 0,  0, 0,  0, 0, 0, 0, 0,  0, 0,  0, 0],\n",
       "[0, 0, 1, 0, 0,  0, 0,  0, 0, 0, 0, 0,  0, 0,  0, 0],\n",
       "[0, 0, 0, 1, 0,  0, 0,  0, 0, 0, 0, 0,  0, 0,  0, 0],\n",
       "[0, 0, 0, 0, 0, -I, 0,  0, 0, 0, 0, 0,  0, 0,  0, 0],\n",
       "[0, 0, 0, 0, I,  0, 0,  0, 0, 0, 0, 0,  0, 0,  0, 0],\n",
       "[0, 0, 0, 0, 0,  0, 0, -I, 0, 0, 0, 0,  0, 0,  0, 0],\n",
       "[0, 0, 0, 0, 0,  0, I,  0, 0, 0, 0, 0,  0, 0,  0, 0],\n",
       "[0, 0, 0, 0, 0,  0, 0,  0, I, 0, 0, 0,  0, 0,  0, 0],\n",
       "[0, 0, 0, 0, 0,  0, 0,  0, 0, I, 0, 0,  0, 0,  0, 0],\n",
       "[0, 0, 0, 0, 0,  0, 0,  0, 0, 0, I, 0,  0, 0,  0, 0],\n",
       "[0, 0, 0, 0, 0,  0, 0,  0, 0, 0, 0, I,  0, 0,  0, 0],\n",
       "[0, 0, 0, 0, 0,  0, 0,  0, 0, 0, 0, 0,  0, 1,  0, 0],\n",
       "[0, 0, 0, 0, 0,  0, 0,  0, 0, 0, 0, 0, -1, 0,  0, 0],\n",
       "[0, 0, 0, 0, 0,  0, 0,  0, 0, 0, 0, 0,  0, 0,  0, 1],\n",
       "[0, 0, 0, 0, 0,  0, 0,  0, 0, 0, 0, 0,  0, 0, -1, 0]])"
      ]
     },
     "execution_count": 29,
     "metadata": {},
     "output_type": "execute_result"
    }
   ],
   "source": [
    "def swap23(U):\n",
    "    sw = TensorProduct(Q.I, Q.I, Q.SWAP)\n",
    "    return sw * U * sw\n",
    "\n",
    "state1 = swap23(TensorProduct(Q.S, Q.CU(Q.Y), Q.I))\n",
    "state1\n"
   ]
  },
  {
   "cell_type": "code",
   "execution_count": 30,
   "metadata": {},
   "outputs": [
    {
     "data": {
      "text/latex": [
       "$\\displaystyle \\left[\\begin{array}{cccccccccccccccc}\\sqrt{\\frac{\\sqrt{2}}{4} + \\frac{1}{2}} & 0 & - i \\sqrt{\\frac{1}{2} - \\frac{\\sqrt{2}}{4}} & 0 & 0 & 0 & 0 & 0 & 0 & 0 & 0 & 0 & 0 & 0 & 0 & 0\\\\0 & \\sqrt{\\frac{\\sqrt{2}}{4} + \\frac{1}{2}} & 0 & - i \\sqrt{\\frac{1}{2} - \\frac{\\sqrt{2}}{4}} & 0 & 0 & 0 & 0 & 0 & 0 & 0 & 0 & 0 & 0 & 0 & 0\\\\- i \\sqrt{\\frac{1}{2} - \\frac{\\sqrt{2}}{4}} & 0 & \\sqrt{\\frac{\\sqrt{2}}{4} + \\frac{1}{2}} & 0 & 0 & 0 & 0 & 0 & 0 & 0 & 0 & 0 & 0 & 0 & 0 & 0\\\\0 & - i \\sqrt{\\frac{1}{2} - \\frac{\\sqrt{2}}{4}} & 0 & \\sqrt{\\frac{\\sqrt{2}}{4} + \\frac{1}{2}} & 0 & 0 & 0 & 0 & 0 & 0 & 0 & 0 & 0 & 0 & 0 & 0\\\\0 & 0 & 0 & 0 & 0 & - i \\sqrt{\\frac{\\sqrt{2}}{4} + \\frac{1}{2}} & 0 & - \\sqrt{\\frac{1}{2} - \\frac{\\sqrt{2}}{4}} & 0 & 0 & 0 & 0 & 0 & 0 & 0 & 0\\\\0 & 0 & 0 & 0 & i \\sqrt{\\frac{\\sqrt{2}}{4} + \\frac{1}{2}} & 0 & \\sqrt{\\frac{1}{2} - \\frac{\\sqrt{2}}{4}} & 0 & 0 & 0 & 0 & 0 & 0 & 0 & 0 & 0\\\\0 & 0 & 0 & 0 & 0 & - \\sqrt{\\frac{1}{2} - \\frac{\\sqrt{2}}{4}} & 0 & - i \\sqrt{\\frac{\\sqrt{2}}{4} + \\frac{1}{2}} & 0 & 0 & 0 & 0 & 0 & 0 & 0 & 0\\\\0 & 0 & 0 & 0 & \\sqrt{\\frac{1}{2} - \\frac{\\sqrt{2}}{4}} & 0 & i \\sqrt{\\frac{\\sqrt{2}}{4} + \\frac{1}{2}} & 0 & 0 & 0 & 0 & 0 & 0 & 0 & 0 & 0\\\\0 & 0 & 0 & 0 & 0 & 0 & 0 & 0 & i \\sqrt{\\frac{\\sqrt{2}}{4} + \\frac{1}{2}} & 0 & \\sqrt{\\frac{1}{2} - \\frac{\\sqrt{2}}{4}} & 0 & 0 & 0 & 0 & 0\\\\0 & 0 & 0 & 0 & 0 & 0 & 0 & 0 & 0 & i \\sqrt{\\frac{\\sqrt{2}}{4} + \\frac{1}{2}} & 0 & \\sqrt{\\frac{1}{2} - \\frac{\\sqrt{2}}{4}} & 0 & 0 & 0 & 0\\\\0 & 0 & 0 & 0 & 0 & 0 & 0 & 0 & \\sqrt{\\frac{1}{2} - \\frac{\\sqrt{2}}{4}} & 0 & i \\sqrt{\\frac{\\sqrt{2}}{4} + \\frac{1}{2}} & 0 & 0 & 0 & 0 & 0\\\\0 & 0 & 0 & 0 & 0 & 0 & 0 & 0 & 0 & \\sqrt{\\frac{1}{2} - \\frac{\\sqrt{2}}{4}} & 0 & i \\sqrt{\\frac{\\sqrt{2}}{4} + \\frac{1}{2}} & 0 & 0 & 0 & 0\\\\0 & 0 & 0 & 0 & 0 & 0 & 0 & 0 & 0 & 0 & 0 & 0 & 0 & \\sqrt{\\frac{\\sqrt{2}}{4} + \\frac{1}{2}} & 0 & - i \\sqrt{\\frac{1}{2} - \\frac{\\sqrt{2}}{4}}\\\\0 & 0 & 0 & 0 & 0 & 0 & 0 & 0 & 0 & 0 & 0 & 0 & - \\sqrt{\\frac{\\sqrt{2}}{4} + \\frac{1}{2}} & 0 & i \\sqrt{\\frac{1}{2} - \\frac{\\sqrt{2}}{4}} & 0\\\\0 & 0 & 0 & 0 & 0 & 0 & 0 & 0 & 0 & 0 & 0 & 0 & 0 & - i \\sqrt{\\frac{1}{2} - \\frac{\\sqrt{2}}{4}} & 0 & \\sqrt{\\frac{\\sqrt{2}}{4} + \\frac{1}{2}}\\\\0 & 0 & 0 & 0 & 0 & 0 & 0 & 0 & 0 & 0 & 0 & 0 & i \\sqrt{\\frac{1}{2} - \\frac{\\sqrt{2}}{4}} & 0 & - \\sqrt{\\frac{\\sqrt{2}}{4} + \\frac{1}{2}} & 0\\end{array}\\right]$"
      ],
      "text/plain": [
       "Matrix([\n",
       "[   sqrt(sqrt(2)/4 + 1/2),                        0, -I*sqrt(1/2 - sqrt(2)/4),                        0,                       0,                        0,                       0,                        0,                       0,                       0,                       0,                       0,                       0,                        0,                       0,                        0],\n",
       "[                       0,    sqrt(sqrt(2)/4 + 1/2),                        0, -I*sqrt(1/2 - sqrt(2)/4),                       0,                        0,                       0,                        0,                       0,                       0,                       0,                       0,                       0,                        0,                       0,                        0],\n",
       "[-I*sqrt(1/2 - sqrt(2)/4),                        0,    sqrt(sqrt(2)/4 + 1/2),                        0,                       0,                        0,                       0,                        0,                       0,                       0,                       0,                       0,                       0,                        0,                       0,                        0],\n",
       "[                       0, -I*sqrt(1/2 - sqrt(2)/4),                        0,    sqrt(sqrt(2)/4 + 1/2),                       0,                        0,                       0,                        0,                       0,                       0,                       0,                       0,                       0,                        0,                       0,                        0],\n",
       "[                       0,                        0,                        0,                        0,                       0, -I*sqrt(sqrt(2)/4 + 1/2),                       0,   -sqrt(1/2 - sqrt(2)/4),                       0,                       0,                       0,                       0,                       0,                        0,                       0,                        0],\n",
       "[                       0,                        0,                        0,                        0, I*sqrt(sqrt(2)/4 + 1/2),                        0,   sqrt(1/2 - sqrt(2)/4),                        0,                       0,                       0,                       0,                       0,                       0,                        0,                       0,                        0],\n",
       "[                       0,                        0,                        0,                        0,                       0,   -sqrt(1/2 - sqrt(2)/4),                       0, -I*sqrt(sqrt(2)/4 + 1/2),                       0,                       0,                       0,                       0,                       0,                        0,                       0,                        0],\n",
       "[                       0,                        0,                        0,                        0,   sqrt(1/2 - sqrt(2)/4),                        0, I*sqrt(sqrt(2)/4 + 1/2),                        0,                       0,                       0,                       0,                       0,                       0,                        0,                       0,                        0],\n",
       "[                       0,                        0,                        0,                        0,                       0,                        0,                       0,                        0, I*sqrt(sqrt(2)/4 + 1/2),                       0,   sqrt(1/2 - sqrt(2)/4),                       0,                       0,                        0,                       0,                        0],\n",
       "[                       0,                        0,                        0,                        0,                       0,                        0,                       0,                        0,                       0, I*sqrt(sqrt(2)/4 + 1/2),                       0,   sqrt(1/2 - sqrt(2)/4),                       0,                        0,                       0,                        0],\n",
       "[                       0,                        0,                        0,                        0,                       0,                        0,                       0,                        0,   sqrt(1/2 - sqrt(2)/4),                       0, I*sqrt(sqrt(2)/4 + 1/2),                       0,                       0,                        0,                       0,                        0],\n",
       "[                       0,                        0,                        0,                        0,                       0,                        0,                       0,                        0,                       0,   sqrt(1/2 - sqrt(2)/4),                       0, I*sqrt(sqrt(2)/4 + 1/2),                       0,                        0,                       0,                        0],\n",
       "[                       0,                        0,                        0,                        0,                       0,                        0,                       0,                        0,                       0,                       0,                       0,                       0,                       0,    sqrt(sqrt(2)/4 + 1/2),                       0, -I*sqrt(1/2 - sqrt(2)/4)],\n",
       "[                       0,                        0,                        0,                        0,                       0,                        0,                       0,                        0,                       0,                       0,                       0,                       0,  -sqrt(sqrt(2)/4 + 1/2),                        0, I*sqrt(1/2 - sqrt(2)/4),                        0],\n",
       "[                       0,                        0,                        0,                        0,                       0,                        0,                       0,                        0,                       0,                       0,                       0,                       0,                       0, -I*sqrt(1/2 - sqrt(2)/4),                       0,    sqrt(sqrt(2)/4 + 1/2)],\n",
       "[                       0,                        0,                        0,                        0,                       0,                        0,                       0,                        0,                       0,                       0,                       0,                       0, I*sqrt(1/2 - sqrt(2)/4),                        0,  -sqrt(sqrt(2)/4 + 1/2),                        0]])"
      ]
     },
     "execution_count": 30,
     "metadata": {},
     "output_type": "execute_result"
    }
   ],
   "source": [
    "state2 = state1 * TensorProduct(Q.I, Q.I, Q.Rx(sp.pi/4), Q.I)\n",
    "state2"
   ]
  },
  {
   "cell_type": "code",
   "execution_count": 37,
   "metadata": {},
   "outputs": [
    {
     "data": {
      "text/latex": [
       "$\\displaystyle \\left[\\begin{array}{cccccccccccccccc}\\sqrt{\\frac{\\sqrt{2}}{4} + \\frac{1}{2}} & 0 & - i \\sqrt{\\frac{1}{2} - \\frac{\\sqrt{2}}{4}} & 0 & 0 & 0 & 0 & 0 & 0 & 0 & 0 & 0 & 0 & 0 & 0 & 0\\\\0 & \\sqrt{\\frac{\\sqrt{2}}{4} + \\frac{1}{2}} & 0 & - i \\sqrt{\\frac{1}{2} - \\frac{\\sqrt{2}}{4}} & 0 & 0 & 0 & 0 & 0 & 0 & 0 & 0 & 0 & 0 & 0 & 0\\\\- i \\sqrt{\\frac{1}{2} - \\frac{\\sqrt{2}}{4}} & 0 & \\sqrt{\\frac{\\sqrt{2}}{4} + \\frac{1}{2}} & 0 & 0 & 0 & 0 & 0 & 0 & 0 & 0 & 0 & 0 & 0 & 0 & 0\\\\0 & - i \\sqrt{\\frac{1}{2} - \\frac{\\sqrt{2}}{4}} & 0 & \\sqrt{\\frac{\\sqrt{2}}{4} + \\frac{1}{2}} & 0 & 0 & 0 & 0 & 0 & 0 & 0 & 0 & 0 & 0 & 0 & 0\\\\0 & 0 & 0 & 0 & - i \\left(\\frac{1}{2} - \\frac{i}{2}\\right) \\sqrt{\\frac{\\sqrt{2}}{4} + \\frac{1}{2}} & - i \\left(\\frac{1}{2} + \\frac{i}{2}\\right) \\sqrt{\\frac{\\sqrt{2}}{4} + \\frac{1}{2}} & - \\sqrt{\\frac{1}{2} - \\frac{\\sqrt{2}}{4}} \\left(\\frac{1}{2} - \\frac{i}{2}\\right) & - \\sqrt{\\frac{1}{2} - \\frac{\\sqrt{2}}{4}} \\left(\\frac{1}{2} + \\frac{i}{2}\\right) & 0 & 0 & 0 & 0 & 0 & 0 & 0 & 0\\\\0 & 0 & 0 & 0 & i \\left(\\frac{1}{2} + \\frac{i}{2}\\right) \\sqrt{\\frac{\\sqrt{2}}{4} + \\frac{1}{2}} & i \\left(\\frac{1}{2} - \\frac{i}{2}\\right) \\sqrt{\\frac{\\sqrt{2}}{4} + \\frac{1}{2}} & \\sqrt{\\frac{1}{2} - \\frac{\\sqrt{2}}{4}} \\left(\\frac{1}{2} + \\frac{i}{2}\\right) & \\sqrt{\\frac{1}{2} - \\frac{\\sqrt{2}}{4}} \\left(\\frac{1}{2} - \\frac{i}{2}\\right) & 0 & 0 & 0 & 0 & 0 & 0 & 0 & 0\\\\0 & 0 & 0 & 0 & - \\sqrt{\\frac{1}{2} - \\frac{\\sqrt{2}}{4}} \\left(\\frac{1}{2} - \\frac{i}{2}\\right) & - \\sqrt{\\frac{1}{2} - \\frac{\\sqrt{2}}{4}} \\left(\\frac{1}{2} + \\frac{i}{2}\\right) & - i \\left(\\frac{1}{2} - \\frac{i}{2}\\right) \\sqrt{\\frac{\\sqrt{2}}{4} + \\frac{1}{2}} & - i \\left(\\frac{1}{2} + \\frac{i}{2}\\right) \\sqrt{\\frac{\\sqrt{2}}{4} + \\frac{1}{2}} & 0 & 0 & 0 & 0 & 0 & 0 & 0 & 0\\\\0 & 0 & 0 & 0 & \\sqrt{\\frac{1}{2} - \\frac{\\sqrt{2}}{4}} \\left(\\frac{1}{2} + \\frac{i}{2}\\right) & \\sqrt{\\frac{1}{2} - \\frac{\\sqrt{2}}{4}} \\left(\\frac{1}{2} - \\frac{i}{2}\\right) & i \\left(\\frac{1}{2} + \\frac{i}{2}\\right) \\sqrt{\\frac{\\sqrt{2}}{4} + \\frac{1}{2}} & i \\left(\\frac{1}{2} - \\frac{i}{2}\\right) \\sqrt{\\frac{\\sqrt{2}}{4} + \\frac{1}{2}} & 0 & 0 & 0 & 0 & 0 & 0 & 0 & 0\\\\0 & 0 & 0 & 0 & 0 & 0 & 0 & 0 & i \\sqrt{\\frac{\\sqrt{2}}{4} + \\frac{1}{2}} & 0 & \\sqrt{\\frac{1}{2} - \\frac{\\sqrt{2}}{4}} & 0 & 0 & 0 & 0 & 0\\\\0 & 0 & 0 & 0 & 0 & 0 & 0 & 0 & 0 & i \\sqrt{\\frac{\\sqrt{2}}{4} + \\frac{1}{2}} & 0 & \\sqrt{\\frac{1}{2} - \\frac{\\sqrt{2}}{4}} & 0 & 0 & 0 & 0\\\\0 & 0 & 0 & 0 & 0 & 0 & 0 & 0 & \\sqrt{\\frac{1}{2} - \\frac{\\sqrt{2}}{4}} & 0 & i \\sqrt{\\frac{\\sqrt{2}}{4} + \\frac{1}{2}} & 0 & 0 & 0 & 0 & 0\\\\0 & 0 & 0 & 0 & 0 & 0 & 0 & 0 & 0 & \\sqrt{\\frac{1}{2} - \\frac{\\sqrt{2}}{4}} & 0 & i \\sqrt{\\frac{\\sqrt{2}}{4} + \\frac{1}{2}} & 0 & 0 & 0 & 0\\\\0 & 0 & 0 & 0 & 0 & 0 & 0 & 0 & 0 & 0 & 0 & 0 & \\left(\\frac{1}{2} - \\frac{i}{2}\\right) \\sqrt{\\frac{\\sqrt{2}}{4} + \\frac{1}{2}} & \\left(\\frac{1}{2} + \\frac{i}{2}\\right) \\sqrt{\\frac{\\sqrt{2}}{4} + \\frac{1}{2}} & - i \\sqrt{\\frac{1}{2} - \\frac{\\sqrt{2}}{4}} \\left(\\frac{1}{2} - \\frac{i}{2}\\right) & - i \\sqrt{\\frac{1}{2} - \\frac{\\sqrt{2}}{4}} \\left(\\frac{1}{2} + \\frac{i}{2}\\right)\\\\0 & 0 & 0 & 0 & 0 & 0 & 0 & 0 & 0 & 0 & 0 & 0 & - \\left(\\frac{1}{2} + \\frac{i}{2}\\right) \\sqrt{\\frac{\\sqrt{2}}{4} + \\frac{1}{2}} & - \\left(\\frac{1}{2} - \\frac{i}{2}\\right) \\sqrt{\\frac{\\sqrt{2}}{4} + \\frac{1}{2}} & i \\sqrt{\\frac{1}{2} - \\frac{\\sqrt{2}}{4}} \\left(\\frac{1}{2} + \\frac{i}{2}\\right) & i \\sqrt{\\frac{1}{2} - \\frac{\\sqrt{2}}{4}} \\left(\\frac{1}{2} - \\frac{i}{2}\\right)\\\\0 & 0 & 0 & 0 & 0 & 0 & 0 & 0 & 0 & 0 & 0 & 0 & - i \\sqrt{\\frac{1}{2} - \\frac{\\sqrt{2}}{4}} \\left(\\frac{1}{2} - \\frac{i}{2}\\right) & - i \\sqrt{\\frac{1}{2} - \\frac{\\sqrt{2}}{4}} \\left(\\frac{1}{2} + \\frac{i}{2}\\right) & \\left(\\frac{1}{2} - \\frac{i}{2}\\right) \\sqrt{\\frac{\\sqrt{2}}{4} + \\frac{1}{2}} & \\left(\\frac{1}{2} + \\frac{i}{2}\\right) \\sqrt{\\frac{\\sqrt{2}}{4} + \\frac{1}{2}}\\\\0 & 0 & 0 & 0 & 0 & 0 & 0 & 0 & 0 & 0 & 0 & 0 & i \\sqrt{\\frac{1}{2} - \\frac{\\sqrt{2}}{4}} \\left(\\frac{1}{2} + \\frac{i}{2}\\right) & i \\sqrt{\\frac{1}{2} - \\frac{\\sqrt{2}}{4}} \\left(\\frac{1}{2} - \\frac{i}{2}\\right) & - \\left(\\frac{1}{2} + \\frac{i}{2}\\right) \\sqrt{\\frac{\\sqrt{2}}{4} + \\frac{1}{2}} & - \\left(\\frac{1}{2} - \\frac{i}{2}\\right) \\sqrt{\\frac{\\sqrt{2}}{4} + \\frac{1}{2}}\\end{array}\\right]$"
      ],
      "text/plain": [
       "Matrix([\n",
       "[   sqrt(sqrt(2)/4 + 1/2),                        0, -I*sqrt(1/2 - sqrt(2)/4),                        0,                                    0,                                    0,                                    0,                                    0,                       0,                       0,                       0,                       0,                                    0,                                    0,                                    0,                                    0],\n",
       "[                       0,    sqrt(sqrt(2)/4 + 1/2),                        0, -I*sqrt(1/2 - sqrt(2)/4),                                    0,                                    0,                                    0,                                    0,                       0,                       0,                       0,                       0,                                    0,                                    0,                                    0,                                    0],\n",
       "[-I*sqrt(1/2 - sqrt(2)/4),                        0,    sqrt(sqrt(2)/4 + 1/2),                        0,                                    0,                                    0,                                    0,                                    0,                       0,                       0,                       0,                       0,                                    0,                                    0,                                    0,                                    0],\n",
       "[                       0, -I*sqrt(1/2 - sqrt(2)/4),                        0,    sqrt(sqrt(2)/4 + 1/2),                                    0,                                    0,                                    0,                                    0,                       0,                       0,                       0,                       0,                                    0,                                    0,                                    0,                                    0],\n",
       "[                       0,                        0,                        0,                        0, -I*(1/2 - I/2)*sqrt(sqrt(2)/4 + 1/2), -I*(1/2 + I/2)*sqrt(sqrt(2)/4 + 1/2),   -sqrt(1/2 - sqrt(2)/4)*(1/2 - I/2),   -sqrt(1/2 - sqrt(2)/4)*(1/2 + I/2),                       0,                       0,                       0,                       0,                                    0,                                    0,                                    0,                                    0],\n",
       "[                       0,                        0,                        0,                        0,  I*(1/2 + I/2)*sqrt(sqrt(2)/4 + 1/2),  I*(1/2 - I/2)*sqrt(sqrt(2)/4 + 1/2),    sqrt(1/2 - sqrt(2)/4)*(1/2 + I/2),    sqrt(1/2 - sqrt(2)/4)*(1/2 - I/2),                       0,                       0,                       0,                       0,                                    0,                                    0,                                    0,                                    0],\n",
       "[                       0,                        0,                        0,                        0,   -sqrt(1/2 - sqrt(2)/4)*(1/2 - I/2),   -sqrt(1/2 - sqrt(2)/4)*(1/2 + I/2), -I*(1/2 - I/2)*sqrt(sqrt(2)/4 + 1/2), -I*(1/2 + I/2)*sqrt(sqrt(2)/4 + 1/2),                       0,                       0,                       0,                       0,                                    0,                                    0,                                    0,                                    0],\n",
       "[                       0,                        0,                        0,                        0,    sqrt(1/2 - sqrt(2)/4)*(1/2 + I/2),    sqrt(1/2 - sqrt(2)/4)*(1/2 - I/2),  I*(1/2 + I/2)*sqrt(sqrt(2)/4 + 1/2),  I*(1/2 - I/2)*sqrt(sqrt(2)/4 + 1/2),                       0,                       0,                       0,                       0,                                    0,                                    0,                                    0,                                    0],\n",
       "[                       0,                        0,                        0,                        0,                                    0,                                    0,                                    0,                                    0, I*sqrt(sqrt(2)/4 + 1/2),                       0,   sqrt(1/2 - sqrt(2)/4),                       0,                                    0,                                    0,                                    0,                                    0],\n",
       "[                       0,                        0,                        0,                        0,                                    0,                                    0,                                    0,                                    0,                       0, I*sqrt(sqrt(2)/4 + 1/2),                       0,   sqrt(1/2 - sqrt(2)/4),                                    0,                                    0,                                    0,                                    0],\n",
       "[                       0,                        0,                        0,                        0,                                    0,                                    0,                                    0,                                    0,   sqrt(1/2 - sqrt(2)/4),                       0, I*sqrt(sqrt(2)/4 + 1/2),                       0,                                    0,                                    0,                                    0,                                    0],\n",
       "[                       0,                        0,                        0,                        0,                                    0,                                    0,                                    0,                                    0,                       0,   sqrt(1/2 - sqrt(2)/4),                       0, I*sqrt(sqrt(2)/4 + 1/2),                                    0,                                    0,                                    0,                                    0],\n",
       "[                       0,                        0,                        0,                        0,                                    0,                                    0,                                    0,                                    0,                       0,                       0,                       0,                       0,    (1/2 - I/2)*sqrt(sqrt(2)/4 + 1/2),    (1/2 + I/2)*sqrt(sqrt(2)/4 + 1/2), -I*sqrt(1/2 - sqrt(2)/4)*(1/2 - I/2), -I*sqrt(1/2 - sqrt(2)/4)*(1/2 + I/2)],\n",
       "[                       0,                        0,                        0,                        0,                                    0,                                    0,                                    0,                                    0,                       0,                       0,                       0,                       0,   -(1/2 + I/2)*sqrt(sqrt(2)/4 + 1/2),   -(1/2 - I/2)*sqrt(sqrt(2)/4 + 1/2),  I*sqrt(1/2 - sqrt(2)/4)*(1/2 + I/2),  I*sqrt(1/2 - sqrt(2)/4)*(1/2 - I/2)],\n",
       "[                       0,                        0,                        0,                        0,                                    0,                                    0,                                    0,                                    0,                       0,                       0,                       0,                       0, -I*sqrt(1/2 - sqrt(2)/4)*(1/2 - I/2), -I*sqrt(1/2 - sqrt(2)/4)*(1/2 + I/2),    (1/2 - I/2)*sqrt(sqrt(2)/4 + 1/2),    (1/2 + I/2)*sqrt(sqrt(2)/4 + 1/2)],\n",
       "[                       0,                        0,                        0,                        0,                                    0,                                    0,                                    0,                                    0,                       0,                       0,                       0,                       0,  I*sqrt(1/2 - sqrt(2)/4)*(1/2 + I/2),  I*sqrt(1/2 - sqrt(2)/4)*(1/2 - I/2),   -(1/2 + I/2)*sqrt(sqrt(2)/4 + 1/2),   -(1/2 - I/2)*sqrt(sqrt(2)/4 + 1/2)]])"
      ]
     },
     "execution_count": 37,
     "metadata": {},
     "output_type": "execute_result"
    }
   ],
   "source": [
    "state3 = state2 * swap23(TensorProduct(Q.I, Q.CU(Q.Sx), Q.I))\n",
    "state3"
   ]
  },
  {
   "cell_type": "code",
   "execution_count": 39,
   "metadata": {},
   "outputs": [
    {
     "data": {
      "text/latex": [
       "$\\displaystyle \\left[\\begin{array}{cccccccccccccccc}\\sqrt{\\frac{\\sqrt{2}}{4} + \\frac{1}{2}} & 0 & - i \\sqrt{\\frac{1}{2} - \\frac{\\sqrt{2}}{4}} & 0 & 0 & 0 & 0 & 0 & 0 & 0 & 0 & 0 & 0 & 0 & 0 & 0\\\\0 & \\sqrt{\\frac{\\sqrt{2}}{4} + \\frac{1}{2}} & 0 & - i \\sqrt{\\frac{1}{2} - \\frac{\\sqrt{2}}{4}} & 0 & 0 & 0 & 0 & 0 & 0 & 0 & 0 & 0 & 0 & 0 & 0\\\\- i \\sqrt{\\frac{1}{2} - \\frac{\\sqrt{2}}{4}} & 0 & \\sqrt{\\frac{\\sqrt{2}}{4} + \\frac{1}{2}} & 0 & 0 & 0 & 0 & 0 & 0 & 0 & 0 & 0 & 0 & 0 & 0 & 0\\\\0 & - i \\sqrt{\\frac{1}{2} - \\frac{\\sqrt{2}}{4}} & 0 & \\sqrt{\\frac{\\sqrt{2}}{4} + \\frac{1}{2}} & 0 & 0 & 0 & 0 & 0 & 0 & 0 & 0 & 0 & 0 & 0 & 0\\\\0 & 0 & 0 & 0 & - i \\left(\\frac{1}{2} - \\frac{i}{2}\\right) \\sqrt{\\frac{\\sqrt{2}}{4} + \\frac{1}{2}} & - i \\left(\\frac{1}{2} + \\frac{i}{2}\\right) \\sqrt{\\frac{\\sqrt{2}}{4} + \\frac{1}{2}} & - \\sqrt{\\frac{1}{2} - \\frac{\\sqrt{2}}{4}} \\left(\\frac{1}{2} - \\frac{i}{2}\\right) & - \\sqrt{\\frac{1}{2} - \\frac{\\sqrt{2}}{4}} \\left(\\frac{1}{2} + \\frac{i}{2}\\right) & 0 & 0 & 0 & 0 & 0 & 0 & 0 & 0\\\\0 & 0 & 0 & 0 & i \\left(\\frac{1}{2} + \\frac{i}{2}\\right) \\sqrt{\\frac{\\sqrt{2}}{4} + \\frac{1}{2}} & i \\left(\\frac{1}{2} - \\frac{i}{2}\\right) \\sqrt{\\frac{\\sqrt{2}}{4} + \\frac{1}{2}} & \\sqrt{\\frac{1}{2} - \\frac{\\sqrt{2}}{4}} \\left(\\frac{1}{2} + \\frac{i}{2}\\right) & \\sqrt{\\frac{1}{2} - \\frac{\\sqrt{2}}{4}} \\left(\\frac{1}{2} - \\frac{i}{2}\\right) & 0 & 0 & 0 & 0 & 0 & 0 & 0 & 0\\\\0 & 0 & 0 & 0 & - \\sqrt{\\frac{1}{2} - \\frac{\\sqrt{2}}{4}} \\left(\\frac{1}{2} - \\frac{i}{2}\\right) & - \\sqrt{\\frac{1}{2} - \\frac{\\sqrt{2}}{4}} \\left(\\frac{1}{2} + \\frac{i}{2}\\right) & - i \\left(\\frac{1}{2} - \\frac{i}{2}\\right) \\sqrt{\\frac{\\sqrt{2}}{4} + \\frac{1}{2}} & - i \\left(\\frac{1}{2} + \\frac{i}{2}\\right) \\sqrt{\\frac{\\sqrt{2}}{4} + \\frac{1}{2}} & 0 & 0 & 0 & 0 & 0 & 0 & 0 & 0\\\\0 & 0 & 0 & 0 & \\sqrt{\\frac{1}{2} - \\frac{\\sqrt{2}}{4}} \\left(\\frac{1}{2} + \\frac{i}{2}\\right) & \\sqrt{\\frac{1}{2} - \\frac{\\sqrt{2}}{4}} \\left(\\frac{1}{2} - \\frac{i}{2}\\right) & i \\left(\\frac{1}{2} + \\frac{i}{2}\\right) \\sqrt{\\frac{\\sqrt{2}}{4} + \\frac{1}{2}} & i \\left(\\frac{1}{2} - \\frac{i}{2}\\right) \\sqrt{\\frac{\\sqrt{2}}{4} + \\frac{1}{2}} & 0 & 0 & 0 & 0 & 0 & 0 & 0 & 0\\\\0 & 0 & 0 & 0 & 0 & 0 & 0 & 0 & i \\sqrt{\\frac{\\sqrt{2}}{4} + \\frac{1}{2}} & 0 & \\sqrt{\\frac{1}{2} - \\frac{\\sqrt{2}}{4}} & 0 & 0 & 0 & 0 & 0\\\\0 & 0 & 0 & 0 & 0 & 0 & 0 & 0 & 0 & 0 & 0 & 0 & 0 & i \\sqrt{\\frac{\\sqrt{2}}{4} + \\frac{1}{2}} & 0 & \\sqrt{\\frac{1}{2} - \\frac{\\sqrt{2}}{4}}\\\\0 & 0 & 0 & 0 & 0 & 0 & 0 & 0 & \\sqrt{\\frac{1}{2} - \\frac{\\sqrt{2}}{4}} & 0 & i \\sqrt{\\frac{\\sqrt{2}}{4} + \\frac{1}{2}} & 0 & 0 & 0 & 0 & 0\\\\0 & 0 & 0 & 0 & 0 & 0 & 0 & 0 & 0 & 0 & 0 & 0 & 0 & \\sqrt{\\frac{1}{2} - \\frac{\\sqrt{2}}{4}} & 0 & i \\sqrt{\\frac{\\sqrt{2}}{4} + \\frac{1}{2}}\\\\0 & 0 & 0 & 0 & 0 & 0 & 0 & 0 & 0 & \\left(\\frac{1}{2} + \\frac{i}{2}\\right) \\sqrt{\\frac{\\sqrt{2}}{4} + \\frac{1}{2}} & 0 & - i \\sqrt{\\frac{1}{2} - \\frac{\\sqrt{2}}{4}} \\left(\\frac{1}{2} + \\frac{i}{2}\\right) & \\left(\\frac{1}{2} - \\frac{i}{2}\\right) \\sqrt{\\frac{\\sqrt{2}}{4} + \\frac{1}{2}} & 0 & - i \\sqrt{\\frac{1}{2} - \\frac{\\sqrt{2}}{4}} \\left(\\frac{1}{2} - \\frac{i}{2}\\right) & 0\\\\0 & 0 & 0 & 0 & 0 & 0 & 0 & 0 & 0 & - \\left(\\frac{1}{2} - \\frac{i}{2}\\right) \\sqrt{\\frac{\\sqrt{2}}{4} + \\frac{1}{2}} & 0 & i \\sqrt{\\frac{1}{2} - \\frac{\\sqrt{2}}{4}} \\left(\\frac{1}{2} - \\frac{i}{2}\\right) & - \\left(\\frac{1}{2} + \\frac{i}{2}\\right) \\sqrt{\\frac{\\sqrt{2}}{4} + \\frac{1}{2}} & 0 & i \\sqrt{\\frac{1}{2} - \\frac{\\sqrt{2}}{4}} \\left(\\frac{1}{2} + \\frac{i}{2}\\right) & 0\\\\0 & 0 & 0 & 0 & 0 & 0 & 0 & 0 & 0 & - i \\sqrt{\\frac{1}{2} - \\frac{\\sqrt{2}}{4}} \\left(\\frac{1}{2} + \\frac{i}{2}\\right) & 0 & \\left(\\frac{1}{2} + \\frac{i}{2}\\right) \\sqrt{\\frac{\\sqrt{2}}{4} + \\frac{1}{2}} & - i \\sqrt{\\frac{1}{2} - \\frac{\\sqrt{2}}{4}} \\left(\\frac{1}{2} - \\frac{i}{2}\\right) & 0 & \\left(\\frac{1}{2} - \\frac{i}{2}\\right) \\sqrt{\\frac{\\sqrt{2}}{4} + \\frac{1}{2}} & 0\\\\0 & 0 & 0 & 0 & 0 & 0 & 0 & 0 & 0 & i \\sqrt{\\frac{1}{2} - \\frac{\\sqrt{2}}{4}} \\left(\\frac{1}{2} - \\frac{i}{2}\\right) & 0 & - \\left(\\frac{1}{2} - \\frac{i}{2}\\right) \\sqrt{\\frac{\\sqrt{2}}{4} + \\frac{1}{2}} & i \\sqrt{\\frac{1}{2} - \\frac{\\sqrt{2}}{4}} \\left(\\frac{1}{2} + \\frac{i}{2}\\right) & 0 & - \\left(\\frac{1}{2} + \\frac{i}{2}\\right) \\sqrt{\\frac{\\sqrt{2}}{4} + \\frac{1}{2}} & 0\\end{array}\\right]$"
      ],
      "text/plain": [
       "Matrix([\n",
       "[   sqrt(sqrt(2)/4 + 1/2),                        0, -I*sqrt(1/2 - sqrt(2)/4),                        0,                                    0,                                    0,                                    0,                                    0,                       0,                                    0,                       0,                                    0,                                    0,                       0,                                    0,                       0],\n",
       "[                       0,    sqrt(sqrt(2)/4 + 1/2),                        0, -I*sqrt(1/2 - sqrt(2)/4),                                    0,                                    0,                                    0,                                    0,                       0,                                    0,                       0,                                    0,                                    0,                       0,                                    0,                       0],\n",
       "[-I*sqrt(1/2 - sqrt(2)/4),                        0,    sqrt(sqrt(2)/4 + 1/2),                        0,                                    0,                                    0,                                    0,                                    0,                       0,                                    0,                       0,                                    0,                                    0,                       0,                                    0,                       0],\n",
       "[                       0, -I*sqrt(1/2 - sqrt(2)/4),                        0,    sqrt(sqrt(2)/4 + 1/2),                                    0,                                    0,                                    0,                                    0,                       0,                                    0,                       0,                                    0,                                    0,                       0,                                    0,                       0],\n",
       "[                       0,                        0,                        0,                        0, -I*(1/2 - I/2)*sqrt(sqrt(2)/4 + 1/2), -I*(1/2 + I/2)*sqrt(sqrt(2)/4 + 1/2),   -sqrt(1/2 - sqrt(2)/4)*(1/2 - I/2),   -sqrt(1/2 - sqrt(2)/4)*(1/2 + I/2),                       0,                                    0,                       0,                                    0,                                    0,                       0,                                    0,                       0],\n",
       "[                       0,                        0,                        0,                        0,  I*(1/2 + I/2)*sqrt(sqrt(2)/4 + 1/2),  I*(1/2 - I/2)*sqrt(sqrt(2)/4 + 1/2),    sqrt(1/2 - sqrt(2)/4)*(1/2 + I/2),    sqrt(1/2 - sqrt(2)/4)*(1/2 - I/2),                       0,                                    0,                       0,                                    0,                                    0,                       0,                                    0,                       0],\n",
       "[                       0,                        0,                        0,                        0,   -sqrt(1/2 - sqrt(2)/4)*(1/2 - I/2),   -sqrt(1/2 - sqrt(2)/4)*(1/2 + I/2), -I*(1/2 - I/2)*sqrt(sqrt(2)/4 + 1/2), -I*(1/2 + I/2)*sqrt(sqrt(2)/4 + 1/2),                       0,                                    0,                       0,                                    0,                                    0,                       0,                                    0,                       0],\n",
       "[                       0,                        0,                        0,                        0,    sqrt(1/2 - sqrt(2)/4)*(1/2 + I/2),    sqrt(1/2 - sqrt(2)/4)*(1/2 - I/2),  I*(1/2 + I/2)*sqrt(sqrt(2)/4 + 1/2),  I*(1/2 - I/2)*sqrt(sqrt(2)/4 + 1/2),                       0,                                    0,                       0,                                    0,                                    0,                       0,                                    0,                       0],\n",
       "[                       0,                        0,                        0,                        0,                                    0,                                    0,                                    0,                                    0, I*sqrt(sqrt(2)/4 + 1/2),                                    0,   sqrt(1/2 - sqrt(2)/4),                                    0,                                    0,                       0,                                    0,                       0],\n",
       "[                       0,                        0,                        0,                        0,                                    0,                                    0,                                    0,                                    0,                       0,                                    0,                       0,                                    0,                                    0, I*sqrt(sqrt(2)/4 + 1/2),                                    0,   sqrt(1/2 - sqrt(2)/4)],\n",
       "[                       0,                        0,                        0,                        0,                                    0,                                    0,                                    0,                                    0,   sqrt(1/2 - sqrt(2)/4),                                    0, I*sqrt(sqrt(2)/4 + 1/2),                                    0,                                    0,                       0,                                    0,                       0],\n",
       "[                       0,                        0,                        0,                        0,                                    0,                                    0,                                    0,                                    0,                       0,                                    0,                       0,                                    0,                                    0,   sqrt(1/2 - sqrt(2)/4),                                    0, I*sqrt(sqrt(2)/4 + 1/2)],\n",
       "[                       0,                        0,                        0,                        0,                                    0,                                    0,                                    0,                                    0,                       0,    (1/2 + I/2)*sqrt(sqrt(2)/4 + 1/2),                       0, -I*sqrt(1/2 - sqrt(2)/4)*(1/2 + I/2),    (1/2 - I/2)*sqrt(sqrt(2)/4 + 1/2),                       0, -I*sqrt(1/2 - sqrt(2)/4)*(1/2 - I/2),                       0],\n",
       "[                       0,                        0,                        0,                        0,                                    0,                                    0,                                    0,                                    0,                       0,   -(1/2 - I/2)*sqrt(sqrt(2)/4 + 1/2),                       0,  I*sqrt(1/2 - sqrt(2)/4)*(1/2 - I/2),   -(1/2 + I/2)*sqrt(sqrt(2)/4 + 1/2),                       0,  I*sqrt(1/2 - sqrt(2)/4)*(1/2 + I/2),                       0],\n",
       "[                       0,                        0,                        0,                        0,                                    0,                                    0,                                    0,                                    0,                       0, -I*sqrt(1/2 - sqrt(2)/4)*(1/2 + I/2),                       0,    (1/2 + I/2)*sqrt(sqrt(2)/4 + 1/2), -I*sqrt(1/2 - sqrt(2)/4)*(1/2 - I/2),                       0,    (1/2 - I/2)*sqrt(sqrt(2)/4 + 1/2),                       0],\n",
       "[                       0,                        0,                        0,                        0,                                    0,                                    0,                                    0,                                    0,                       0,  I*sqrt(1/2 - sqrt(2)/4)*(1/2 - I/2),                       0,   -(1/2 - I/2)*sqrt(sqrt(2)/4 + 1/2),  I*sqrt(1/2 - sqrt(2)/4)*(1/2 + I/2),                       0,   -(1/2 + I/2)*sqrt(sqrt(2)/4 + 1/2),                       0]])"
      ]
     },
     "execution_count": 39,
     "metadata": {},
     "output_type": "execute_result"
    }
   ],
   "source": [
    "op1 = TensorProduct(Q.I, Q.SWAP)\n",
    "op2 = TensorProduct(Q.SWAP, Q.I)\n",
    "XCC = op1@op2@Q.CCNOT@op2@op1\n",
    "state4 = state3 * swap23(TensorProduct(XCC, Q.I))\n",
    "state4"
   ]
  },
  {
   "cell_type": "code",
   "execution_count": 43,
   "metadata": {},
   "outputs": [],
   "source": [
    "v = state4.eigenvects()"
   ]
  },
  {
   "cell_type": "code",
   "execution_count": 58,
   "metadata": {},
   "outputs": [
    {
     "data": {
      "text/plain": [
       "[0.801064142293456,\n",
       " -0.408365060594732,\n",
       " -0.0156659788960082,\n",
       " 1.19376322399218,\n",
       " -1.37444678594553,\n",
       " 0.981747704246810,\n",
       " -0.981747704246810,\n",
       " -0.196349540849362,\n",
       " 0.196349540849362,\n",
       " 0.589048622548086,\n",
       " -0.589048622548086]"
      ]
     },
     "execution_count": 58,
     "metadata": {},
     "output_type": "execute_result"
    }
   ],
   "source": [
    "[sp.arg(el[0]).evalf()/2 for el in v]"
   ]
  }
 ],
 "metadata": {
  "kernelspec": {
   "display_name": ".venv",
   "language": "python",
   "name": "python3"
  },
  "language_info": {
   "codemirror_mode": {
    "name": "ipython",
    "version": 3
   },
   "file_extension": ".py",
   "mimetype": "text/x-python",
   "name": "python",
   "nbconvert_exporter": "python",
   "pygments_lexer": "ipython3",
   "version": "3.11.4"
  }
 },
 "nbformat": 4,
 "nbformat_minor": 2
}
