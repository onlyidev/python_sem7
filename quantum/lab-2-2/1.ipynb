{
 "cells": [
  {
   "cell_type": "code",
   "execution_count": 23,
   "metadata": {},
   "outputs": [],
   "source": [
    "import sympy as sp\n",
    "from sympy.physics.quantum import TensorProduct\n",
    "i = sp.I"
   ]
  },
  {
   "cell_type": "code",
   "execution_count": 24,
   "metadata": {},
   "outputs": [],
   "source": [
    "class Q:\n",
    "    X = sp.Matrix([\n",
    "        [0, 1],\n",
    "        [1, 0]\n",
    "    ])\n",
    "    Y = sp.Matrix([\n",
    "        [0, -i],\n",
    "        [i, 0]\n",
    "    ])\n",
    "    Z = sp.Matrix([\n",
    "        [1, 0],\n",
    "        [0, -1]\n",
    "    ])\n",
    "    H = sp.Matrix([\n",
    "        [1, 1],\n",
    "        [1, -1]\n",
    "    ])/sp.sqrt(2)\n",
    "    T = sp.Matrix([\n",
    "        [1, 0],\n",
    "        [0, sp.exp(i*sp.pi/4)]\n",
    "    ])\n",
    "    CX = sp.Matrix([\n",
    "        [sp.eye(2), sp.zeros(2)],\n",
    "        [sp.zeros(2), X]\n",
    "    ])\n",
    "    CU = lambda U: sp.Matrix([\n",
    "        [sp.eye(2), sp.zeros(2)],\n",
    "        [sp.zeros(2), U]\n",
    "    ])\n",
    "    CCNOT = sp.Matrix([\n",
    "        [sp.eye(4), sp.zeros(4)],\n",
    "        [sp.zeros(4), CX]\n",
    "    ])\n",
    "    SWAP = sp.Matrix([\n",
    "        [1, 0, 0, 0],\n",
    "        [0, 0, 1, 0],\n",
    "        [0, 1, 0, 0],\n",
    "        [0, 0, 0, 1],\n",
    "    ])\n",
    "    P = lambda phi: sp.Matrix([\n",
    "        [1, 0],\n",
    "        [0, sp.exp(i*phi)]\n",
    "    ])\n",
    "    XC = SWAP@CX@SWAP\n",
    "    UC = lambda U: Q.SWAP@Q.CU(U)@Q.SWAP\n",
    "    I = sp.eye(2)\n",
    "    Rx = lambda theta: sp.Matrix([\n",
    "        [sp.cos(theta/2), -i*sp.sin(theta/2)],\n",
    "        [-i*sp.sin(theta/2), sp.cos(theta/2)]\n",
    "    ])\n",
    "    S = sp.Matrix([\n",
    "        [1, 0],\n",
    "        [0, i]\n",
    "    ])\n",
    "    Sx = sp.Matrix([\n",
    "        [1+i, 1-i],\n",
    "        [1-i, 1+i]\n",
    "    ])/2\n"
   ]
  },
  {
   "cell_type": "code",
   "execution_count": 25,
   "metadata": {},
   "outputs": [
    {
     "data": {
      "text/latex": [
       "$\\displaystyle \\left[\\begin{array}{cccccccccccccccc}1 & 0 & 0 & 0 & 0 & 0 & 0 & 0 & 0 & 0 & 0 & 0 & 0 & 0 & 0 & 0\\\\0 & 1 & 0 & 0 & 0 & 0 & 0 & 0 & 0 & 0 & 0 & 0 & 0 & 0 & 0 & 0\\\\0 & 0 & 1 & 0 & 0 & 0 & 0 & 0 & 0 & 0 & 0 & 0 & 0 & 0 & 0 & 0\\\\0 & 0 & 0 & 1 & 0 & 0 & 0 & 0 & 0 & 0 & 0 & 0 & 0 & 0 & 0 & 0\\\\0 & 0 & 0 & 0 & 0 & - i & 0 & 0 & 0 & 0 & 0 & 0 & 0 & 0 & 0 & 0\\\\0 & 0 & 0 & 0 & i & 0 & 0 & 0 & 0 & 0 & 0 & 0 & 0 & 0 & 0 & 0\\\\0 & 0 & 0 & 0 & 0 & 0 & 0 & - i & 0 & 0 & 0 & 0 & 0 & 0 & 0 & 0\\\\0 & 0 & 0 & 0 & 0 & 0 & i & 0 & 0 & 0 & 0 & 0 & 0 & 0 & 0 & 0\\\\0 & 0 & 0 & 0 & 0 & 0 & 0 & 0 & i & 0 & 0 & 0 & 0 & 0 & 0 & 0\\\\0 & 0 & 0 & 0 & 0 & 0 & 0 & 0 & 0 & i & 0 & 0 & 0 & 0 & 0 & 0\\\\0 & 0 & 0 & 0 & 0 & 0 & 0 & 0 & 0 & 0 & i & 0 & 0 & 0 & 0 & 0\\\\0 & 0 & 0 & 0 & 0 & 0 & 0 & 0 & 0 & 0 & 0 & i & 0 & 0 & 0 & 0\\\\0 & 0 & 0 & 0 & 0 & 0 & 0 & 0 & 0 & 0 & 0 & 0 & 0 & 1 & 0 & 0\\\\0 & 0 & 0 & 0 & 0 & 0 & 0 & 0 & 0 & 0 & 0 & 0 & -1 & 0 & 0 & 0\\\\0 & 0 & 0 & 0 & 0 & 0 & 0 & 0 & 0 & 0 & 0 & 0 & 0 & 0 & 0 & 1\\\\0 & 0 & 0 & 0 & 0 & 0 & 0 & 0 & 0 & 0 & 0 & 0 & 0 & 0 & -1 & 0\\end{array}\\right]$"
      ],
      "text/plain": [
       "Matrix([\n",
       "[1, 0, 0, 0, 0,  0, 0,  0, 0, 0, 0, 0,  0, 0,  0, 0],\n",
       "[0, 1, 0, 0, 0,  0, 0,  0, 0, 0, 0, 0,  0, 0,  0, 0],\n",
       "[0, 0, 1, 0, 0,  0, 0,  0, 0, 0, 0, 0,  0, 0,  0, 0],\n",
       "[0, 0, 0, 1, 0,  0, 0,  0, 0, 0, 0, 0,  0, 0,  0, 0],\n",
       "[0, 0, 0, 0, 0, -I, 0,  0, 0, 0, 0, 0,  0, 0,  0, 0],\n",
       "[0, 0, 0, 0, I,  0, 0,  0, 0, 0, 0, 0,  0, 0,  0, 0],\n",
       "[0, 0, 0, 0, 0,  0, 0, -I, 0, 0, 0, 0,  0, 0,  0, 0],\n",
       "[0, 0, 0, 0, 0,  0, I,  0, 0, 0, 0, 0,  0, 0,  0, 0],\n",
       "[0, 0, 0, 0, 0,  0, 0,  0, I, 0, 0, 0,  0, 0,  0, 0],\n",
       "[0, 0, 0, 0, 0,  0, 0,  0, 0, I, 0, 0,  0, 0,  0, 0],\n",
       "[0, 0, 0, 0, 0,  0, 0,  0, 0, 0, I, 0,  0, 0,  0, 0],\n",
       "[0, 0, 0, 0, 0,  0, 0,  0, 0, 0, 0, I,  0, 0,  0, 0],\n",
       "[0, 0, 0, 0, 0,  0, 0,  0, 0, 0, 0, 0,  0, 1,  0, 0],\n",
       "[0, 0, 0, 0, 0,  0, 0,  0, 0, 0, 0, 0, -1, 0,  0, 0],\n",
       "[0, 0, 0, 0, 0,  0, 0,  0, 0, 0, 0, 0,  0, 0,  0, 1],\n",
       "[0, 0, 0, 0, 0,  0, 0,  0, 0, 0, 0, 0,  0, 0, -1, 0]])"
      ]
     },
     "execution_count": 25,
     "metadata": {},
     "output_type": "execute_result"
    }
   ],
   "source": [
    "def swap23(U):\n",
    "    sw = TensorProduct(Q.I, Q.I, Q.SWAP)\n",
    "    return sw * U * sw\n",
    "\n",
    "state1 = swap23(TensorProduct(Q.S, Q.CU(Q.Y), Q.I))\n",
    "state1\n"
   ]
  },
  {
   "cell_type": "code",
   "execution_count": 26,
   "metadata": {},
   "outputs": [
    {
     "data": {
      "text/latex": [
       "$\\displaystyle \\left[\\begin{array}{cccccccccccccccc}\\sqrt{\\frac{\\sqrt{2}}{4} + \\frac{1}{2}} & 0 & - i \\sqrt{\\frac{1}{2} - \\frac{\\sqrt{2}}{4}} & 0 & 0 & 0 & 0 & 0 & 0 & 0 & 0 & 0 & 0 & 0 & 0 & 0\\\\0 & \\sqrt{\\frac{\\sqrt{2}}{4} + \\frac{1}{2}} & 0 & - i \\sqrt{\\frac{1}{2} - \\frac{\\sqrt{2}}{4}} & 0 & 0 & 0 & 0 & 0 & 0 & 0 & 0 & 0 & 0 & 0 & 0\\\\- i \\sqrt{\\frac{1}{2} - \\frac{\\sqrt{2}}{4}} & 0 & \\sqrt{\\frac{\\sqrt{2}}{4} + \\frac{1}{2}} & 0 & 0 & 0 & 0 & 0 & 0 & 0 & 0 & 0 & 0 & 0 & 0 & 0\\\\0 & - i \\sqrt{\\frac{1}{2} - \\frac{\\sqrt{2}}{4}} & 0 & \\sqrt{\\frac{\\sqrt{2}}{4} + \\frac{1}{2}} & 0 & 0 & 0 & 0 & 0 & 0 & 0 & 0 & 0 & 0 & 0 & 0\\\\0 & 0 & 0 & 0 & 0 & - i \\sqrt{\\frac{\\sqrt{2}}{4} + \\frac{1}{2}} & 0 & - \\sqrt{\\frac{1}{2} - \\frac{\\sqrt{2}}{4}} & 0 & 0 & 0 & 0 & 0 & 0 & 0 & 0\\\\0 & 0 & 0 & 0 & i \\sqrt{\\frac{\\sqrt{2}}{4} + \\frac{1}{2}} & 0 & \\sqrt{\\frac{1}{2} - \\frac{\\sqrt{2}}{4}} & 0 & 0 & 0 & 0 & 0 & 0 & 0 & 0 & 0\\\\0 & 0 & 0 & 0 & 0 & - \\sqrt{\\frac{1}{2} - \\frac{\\sqrt{2}}{4}} & 0 & - i \\sqrt{\\frac{\\sqrt{2}}{4} + \\frac{1}{2}} & 0 & 0 & 0 & 0 & 0 & 0 & 0 & 0\\\\0 & 0 & 0 & 0 & \\sqrt{\\frac{1}{2} - \\frac{\\sqrt{2}}{4}} & 0 & i \\sqrt{\\frac{\\sqrt{2}}{4} + \\frac{1}{2}} & 0 & 0 & 0 & 0 & 0 & 0 & 0 & 0 & 0\\\\0 & 0 & 0 & 0 & 0 & 0 & 0 & 0 & i \\sqrt{\\frac{\\sqrt{2}}{4} + \\frac{1}{2}} & 0 & \\sqrt{\\frac{1}{2} - \\frac{\\sqrt{2}}{4}} & 0 & 0 & 0 & 0 & 0\\\\0 & 0 & 0 & 0 & 0 & 0 & 0 & 0 & 0 & i \\sqrt{\\frac{\\sqrt{2}}{4} + \\frac{1}{2}} & 0 & \\sqrt{\\frac{1}{2} - \\frac{\\sqrt{2}}{4}} & 0 & 0 & 0 & 0\\\\0 & 0 & 0 & 0 & 0 & 0 & 0 & 0 & \\sqrt{\\frac{1}{2} - \\frac{\\sqrt{2}}{4}} & 0 & i \\sqrt{\\frac{\\sqrt{2}}{4} + \\frac{1}{2}} & 0 & 0 & 0 & 0 & 0\\\\0 & 0 & 0 & 0 & 0 & 0 & 0 & 0 & 0 & \\sqrt{\\frac{1}{2} - \\frac{\\sqrt{2}}{4}} & 0 & i \\sqrt{\\frac{\\sqrt{2}}{4} + \\frac{1}{2}} & 0 & 0 & 0 & 0\\\\0 & 0 & 0 & 0 & 0 & 0 & 0 & 0 & 0 & 0 & 0 & 0 & 0 & \\sqrt{\\frac{\\sqrt{2}}{4} + \\frac{1}{2}} & 0 & - i \\sqrt{\\frac{1}{2} - \\frac{\\sqrt{2}}{4}}\\\\0 & 0 & 0 & 0 & 0 & 0 & 0 & 0 & 0 & 0 & 0 & 0 & - \\sqrt{\\frac{\\sqrt{2}}{4} + \\frac{1}{2}} & 0 & i \\sqrt{\\frac{1}{2} - \\frac{\\sqrt{2}}{4}} & 0\\\\0 & 0 & 0 & 0 & 0 & 0 & 0 & 0 & 0 & 0 & 0 & 0 & 0 & - i \\sqrt{\\frac{1}{2} - \\frac{\\sqrt{2}}{4}} & 0 & \\sqrt{\\frac{\\sqrt{2}}{4} + \\frac{1}{2}}\\\\0 & 0 & 0 & 0 & 0 & 0 & 0 & 0 & 0 & 0 & 0 & 0 & i \\sqrt{\\frac{1}{2} - \\frac{\\sqrt{2}}{4}} & 0 & - \\sqrt{\\frac{\\sqrt{2}}{4} + \\frac{1}{2}} & 0\\end{array}\\right]$"
      ],
      "text/plain": [
       "Matrix([\n",
       "[   sqrt(sqrt(2)/4 + 1/2),                        0, -I*sqrt(1/2 - sqrt(2)/4),                        0,                       0,                        0,                       0,                        0,                       0,                       0,                       0,                       0,                       0,                        0,                       0,                        0],\n",
       "[                       0,    sqrt(sqrt(2)/4 + 1/2),                        0, -I*sqrt(1/2 - sqrt(2)/4),                       0,                        0,                       0,                        0,                       0,                       0,                       0,                       0,                       0,                        0,                       0,                        0],\n",
       "[-I*sqrt(1/2 - sqrt(2)/4),                        0,    sqrt(sqrt(2)/4 + 1/2),                        0,                       0,                        0,                       0,                        0,                       0,                       0,                       0,                       0,                       0,                        0,                       0,                        0],\n",
       "[                       0, -I*sqrt(1/2 - sqrt(2)/4),                        0,    sqrt(sqrt(2)/4 + 1/2),                       0,                        0,                       0,                        0,                       0,                       0,                       0,                       0,                       0,                        0,                       0,                        0],\n",
       "[                       0,                        0,                        0,                        0,                       0, -I*sqrt(sqrt(2)/4 + 1/2),                       0,   -sqrt(1/2 - sqrt(2)/4),                       0,                       0,                       0,                       0,                       0,                        0,                       0,                        0],\n",
       "[                       0,                        0,                        0,                        0, I*sqrt(sqrt(2)/4 + 1/2),                        0,   sqrt(1/2 - sqrt(2)/4),                        0,                       0,                       0,                       0,                       0,                       0,                        0,                       0,                        0],\n",
       "[                       0,                        0,                        0,                        0,                       0,   -sqrt(1/2 - sqrt(2)/4),                       0, -I*sqrt(sqrt(2)/4 + 1/2),                       0,                       0,                       0,                       0,                       0,                        0,                       0,                        0],\n",
       "[                       0,                        0,                        0,                        0,   sqrt(1/2 - sqrt(2)/4),                        0, I*sqrt(sqrt(2)/4 + 1/2),                        0,                       0,                       0,                       0,                       0,                       0,                        0,                       0,                        0],\n",
       "[                       0,                        0,                        0,                        0,                       0,                        0,                       0,                        0, I*sqrt(sqrt(2)/4 + 1/2),                       0,   sqrt(1/2 - sqrt(2)/4),                       0,                       0,                        0,                       0,                        0],\n",
       "[                       0,                        0,                        0,                        0,                       0,                        0,                       0,                        0,                       0, I*sqrt(sqrt(2)/4 + 1/2),                       0,   sqrt(1/2 - sqrt(2)/4),                       0,                        0,                       0,                        0],\n",
       "[                       0,                        0,                        0,                        0,                       0,                        0,                       0,                        0,   sqrt(1/2 - sqrt(2)/4),                       0, I*sqrt(sqrt(2)/4 + 1/2),                       0,                       0,                        0,                       0,                        0],\n",
       "[                       0,                        0,                        0,                        0,                       0,                        0,                       0,                        0,                       0,   sqrt(1/2 - sqrt(2)/4),                       0, I*sqrt(sqrt(2)/4 + 1/2),                       0,                        0,                       0,                        0],\n",
       "[                       0,                        0,                        0,                        0,                       0,                        0,                       0,                        0,                       0,                       0,                       0,                       0,                       0,    sqrt(sqrt(2)/4 + 1/2),                       0, -I*sqrt(1/2 - sqrt(2)/4)],\n",
       "[                       0,                        0,                        0,                        0,                       0,                        0,                       0,                        0,                       0,                       0,                       0,                       0,  -sqrt(sqrt(2)/4 + 1/2),                        0, I*sqrt(1/2 - sqrt(2)/4),                        0],\n",
       "[                       0,                        0,                        0,                        0,                       0,                        0,                       0,                        0,                       0,                       0,                       0,                       0,                       0, -I*sqrt(1/2 - sqrt(2)/4),                       0,    sqrt(sqrt(2)/4 + 1/2)],\n",
       "[                       0,                        0,                        0,                        0,                       0,                        0,                       0,                        0,                       0,                       0,                       0,                       0, I*sqrt(1/2 - sqrt(2)/4),                        0,  -sqrt(sqrt(2)/4 + 1/2),                        0]])"
      ]
     },
     "execution_count": 26,
     "metadata": {},
     "output_type": "execute_result"
    }
   ],
   "source": [
    "state2 = state1 * TensorProduct(Q.I, Q.I, Q.Rx(sp.pi/4), Q.I)\n",
    "state2"
   ]
  },
  {
   "cell_type": "code",
   "execution_count": 27,
   "metadata": {},
   "outputs": [
    {
     "data": {
      "text/latex": [
       "$\\displaystyle \\left[\\begin{array}{cccccccccccccccc}\\sqrt{\\frac{\\sqrt{2}}{4} + \\frac{1}{2}} & 0 & - i \\sqrt{\\frac{1}{2} - \\frac{\\sqrt{2}}{4}} & 0 & 0 & 0 & 0 & 0 & 0 & 0 & 0 & 0 & 0 & 0 & 0 & 0\\\\0 & \\sqrt{\\frac{\\sqrt{2}}{4} + \\frac{1}{2}} & 0 & - i \\sqrt{\\frac{1}{2} - \\frac{\\sqrt{2}}{4}} & 0 & 0 & 0 & 0 & 0 & 0 & 0 & 0 & 0 & 0 & 0 & 0\\\\- i \\sqrt{\\frac{1}{2} - \\frac{\\sqrt{2}}{4}} & 0 & \\sqrt{\\frac{\\sqrt{2}}{4} + \\frac{1}{2}} & 0 & 0 & 0 & 0 & 0 & 0 & 0 & 0 & 0 & 0 & 0 & 0 & 0\\\\0 & - i \\sqrt{\\frac{1}{2} - \\frac{\\sqrt{2}}{4}} & 0 & \\sqrt{\\frac{\\sqrt{2}}{4} + \\frac{1}{2}} & 0 & 0 & 0 & 0 & 0 & 0 & 0 & 0 & 0 & 0 & 0 & 0\\\\0 & 0 & 0 & 0 & - i \\left(\\frac{1}{2} - \\frac{i}{2}\\right) \\sqrt{\\frac{\\sqrt{2}}{4} + \\frac{1}{2}} & - i \\left(\\frac{1}{2} + \\frac{i}{2}\\right) \\sqrt{\\frac{\\sqrt{2}}{4} + \\frac{1}{2}} & - \\sqrt{\\frac{1}{2} - \\frac{\\sqrt{2}}{4}} \\left(\\frac{1}{2} - \\frac{i}{2}\\right) & - \\sqrt{\\frac{1}{2} - \\frac{\\sqrt{2}}{4}} \\left(\\frac{1}{2} + \\frac{i}{2}\\right) & 0 & 0 & 0 & 0 & 0 & 0 & 0 & 0\\\\0 & 0 & 0 & 0 & i \\left(\\frac{1}{2} + \\frac{i}{2}\\right) \\sqrt{\\frac{\\sqrt{2}}{4} + \\frac{1}{2}} & i \\left(\\frac{1}{2} - \\frac{i}{2}\\right) \\sqrt{\\frac{\\sqrt{2}}{4} + \\frac{1}{2}} & \\sqrt{\\frac{1}{2} - \\frac{\\sqrt{2}}{4}} \\left(\\frac{1}{2} + \\frac{i}{2}\\right) & \\sqrt{\\frac{1}{2} - \\frac{\\sqrt{2}}{4}} \\left(\\frac{1}{2} - \\frac{i}{2}\\right) & 0 & 0 & 0 & 0 & 0 & 0 & 0 & 0\\\\0 & 0 & 0 & 0 & - \\sqrt{\\frac{1}{2} - \\frac{\\sqrt{2}}{4}} \\left(\\frac{1}{2} - \\frac{i}{2}\\right) & - \\sqrt{\\frac{1}{2} - \\frac{\\sqrt{2}}{4}} \\left(\\frac{1}{2} + \\frac{i}{2}\\right) & - i \\left(\\frac{1}{2} - \\frac{i}{2}\\right) \\sqrt{\\frac{\\sqrt{2}}{4} + \\frac{1}{2}} & - i \\left(\\frac{1}{2} + \\frac{i}{2}\\right) \\sqrt{\\frac{\\sqrt{2}}{4} + \\frac{1}{2}} & 0 & 0 & 0 & 0 & 0 & 0 & 0 & 0\\\\0 & 0 & 0 & 0 & \\sqrt{\\frac{1}{2} - \\frac{\\sqrt{2}}{4}} \\left(\\frac{1}{2} + \\frac{i}{2}\\right) & \\sqrt{\\frac{1}{2} - \\frac{\\sqrt{2}}{4}} \\left(\\frac{1}{2} - \\frac{i}{2}\\right) & i \\left(\\frac{1}{2} + \\frac{i}{2}\\right) \\sqrt{\\frac{\\sqrt{2}}{4} + \\frac{1}{2}} & i \\left(\\frac{1}{2} - \\frac{i}{2}\\right) \\sqrt{\\frac{\\sqrt{2}}{4} + \\frac{1}{2}} & 0 & 0 & 0 & 0 & 0 & 0 & 0 & 0\\\\0 & 0 & 0 & 0 & 0 & 0 & 0 & 0 & i \\sqrt{\\frac{\\sqrt{2}}{4} + \\frac{1}{2}} & 0 & \\sqrt{\\frac{1}{2} - \\frac{\\sqrt{2}}{4}} & 0 & 0 & 0 & 0 & 0\\\\0 & 0 & 0 & 0 & 0 & 0 & 0 & 0 & 0 & i \\sqrt{\\frac{\\sqrt{2}}{4} + \\frac{1}{2}} & 0 & \\sqrt{\\frac{1}{2} - \\frac{\\sqrt{2}}{4}} & 0 & 0 & 0 & 0\\\\0 & 0 & 0 & 0 & 0 & 0 & 0 & 0 & \\sqrt{\\frac{1}{2} - \\frac{\\sqrt{2}}{4}} & 0 & i \\sqrt{\\frac{\\sqrt{2}}{4} + \\frac{1}{2}} & 0 & 0 & 0 & 0 & 0\\\\0 & 0 & 0 & 0 & 0 & 0 & 0 & 0 & 0 & \\sqrt{\\frac{1}{2} - \\frac{\\sqrt{2}}{4}} & 0 & i \\sqrt{\\frac{\\sqrt{2}}{4} + \\frac{1}{2}} & 0 & 0 & 0 & 0\\\\0 & 0 & 0 & 0 & 0 & 0 & 0 & 0 & 0 & 0 & 0 & 0 & \\left(\\frac{1}{2} - \\frac{i}{2}\\right) \\sqrt{\\frac{\\sqrt{2}}{4} + \\frac{1}{2}} & \\left(\\frac{1}{2} + \\frac{i}{2}\\right) \\sqrt{\\frac{\\sqrt{2}}{4} + \\frac{1}{2}} & - i \\sqrt{\\frac{1}{2} - \\frac{\\sqrt{2}}{4}} \\left(\\frac{1}{2} - \\frac{i}{2}\\right) & - i \\sqrt{\\frac{1}{2} - \\frac{\\sqrt{2}}{4}} \\left(\\frac{1}{2} + \\frac{i}{2}\\right)\\\\0 & 0 & 0 & 0 & 0 & 0 & 0 & 0 & 0 & 0 & 0 & 0 & - \\left(\\frac{1}{2} + \\frac{i}{2}\\right) \\sqrt{\\frac{\\sqrt{2}}{4} + \\frac{1}{2}} & - \\left(\\frac{1}{2} - \\frac{i}{2}\\right) \\sqrt{\\frac{\\sqrt{2}}{4} + \\frac{1}{2}} & i \\sqrt{\\frac{1}{2} - \\frac{\\sqrt{2}}{4}} \\left(\\frac{1}{2} + \\frac{i}{2}\\right) & i \\sqrt{\\frac{1}{2} - \\frac{\\sqrt{2}}{4}} \\left(\\frac{1}{2} - \\frac{i}{2}\\right)\\\\0 & 0 & 0 & 0 & 0 & 0 & 0 & 0 & 0 & 0 & 0 & 0 & - i \\sqrt{\\frac{1}{2} - \\frac{\\sqrt{2}}{4}} \\left(\\frac{1}{2} - \\frac{i}{2}\\right) & - i \\sqrt{\\frac{1}{2} - \\frac{\\sqrt{2}}{4}} \\left(\\frac{1}{2} + \\frac{i}{2}\\right) & \\left(\\frac{1}{2} - \\frac{i}{2}\\right) \\sqrt{\\frac{\\sqrt{2}}{4} + \\frac{1}{2}} & \\left(\\frac{1}{2} + \\frac{i}{2}\\right) \\sqrt{\\frac{\\sqrt{2}}{4} + \\frac{1}{2}}\\\\0 & 0 & 0 & 0 & 0 & 0 & 0 & 0 & 0 & 0 & 0 & 0 & i \\sqrt{\\frac{1}{2} - \\frac{\\sqrt{2}}{4}} \\left(\\frac{1}{2} + \\frac{i}{2}\\right) & i \\sqrt{\\frac{1}{2} - \\frac{\\sqrt{2}}{4}} \\left(\\frac{1}{2} - \\frac{i}{2}\\right) & - \\left(\\frac{1}{2} + \\frac{i}{2}\\right) \\sqrt{\\frac{\\sqrt{2}}{4} + \\frac{1}{2}} & - \\left(\\frac{1}{2} - \\frac{i}{2}\\right) \\sqrt{\\frac{\\sqrt{2}}{4} + \\frac{1}{2}}\\end{array}\\right]$"
      ],
      "text/plain": [
       "Matrix([\n",
       "[   sqrt(sqrt(2)/4 + 1/2),                        0, -I*sqrt(1/2 - sqrt(2)/4),                        0,                                    0,                                    0,                                    0,                                    0,                       0,                       0,                       0,                       0,                                    0,                                    0,                                    0,                                    0],\n",
       "[                       0,    sqrt(sqrt(2)/4 + 1/2),                        0, -I*sqrt(1/2 - sqrt(2)/4),                                    0,                                    0,                                    0,                                    0,                       0,                       0,                       0,                       0,                                    0,                                    0,                                    0,                                    0],\n",
       "[-I*sqrt(1/2 - sqrt(2)/4),                        0,    sqrt(sqrt(2)/4 + 1/2),                        0,                                    0,                                    0,                                    0,                                    0,                       0,                       0,                       0,                       0,                                    0,                                    0,                                    0,                                    0],\n",
       "[                       0, -I*sqrt(1/2 - sqrt(2)/4),                        0,    sqrt(sqrt(2)/4 + 1/2),                                    0,                                    0,                                    0,                                    0,                       0,                       0,                       0,                       0,                                    0,                                    0,                                    0,                                    0],\n",
       "[                       0,                        0,                        0,                        0, -I*(1/2 - I/2)*sqrt(sqrt(2)/4 + 1/2), -I*(1/2 + I/2)*sqrt(sqrt(2)/4 + 1/2),   -sqrt(1/2 - sqrt(2)/4)*(1/2 - I/2),   -sqrt(1/2 - sqrt(2)/4)*(1/2 + I/2),                       0,                       0,                       0,                       0,                                    0,                                    0,                                    0,                                    0],\n",
       "[                       0,                        0,                        0,                        0,  I*(1/2 + I/2)*sqrt(sqrt(2)/4 + 1/2),  I*(1/2 - I/2)*sqrt(sqrt(2)/4 + 1/2),    sqrt(1/2 - sqrt(2)/4)*(1/2 + I/2),    sqrt(1/2 - sqrt(2)/4)*(1/2 - I/2),                       0,                       0,                       0,                       0,                                    0,                                    0,                                    0,                                    0],\n",
       "[                       0,                        0,                        0,                        0,   -sqrt(1/2 - sqrt(2)/4)*(1/2 - I/2),   -sqrt(1/2 - sqrt(2)/4)*(1/2 + I/2), -I*(1/2 - I/2)*sqrt(sqrt(2)/4 + 1/2), -I*(1/2 + I/2)*sqrt(sqrt(2)/4 + 1/2),                       0,                       0,                       0,                       0,                                    0,                                    0,                                    0,                                    0],\n",
       "[                       0,                        0,                        0,                        0,    sqrt(1/2 - sqrt(2)/4)*(1/2 + I/2),    sqrt(1/2 - sqrt(2)/4)*(1/2 - I/2),  I*(1/2 + I/2)*sqrt(sqrt(2)/4 + 1/2),  I*(1/2 - I/2)*sqrt(sqrt(2)/4 + 1/2),                       0,                       0,                       0,                       0,                                    0,                                    0,                                    0,                                    0],\n",
       "[                       0,                        0,                        0,                        0,                                    0,                                    0,                                    0,                                    0, I*sqrt(sqrt(2)/4 + 1/2),                       0,   sqrt(1/2 - sqrt(2)/4),                       0,                                    0,                                    0,                                    0,                                    0],\n",
       "[                       0,                        0,                        0,                        0,                                    0,                                    0,                                    0,                                    0,                       0, I*sqrt(sqrt(2)/4 + 1/2),                       0,   sqrt(1/2 - sqrt(2)/4),                                    0,                                    0,                                    0,                                    0],\n",
       "[                       0,                        0,                        0,                        0,                                    0,                                    0,                                    0,                                    0,   sqrt(1/2 - sqrt(2)/4),                       0, I*sqrt(sqrt(2)/4 + 1/2),                       0,                                    0,                                    0,                                    0,                                    0],\n",
       "[                       0,                        0,                        0,                        0,                                    0,                                    0,                                    0,                                    0,                       0,   sqrt(1/2 - sqrt(2)/4),                       0, I*sqrt(sqrt(2)/4 + 1/2),                                    0,                                    0,                                    0,                                    0],\n",
       "[                       0,                        0,                        0,                        0,                                    0,                                    0,                                    0,                                    0,                       0,                       0,                       0,                       0,    (1/2 - I/2)*sqrt(sqrt(2)/4 + 1/2),    (1/2 + I/2)*sqrt(sqrt(2)/4 + 1/2), -I*sqrt(1/2 - sqrt(2)/4)*(1/2 - I/2), -I*sqrt(1/2 - sqrt(2)/4)*(1/2 + I/2)],\n",
       "[                       0,                        0,                        0,                        0,                                    0,                                    0,                                    0,                                    0,                       0,                       0,                       0,                       0,   -(1/2 + I/2)*sqrt(sqrt(2)/4 + 1/2),   -(1/2 - I/2)*sqrt(sqrt(2)/4 + 1/2),  I*sqrt(1/2 - sqrt(2)/4)*(1/2 + I/2),  I*sqrt(1/2 - sqrt(2)/4)*(1/2 - I/2)],\n",
       "[                       0,                        0,                        0,                        0,                                    0,                                    0,                                    0,                                    0,                       0,                       0,                       0,                       0, -I*sqrt(1/2 - sqrt(2)/4)*(1/2 - I/2), -I*sqrt(1/2 - sqrt(2)/4)*(1/2 + I/2),    (1/2 - I/2)*sqrt(sqrt(2)/4 + 1/2),    (1/2 + I/2)*sqrt(sqrt(2)/4 + 1/2)],\n",
       "[                       0,                        0,                        0,                        0,                                    0,                                    0,                                    0,                                    0,                       0,                       0,                       0,                       0,  I*sqrt(1/2 - sqrt(2)/4)*(1/2 + I/2),  I*sqrt(1/2 - sqrt(2)/4)*(1/2 - I/2),   -(1/2 + I/2)*sqrt(sqrt(2)/4 + 1/2),   -(1/2 - I/2)*sqrt(sqrt(2)/4 + 1/2)]])"
      ]
     },
     "execution_count": 27,
     "metadata": {},
     "output_type": "execute_result"
    }
   ],
   "source": [
    "state3 = state2 * swap23(TensorProduct(Q.I, Q.CU(Q.Sx), Q.I))\n",
    "state3"
   ]
  },
  {
   "cell_type": "code",
   "execution_count": 28,
   "metadata": {},
   "outputs": [
    {
     "data": {
      "text/latex": [
       "$\\displaystyle \\left[\\begin{array}{cccccccccccccccc}\\sqrt{\\frac{\\sqrt{2}}{4} + \\frac{1}{2}} & 0 & - i \\sqrt{\\frac{1}{2} - \\frac{\\sqrt{2}}{4}} & 0 & 0 & 0 & 0 & 0 & 0 & 0 & 0 & 0 & 0 & 0 & 0 & 0\\\\0 & \\sqrt{\\frac{\\sqrt{2}}{4} + \\frac{1}{2}} & 0 & - i \\sqrt{\\frac{1}{2} - \\frac{\\sqrt{2}}{4}} & 0 & 0 & 0 & 0 & 0 & 0 & 0 & 0 & 0 & 0 & 0 & 0\\\\- i \\sqrt{\\frac{1}{2} - \\frac{\\sqrt{2}}{4}} & 0 & \\sqrt{\\frac{\\sqrt{2}}{4} + \\frac{1}{2}} & 0 & 0 & 0 & 0 & 0 & 0 & 0 & 0 & 0 & 0 & 0 & 0 & 0\\\\0 & - i \\sqrt{\\frac{1}{2} - \\frac{\\sqrt{2}}{4}} & 0 & \\sqrt{\\frac{\\sqrt{2}}{4} + \\frac{1}{2}} & 0 & 0 & 0 & 0 & 0 & 0 & 0 & 0 & 0 & 0 & 0 & 0\\\\0 & 0 & 0 & 0 & - i \\left(\\frac{1}{2} - \\frac{i}{2}\\right) \\sqrt{\\frac{\\sqrt{2}}{4} + \\frac{1}{2}} & - i \\left(\\frac{1}{2} + \\frac{i}{2}\\right) \\sqrt{\\frac{\\sqrt{2}}{4} + \\frac{1}{2}} & - \\sqrt{\\frac{1}{2} - \\frac{\\sqrt{2}}{4}} \\left(\\frac{1}{2} - \\frac{i}{2}\\right) & - \\sqrt{\\frac{1}{2} - \\frac{\\sqrt{2}}{4}} \\left(\\frac{1}{2} + \\frac{i}{2}\\right) & 0 & 0 & 0 & 0 & 0 & 0 & 0 & 0\\\\0 & 0 & 0 & 0 & i \\left(\\frac{1}{2} + \\frac{i}{2}\\right) \\sqrt{\\frac{\\sqrt{2}}{4} + \\frac{1}{2}} & i \\left(\\frac{1}{2} - \\frac{i}{2}\\right) \\sqrt{\\frac{\\sqrt{2}}{4} + \\frac{1}{2}} & \\sqrt{\\frac{1}{2} - \\frac{\\sqrt{2}}{4}} \\left(\\frac{1}{2} + \\frac{i}{2}\\right) & \\sqrt{\\frac{1}{2} - \\frac{\\sqrt{2}}{4}} \\left(\\frac{1}{2} - \\frac{i}{2}\\right) & 0 & 0 & 0 & 0 & 0 & 0 & 0 & 0\\\\0 & 0 & 0 & 0 & - \\sqrt{\\frac{1}{2} - \\frac{\\sqrt{2}}{4}} \\left(\\frac{1}{2} - \\frac{i}{2}\\right) & - \\sqrt{\\frac{1}{2} - \\frac{\\sqrt{2}}{4}} \\left(\\frac{1}{2} + \\frac{i}{2}\\right) & - i \\left(\\frac{1}{2} - \\frac{i}{2}\\right) \\sqrt{\\frac{\\sqrt{2}}{4} + \\frac{1}{2}} & - i \\left(\\frac{1}{2} + \\frac{i}{2}\\right) \\sqrt{\\frac{\\sqrt{2}}{4} + \\frac{1}{2}} & 0 & 0 & 0 & 0 & 0 & 0 & 0 & 0\\\\0 & 0 & 0 & 0 & \\sqrt{\\frac{1}{2} - \\frac{\\sqrt{2}}{4}} \\left(\\frac{1}{2} + \\frac{i}{2}\\right) & \\sqrt{\\frac{1}{2} - \\frac{\\sqrt{2}}{4}} \\left(\\frac{1}{2} - \\frac{i}{2}\\right) & i \\left(\\frac{1}{2} + \\frac{i}{2}\\right) \\sqrt{\\frac{\\sqrt{2}}{4} + \\frac{1}{2}} & i \\left(\\frac{1}{2} - \\frac{i}{2}\\right) \\sqrt{\\frac{\\sqrt{2}}{4} + \\frac{1}{2}} & 0 & 0 & 0 & 0 & 0 & 0 & 0 & 0\\\\0 & 0 & 0 & 0 & 0 & 0 & 0 & 0 & i \\sqrt{\\frac{\\sqrt{2}}{4} + \\frac{1}{2}} & 0 & \\sqrt{\\frac{1}{2} - \\frac{\\sqrt{2}}{4}} & 0 & 0 & 0 & 0 & 0\\\\0 & 0 & 0 & 0 & 0 & 0 & 0 & 0 & 0 & 0 & 0 & 0 & 0 & i \\sqrt{\\frac{\\sqrt{2}}{4} + \\frac{1}{2}} & 0 & \\sqrt{\\frac{1}{2} - \\frac{\\sqrt{2}}{4}}\\\\0 & 0 & 0 & 0 & 0 & 0 & 0 & 0 & \\sqrt{\\frac{1}{2} - \\frac{\\sqrt{2}}{4}} & 0 & i \\sqrt{\\frac{\\sqrt{2}}{4} + \\frac{1}{2}} & 0 & 0 & 0 & 0 & 0\\\\0 & 0 & 0 & 0 & 0 & 0 & 0 & 0 & 0 & 0 & 0 & 0 & 0 & \\sqrt{\\frac{1}{2} - \\frac{\\sqrt{2}}{4}} & 0 & i \\sqrt{\\frac{\\sqrt{2}}{4} + \\frac{1}{2}}\\\\0 & 0 & 0 & 0 & 0 & 0 & 0 & 0 & 0 & \\left(\\frac{1}{2} + \\frac{i}{2}\\right) \\sqrt{\\frac{\\sqrt{2}}{4} + \\frac{1}{2}} & 0 & - i \\sqrt{\\frac{1}{2} - \\frac{\\sqrt{2}}{4}} \\left(\\frac{1}{2} + \\frac{i}{2}\\right) & \\left(\\frac{1}{2} - \\frac{i}{2}\\right) \\sqrt{\\frac{\\sqrt{2}}{4} + \\frac{1}{2}} & 0 & - i \\sqrt{\\frac{1}{2} - \\frac{\\sqrt{2}}{4}} \\left(\\frac{1}{2} - \\frac{i}{2}\\right) & 0\\\\0 & 0 & 0 & 0 & 0 & 0 & 0 & 0 & 0 & - \\left(\\frac{1}{2} - \\frac{i}{2}\\right) \\sqrt{\\frac{\\sqrt{2}}{4} + \\frac{1}{2}} & 0 & i \\sqrt{\\frac{1}{2} - \\frac{\\sqrt{2}}{4}} \\left(\\frac{1}{2} - \\frac{i}{2}\\right) & - \\left(\\frac{1}{2} + \\frac{i}{2}\\right) \\sqrt{\\frac{\\sqrt{2}}{4} + \\frac{1}{2}} & 0 & i \\sqrt{\\frac{1}{2} - \\frac{\\sqrt{2}}{4}} \\left(\\frac{1}{2} + \\frac{i}{2}\\right) & 0\\\\0 & 0 & 0 & 0 & 0 & 0 & 0 & 0 & 0 & - i \\sqrt{\\frac{1}{2} - \\frac{\\sqrt{2}}{4}} \\left(\\frac{1}{2} + \\frac{i}{2}\\right) & 0 & \\left(\\frac{1}{2} + \\frac{i}{2}\\right) \\sqrt{\\frac{\\sqrt{2}}{4} + \\frac{1}{2}} & - i \\sqrt{\\frac{1}{2} - \\frac{\\sqrt{2}}{4}} \\left(\\frac{1}{2} - \\frac{i}{2}\\right) & 0 & \\left(\\frac{1}{2} - \\frac{i}{2}\\right) \\sqrt{\\frac{\\sqrt{2}}{4} + \\frac{1}{2}} & 0\\\\0 & 0 & 0 & 0 & 0 & 0 & 0 & 0 & 0 & i \\sqrt{\\frac{1}{2} - \\frac{\\sqrt{2}}{4}} \\left(\\frac{1}{2} - \\frac{i}{2}\\right) & 0 & - \\left(\\frac{1}{2} - \\frac{i}{2}\\right) \\sqrt{\\frac{\\sqrt{2}}{4} + \\frac{1}{2}} & i \\sqrt{\\frac{1}{2} - \\frac{\\sqrt{2}}{4}} \\left(\\frac{1}{2} + \\frac{i}{2}\\right) & 0 & - \\left(\\frac{1}{2} + \\frac{i}{2}\\right) \\sqrt{\\frac{\\sqrt{2}}{4} + \\frac{1}{2}} & 0\\end{array}\\right]$"
      ],
      "text/plain": [
       "Matrix([\n",
       "[   sqrt(sqrt(2)/4 + 1/2),                        0, -I*sqrt(1/2 - sqrt(2)/4),                        0,                                    0,                                    0,                                    0,                                    0,                       0,                                    0,                       0,                                    0,                                    0,                       0,                                    0,                       0],\n",
       "[                       0,    sqrt(sqrt(2)/4 + 1/2),                        0, -I*sqrt(1/2 - sqrt(2)/4),                                    0,                                    0,                                    0,                                    0,                       0,                                    0,                       0,                                    0,                                    0,                       0,                                    0,                       0],\n",
       "[-I*sqrt(1/2 - sqrt(2)/4),                        0,    sqrt(sqrt(2)/4 + 1/2),                        0,                                    0,                                    0,                                    0,                                    0,                       0,                                    0,                       0,                                    0,                                    0,                       0,                                    0,                       0],\n",
       "[                       0, -I*sqrt(1/2 - sqrt(2)/4),                        0,    sqrt(sqrt(2)/4 + 1/2),                                    0,                                    0,                                    0,                                    0,                       0,                                    0,                       0,                                    0,                                    0,                       0,                                    0,                       0],\n",
       "[                       0,                        0,                        0,                        0, -I*(1/2 - I/2)*sqrt(sqrt(2)/4 + 1/2), -I*(1/2 + I/2)*sqrt(sqrt(2)/4 + 1/2),   -sqrt(1/2 - sqrt(2)/4)*(1/2 - I/2),   -sqrt(1/2 - sqrt(2)/4)*(1/2 + I/2),                       0,                                    0,                       0,                                    0,                                    0,                       0,                                    0,                       0],\n",
       "[                       0,                        0,                        0,                        0,  I*(1/2 + I/2)*sqrt(sqrt(2)/4 + 1/2),  I*(1/2 - I/2)*sqrt(sqrt(2)/4 + 1/2),    sqrt(1/2 - sqrt(2)/4)*(1/2 + I/2),    sqrt(1/2 - sqrt(2)/4)*(1/2 - I/2),                       0,                                    0,                       0,                                    0,                                    0,                       0,                                    0,                       0],\n",
       "[                       0,                        0,                        0,                        0,   -sqrt(1/2 - sqrt(2)/4)*(1/2 - I/2),   -sqrt(1/2 - sqrt(2)/4)*(1/2 + I/2), -I*(1/2 - I/2)*sqrt(sqrt(2)/4 + 1/2), -I*(1/2 + I/2)*sqrt(sqrt(2)/4 + 1/2),                       0,                                    0,                       0,                                    0,                                    0,                       0,                                    0,                       0],\n",
       "[                       0,                        0,                        0,                        0,    sqrt(1/2 - sqrt(2)/4)*(1/2 + I/2),    sqrt(1/2 - sqrt(2)/4)*(1/2 - I/2),  I*(1/2 + I/2)*sqrt(sqrt(2)/4 + 1/2),  I*(1/2 - I/2)*sqrt(sqrt(2)/4 + 1/2),                       0,                                    0,                       0,                                    0,                                    0,                       0,                                    0,                       0],\n",
       "[                       0,                        0,                        0,                        0,                                    0,                                    0,                                    0,                                    0, I*sqrt(sqrt(2)/4 + 1/2),                                    0,   sqrt(1/2 - sqrt(2)/4),                                    0,                                    0,                       0,                                    0,                       0],\n",
       "[                       0,                        0,                        0,                        0,                                    0,                                    0,                                    0,                                    0,                       0,                                    0,                       0,                                    0,                                    0, I*sqrt(sqrt(2)/4 + 1/2),                                    0,   sqrt(1/2 - sqrt(2)/4)],\n",
       "[                       0,                        0,                        0,                        0,                                    0,                                    0,                                    0,                                    0,   sqrt(1/2 - sqrt(2)/4),                                    0, I*sqrt(sqrt(2)/4 + 1/2),                                    0,                                    0,                       0,                                    0,                       0],\n",
       "[                       0,                        0,                        0,                        0,                                    0,                                    0,                                    0,                                    0,                       0,                                    0,                       0,                                    0,                                    0,   sqrt(1/2 - sqrt(2)/4),                                    0, I*sqrt(sqrt(2)/4 + 1/2)],\n",
       "[                       0,                        0,                        0,                        0,                                    0,                                    0,                                    0,                                    0,                       0,    (1/2 + I/2)*sqrt(sqrt(2)/4 + 1/2),                       0, -I*sqrt(1/2 - sqrt(2)/4)*(1/2 + I/2),    (1/2 - I/2)*sqrt(sqrt(2)/4 + 1/2),                       0, -I*sqrt(1/2 - sqrt(2)/4)*(1/2 - I/2),                       0],\n",
       "[                       0,                        0,                        0,                        0,                                    0,                                    0,                                    0,                                    0,                       0,   -(1/2 - I/2)*sqrt(sqrt(2)/4 + 1/2),                       0,  I*sqrt(1/2 - sqrt(2)/4)*(1/2 - I/2),   -(1/2 + I/2)*sqrt(sqrt(2)/4 + 1/2),                       0,  I*sqrt(1/2 - sqrt(2)/4)*(1/2 + I/2),                       0],\n",
       "[                       0,                        0,                        0,                        0,                                    0,                                    0,                                    0,                                    0,                       0, -I*sqrt(1/2 - sqrt(2)/4)*(1/2 + I/2),                       0,    (1/2 + I/2)*sqrt(sqrt(2)/4 + 1/2), -I*sqrt(1/2 - sqrt(2)/4)*(1/2 - I/2),                       0,    (1/2 - I/2)*sqrt(sqrt(2)/4 + 1/2),                       0],\n",
       "[                       0,                        0,                        0,                        0,                                    0,                                    0,                                    0,                                    0,                       0,  I*sqrt(1/2 - sqrt(2)/4)*(1/2 - I/2),                       0,   -(1/2 - I/2)*sqrt(sqrt(2)/4 + 1/2),  I*sqrt(1/2 - sqrt(2)/4)*(1/2 + I/2),                       0,   -(1/2 + I/2)*sqrt(sqrt(2)/4 + 1/2),                       0]])"
      ]
     },
     "execution_count": 28,
     "metadata": {},
     "output_type": "execute_result"
    }
   ],
   "source": [
    "op1 = TensorProduct(Q.I, Q.SWAP)\n",
    "op2 = TensorProduct(Q.SWAP, Q.I)\n",
    "XCC = op1@op2@Q.CCNOT@op2@op1\n",
    "state4 = state3 * swap23(TensorProduct(XCC, Q.I))\n",
    "state4"
   ]
  },
  {
   "cell_type": "code",
   "execution_count": 29,
   "metadata": {},
   "outputs": [],
   "source": [
    "v = state4.eigenvects()"
   ]
  },
  {
   "cell_type": "code",
   "execution_count": 30,
   "metadata": {},
   "outputs": [
    {
     "data": {
      "text/plain": [
       "[0.254986635959346,\n",
       " 0.870013364040654,\n",
       " 0.995013364040654,\n",
       " 0.379986635959346,\n",
       " 0.562500000000000,\n",
       " 0.312500000000000,\n",
       " 0.687500000000000,\n",
       " 0.937500000000000,\n",
       " 0.0625000000000000,\n",
       " 0.187500000000000,\n",
       " 0.812500000000000]"
      ]
     },
     "execution_count": 30,
     "metadata": {},
     "output_type": "execute_result"
    }
   ],
   "source": [
    "args = [sp.arg(el[0]).evalf() for el in v]\n",
    "thetas = [arg/(2*sp.pi) if arg >= 0 else (arg+2*sp.pi)/(2*sp.pi) for arg in args]\n",
    "[theta.evalf() for theta in thetas]"
   ]
  },
  {
   "cell_type": "code",
   "execution_count": 31,
   "metadata": {},
   "outputs": [
    {
     "data": {
      "text/latex": [
       "$\\displaystyle \\left[\\begin{matrix}0\\\\0\\\\0\\\\0\\\\0\\\\0\\\\0\\\\0\\\\0\\\\\\frac{1}{2} + \\left(\\frac{\\sqrt{2 - \\sqrt{2}} \\left(2 + \\sqrt{2} \\left(1 + i\\right)\\right)}{8} - \\frac{\\sqrt[4]{2} \\sqrt{7} \\sqrt{-1 - i}}{4}\\right) \\left(- \\sqrt{2} \\sqrt{\\frac{1}{2} - \\frac{\\sqrt{2}}{4}} - \\sqrt{\\frac{1}{2} - \\frac{\\sqrt{2}}{4}} - i \\sqrt{\\frac{1}{2} - \\frac{\\sqrt{2}}{4}}\\right) + \\frac{i}{2}\\\\0\\\\\\frac{1}{2} + \\left(\\frac{\\sqrt{2 - \\sqrt{2}} \\left(2 + \\sqrt{2} \\left(1 + i\\right)\\right)}{8} - \\frac{\\sqrt[4]{2} \\sqrt{7} \\sqrt{-1 - i}}{4}\\right) \\left(- \\sqrt{2} \\sqrt{\\frac{1}{2} - \\frac{\\sqrt{2}}{4}} - \\sqrt{\\frac{1}{2} - \\frac{\\sqrt{2}}{4}} - i \\sqrt{\\frac{1}{2} - \\frac{\\sqrt{2}}{4}}\\right) + \\frac{i}{2}\\\\- \\frac{1}{2} + \\left(\\frac{\\sqrt{2 - \\sqrt{2}} \\left(2 + \\sqrt{2} \\left(1 + i\\right)\\right)}{8} - \\frac{\\sqrt[4]{2} \\sqrt{7} \\sqrt{-1 - i}}{4}\\right) \\left(- \\sqrt{2} \\sqrt{\\frac{1}{2} - \\frac{\\sqrt{2}}{4}} - \\sqrt{\\frac{1}{2} - \\frac{\\sqrt{2}}{4}} - i \\sqrt{\\frac{1}{2} - \\frac{\\sqrt{2}}{4}}\\right) + \\frac{i}{2}\\\\1\\\\- \\frac{1}{2} + \\left(\\frac{\\sqrt{2 - \\sqrt{2}} \\left(2 + \\sqrt{2} \\left(1 + i\\right)\\right)}{8} - \\frac{\\sqrt[4]{2} \\sqrt{7} \\sqrt{-1 - i}}{4}\\right) \\left(- \\sqrt{2} \\sqrt{\\frac{1}{2} - \\frac{\\sqrt{2}}{4}} - \\sqrt{\\frac{1}{2} - \\frac{\\sqrt{2}}{4}} - i \\sqrt{\\frac{1}{2} - \\frac{\\sqrt{2}}{4}}\\right) + \\frac{i}{2}\\\\1\\end{matrix}\\right]$"
      ],
      "text/plain": [
       "Matrix([\n",
       "[                                                                                                                                                                            0],\n",
       "[                                                                                                                                                                            0],\n",
       "[                                                                                                                                                                            0],\n",
       "[                                                                                                                                                                            0],\n",
       "[                                                                                                                                                                            0],\n",
       "[                                                                                                                                                                            0],\n",
       "[                                                                                                                                                                            0],\n",
       "[                                                                                                                                                                            0],\n",
       "[                                                                                                                                                                            0],\n",
       "[ 1/2 + (sqrt(2 - sqrt(2))*(2 + sqrt(2)*(1 + I))/8 - 2**(1/4)*sqrt(7)*sqrt(-1 - I)/4)*(-sqrt(2)*sqrt(1/2 - sqrt(2)/4) - sqrt(1/2 - sqrt(2)/4) - I*sqrt(1/2 - sqrt(2)/4)) + I/2],\n",
       "[                                                                                                                                                                            0],\n",
       "[ 1/2 + (sqrt(2 - sqrt(2))*(2 + sqrt(2)*(1 + I))/8 - 2**(1/4)*sqrt(7)*sqrt(-1 - I)/4)*(-sqrt(2)*sqrt(1/2 - sqrt(2)/4) - sqrt(1/2 - sqrt(2)/4) - I*sqrt(1/2 - sqrt(2)/4)) + I/2],\n",
       "[-1/2 + (sqrt(2 - sqrt(2))*(2 + sqrt(2)*(1 + I))/8 - 2**(1/4)*sqrt(7)*sqrt(-1 - I)/4)*(-sqrt(2)*sqrt(1/2 - sqrt(2)/4) - sqrt(1/2 - sqrt(2)/4) - I*sqrt(1/2 - sqrt(2)/4)) + I/2],\n",
       "[                                                                                                                                                                            1],\n",
       "[-1/2 + (sqrt(2 - sqrt(2))*(2 + sqrt(2)*(1 + I))/8 - 2**(1/4)*sqrt(7)*sqrt(-1 - I)/4)*(-sqrt(2)*sqrt(1/2 - sqrt(2)/4) - sqrt(1/2 - sqrt(2)/4) - I*sqrt(1/2 - sqrt(2)/4)) + I/2],\n",
       "[                                                                                                                                                                            1]])"
      ]
     },
     "metadata": {},
     "output_type": "display_data"
    },
    {
     "data": {
      "text/latex": [
       "$\\displaystyle \\left[\\begin{matrix}0\\\\0\\\\0\\\\0\\\\0\\\\0\\\\0\\\\0\\\\0\\\\\\frac{1}{2} + \\left(\\frac{\\sqrt[4]{2} \\sqrt{7} \\sqrt{-1 - i}}{4} + \\frac{\\sqrt{2 - \\sqrt{2}} \\left(2 + \\sqrt{2} \\left(1 + i\\right)\\right)}{8}\\right) \\left(- \\sqrt{2} \\sqrt{\\frac{1}{2} - \\frac{\\sqrt{2}}{4}} - \\sqrt{\\frac{1}{2} - \\frac{\\sqrt{2}}{4}} - i \\sqrt{\\frac{1}{2} - \\frac{\\sqrt{2}}{4}}\\right) + \\frac{i}{2}\\\\0\\\\\\frac{1}{2} + \\left(\\frac{\\sqrt[4]{2} \\sqrt{7} \\sqrt{-1 - i}}{4} + \\frac{\\sqrt{2 - \\sqrt{2}} \\left(2 + \\sqrt{2} \\left(1 + i\\right)\\right)}{8}\\right) \\left(- \\sqrt{2} \\sqrt{\\frac{1}{2} - \\frac{\\sqrt{2}}{4}} - \\sqrt{\\frac{1}{2} - \\frac{\\sqrt{2}}{4}} - i \\sqrt{\\frac{1}{2} - \\frac{\\sqrt{2}}{4}}\\right) + \\frac{i}{2}\\\\- \\frac{1}{2} + \\left(\\frac{\\sqrt[4]{2} \\sqrt{7} \\sqrt{-1 - i}}{4} + \\frac{\\sqrt{2 - \\sqrt{2}} \\left(2 + \\sqrt{2} \\left(1 + i\\right)\\right)}{8}\\right) \\left(- \\sqrt{2} \\sqrt{\\frac{1}{2} - \\frac{\\sqrt{2}}{4}} - \\sqrt{\\frac{1}{2} - \\frac{\\sqrt{2}}{4}} - i \\sqrt{\\frac{1}{2} - \\frac{\\sqrt{2}}{4}}\\right) + \\frac{i}{2}\\\\1\\\\- \\frac{1}{2} + \\left(\\frac{\\sqrt[4]{2} \\sqrt{7} \\sqrt{-1 - i}}{4} + \\frac{\\sqrt{2 - \\sqrt{2}} \\left(2 + \\sqrt{2} \\left(1 + i\\right)\\right)}{8}\\right) \\left(- \\sqrt{2} \\sqrt{\\frac{1}{2} - \\frac{\\sqrt{2}}{4}} - \\sqrt{\\frac{1}{2} - \\frac{\\sqrt{2}}{4}} - i \\sqrt{\\frac{1}{2} - \\frac{\\sqrt{2}}{4}}\\right) + \\frac{i}{2}\\\\1\\end{matrix}\\right]$"
      ],
      "text/plain": [
       "Matrix([\n",
       "[                                                                                                                                                                            0],\n",
       "[                                                                                                                                                                            0],\n",
       "[                                                                                                                                                                            0],\n",
       "[                                                                                                                                                                            0],\n",
       "[                                                                                                                                                                            0],\n",
       "[                                                                                                                                                                            0],\n",
       "[                                                                                                                                                                            0],\n",
       "[                                                                                                                                                                            0],\n",
       "[                                                                                                                                                                            0],\n",
       "[ 1/2 + (2**(1/4)*sqrt(7)*sqrt(-1 - I)/4 + sqrt(2 - sqrt(2))*(2 + sqrt(2)*(1 + I))/8)*(-sqrt(2)*sqrt(1/2 - sqrt(2)/4) - sqrt(1/2 - sqrt(2)/4) - I*sqrt(1/2 - sqrt(2)/4)) + I/2],\n",
       "[                                                                                                                                                                            0],\n",
       "[ 1/2 + (2**(1/4)*sqrt(7)*sqrt(-1 - I)/4 + sqrt(2 - sqrt(2))*(2 + sqrt(2)*(1 + I))/8)*(-sqrt(2)*sqrt(1/2 - sqrt(2)/4) - sqrt(1/2 - sqrt(2)/4) - I*sqrt(1/2 - sqrt(2)/4)) + I/2],\n",
       "[-1/2 + (2**(1/4)*sqrt(7)*sqrt(-1 - I)/4 + sqrt(2 - sqrt(2))*(2 + sqrt(2)*(1 + I))/8)*(-sqrt(2)*sqrt(1/2 - sqrt(2)/4) - sqrt(1/2 - sqrt(2)/4) - I*sqrt(1/2 - sqrt(2)/4)) + I/2],\n",
       "[                                                                                                                                                                            1],\n",
       "[-1/2 + (2**(1/4)*sqrt(7)*sqrt(-1 - I)/4 + sqrt(2 - sqrt(2))*(2 + sqrt(2)*(1 + I))/8)*(-sqrt(2)*sqrt(1/2 - sqrt(2)/4) - sqrt(1/2 - sqrt(2)/4) - I*sqrt(1/2 - sqrt(2)/4)) + I/2],\n",
       "[                                                                                                                                                                            1]])"
      ]
     },
     "metadata": {},
     "output_type": "display_data"
    },
    {
     "data": {
      "text/latex": [
       "$\\displaystyle \\left[\\begin{matrix}0\\\\0\\\\0\\\\0\\\\0\\\\0\\\\0\\\\0\\\\0\\\\- \\frac{1}{2} - \\frac{i}{2} + \\left(\\frac{\\sqrt[4]{2} \\sqrt{7} \\sqrt{1 - i}}{4} + \\frac{\\left(1 - i\\right) \\sqrt{2 - \\sqrt{2}} \\left(-1 + i + \\sqrt{2} i\\right)}{8}\\right) \\left(\\sqrt{\\frac{1}{2} - \\frac{\\sqrt{2}}{4}} + \\sqrt{2} \\sqrt{\\frac{1}{2} - \\frac{\\sqrt{2}}{4}} - i \\sqrt{\\frac{1}{2} - \\frac{\\sqrt{2}}{4}}\\right)\\\\0\\\\\\frac{1}{2} + \\left(\\frac{\\sqrt[4]{2} \\sqrt{7} \\sqrt{1 - i}}{4} + \\frac{\\left(1 - i\\right) \\sqrt{2 - \\sqrt{2}} \\left(-1 + i + \\sqrt{2} i\\right)}{8}\\right) \\left(- \\sqrt{2} \\sqrt{\\frac{1}{2} - \\frac{\\sqrt{2}}{4}} - \\sqrt{\\frac{1}{2} - \\frac{\\sqrt{2}}{4}} + i \\sqrt{\\frac{1}{2} - \\frac{\\sqrt{2}}{4}}\\right) + \\frac{i}{2}\\\\\\frac{1}{2} - \\frac{i}{2} + \\left(\\frac{\\sqrt[4]{2} \\sqrt{7} \\sqrt{1 - i}}{4} + \\frac{\\left(1 - i\\right) \\sqrt{2 - \\sqrt{2}} \\left(-1 + i + \\sqrt{2} i\\right)}{8}\\right) \\left(\\sqrt{\\frac{1}{2} - \\frac{\\sqrt{2}}{4}} + \\sqrt{2} \\sqrt{\\frac{1}{2} - \\frac{\\sqrt{2}}{4}} - i \\sqrt{\\frac{1}{2} - \\frac{\\sqrt{2}}{4}}\\right)\\\\-1\\\\- \\frac{1}{2} + \\left(\\frac{\\sqrt[4]{2} \\sqrt{7} \\sqrt{1 - i}}{4} + \\frac{\\left(1 - i\\right) \\sqrt{2 - \\sqrt{2}} \\left(-1 + i + \\sqrt{2} i\\right)}{8}\\right) \\left(- \\sqrt{2} \\sqrt{\\frac{1}{2} - \\frac{\\sqrt{2}}{4}} - \\sqrt{\\frac{1}{2} - \\frac{\\sqrt{2}}{4}} + i \\sqrt{\\frac{1}{2} - \\frac{\\sqrt{2}}{4}}\\right) + \\frac{i}{2}\\\\1\\end{matrix}\\right]$"
      ],
      "text/plain": [
       "Matrix([\n",
       "[                                                                                                                                                                                  0],\n",
       "[                                                                                                                                                                                  0],\n",
       "[                                                                                                                                                                                  0],\n",
       "[                                                                                                                                                                                  0],\n",
       "[                                                                                                                                                                                  0],\n",
       "[                                                                                                                                                                                  0],\n",
       "[                                                                                                                                                                                  0],\n",
       "[                                                                                                                                                                                  0],\n",
       "[                                                                                                                                                                                  0],\n",
       "[ -1/2 - I/2 + (2**(1/4)*sqrt(7)*sqrt(1 - I)/4 + (1 - I)*sqrt(2 - sqrt(2))*(-1 + I + sqrt(2)*I)/8)*(sqrt(1/2 - sqrt(2)/4) + sqrt(2)*sqrt(1/2 - sqrt(2)/4) - I*sqrt(1/2 - sqrt(2)/4))],\n",
       "[                                                                                                                                                                                  0],\n",
       "[ 1/2 + (2**(1/4)*sqrt(7)*sqrt(1 - I)/4 + (1 - I)*sqrt(2 - sqrt(2))*(-1 + I + sqrt(2)*I)/8)*(-sqrt(2)*sqrt(1/2 - sqrt(2)/4) - sqrt(1/2 - sqrt(2)/4) + I*sqrt(1/2 - sqrt(2)/4)) + I/2],\n",
       "[  1/2 - I/2 + (2**(1/4)*sqrt(7)*sqrt(1 - I)/4 + (1 - I)*sqrt(2 - sqrt(2))*(-1 + I + sqrt(2)*I)/8)*(sqrt(1/2 - sqrt(2)/4) + sqrt(2)*sqrt(1/2 - sqrt(2)/4) - I*sqrt(1/2 - sqrt(2)/4))],\n",
       "[                                                                                                                                                                                 -1],\n",
       "[-1/2 + (2**(1/4)*sqrt(7)*sqrt(1 - I)/4 + (1 - I)*sqrt(2 - sqrt(2))*(-1 + I + sqrt(2)*I)/8)*(-sqrt(2)*sqrt(1/2 - sqrt(2)/4) - sqrt(1/2 - sqrt(2)/4) + I*sqrt(1/2 - sqrt(2)/4)) + I/2],\n",
       "[                                                                                                                                                                                  1]])"
      ]
     },
     "metadata": {},
     "output_type": "display_data"
    },
    {
     "data": {
      "text/latex": [
       "$\\displaystyle \\left[\\begin{matrix}0\\\\0\\\\0\\\\0\\\\0\\\\0\\\\0\\\\0\\\\0\\\\- \\frac{1}{2} - \\frac{i}{2} + \\left(\\frac{\\left(1 - i\\right) \\sqrt{2 - \\sqrt{2}} \\left(-1 + i + \\sqrt{2} i\\right)}{8} - \\frac{\\sqrt[4]{2} \\sqrt{7} \\sqrt{1 - i}}{4}\\right) \\left(\\sqrt{\\frac{1}{2} - \\frac{\\sqrt{2}}{4}} + \\sqrt{2} \\sqrt{\\frac{1}{2} - \\frac{\\sqrt{2}}{4}} - i \\sqrt{\\frac{1}{2} - \\frac{\\sqrt{2}}{4}}\\right)\\\\0\\\\\\frac{1}{2} + \\left(\\frac{\\left(1 - i\\right) \\sqrt{2 - \\sqrt{2}} \\left(-1 + i + \\sqrt{2} i\\right)}{8} - \\frac{\\sqrt[4]{2} \\sqrt{7} \\sqrt{1 - i}}{4}\\right) \\left(- \\sqrt{2} \\sqrt{\\frac{1}{2} - \\frac{\\sqrt{2}}{4}} - \\sqrt{\\frac{1}{2} - \\frac{\\sqrt{2}}{4}} + i \\sqrt{\\frac{1}{2} - \\frac{\\sqrt{2}}{4}}\\right) + \\frac{i}{2}\\\\\\frac{1}{2} - \\frac{i}{2} + \\left(\\frac{\\left(1 - i\\right) \\sqrt{2 - \\sqrt{2}} \\left(-1 + i + \\sqrt{2} i\\right)}{8} - \\frac{\\sqrt[4]{2} \\sqrt{7} \\sqrt{1 - i}}{4}\\right) \\left(\\sqrt{\\frac{1}{2} - \\frac{\\sqrt{2}}{4}} + \\sqrt{2} \\sqrt{\\frac{1}{2} - \\frac{\\sqrt{2}}{4}} - i \\sqrt{\\frac{1}{2} - \\frac{\\sqrt{2}}{4}}\\right)\\\\-1\\\\- \\frac{1}{2} + \\left(\\frac{\\left(1 - i\\right) \\sqrt{2 - \\sqrt{2}} \\left(-1 + i + \\sqrt{2} i\\right)}{8} - \\frac{\\sqrt[4]{2} \\sqrt{7} \\sqrt{1 - i}}{4}\\right) \\left(- \\sqrt{2} \\sqrt{\\frac{1}{2} - \\frac{\\sqrt{2}}{4}} - \\sqrt{\\frac{1}{2} - \\frac{\\sqrt{2}}{4}} + i \\sqrt{\\frac{1}{2} - \\frac{\\sqrt{2}}{4}}\\right) + \\frac{i}{2}\\\\1\\end{matrix}\\right]$"
      ],
      "text/plain": [
       "Matrix([\n",
       "[                                                                                                                                                                                  0],\n",
       "[                                                                                                                                                                                  0],\n",
       "[                                                                                                                                                                                  0],\n",
       "[                                                                                                                                                                                  0],\n",
       "[                                                                                                                                                                                  0],\n",
       "[                                                                                                                                                                                  0],\n",
       "[                                                                                                                                                                                  0],\n",
       "[                                                                                                                                                                                  0],\n",
       "[                                                                                                                                                                                  0],\n",
       "[ -1/2 - I/2 + ((1 - I)*sqrt(2 - sqrt(2))*(-1 + I + sqrt(2)*I)/8 - 2**(1/4)*sqrt(7)*sqrt(1 - I)/4)*(sqrt(1/2 - sqrt(2)/4) + sqrt(2)*sqrt(1/2 - sqrt(2)/4) - I*sqrt(1/2 - sqrt(2)/4))],\n",
       "[                                                                                                                                                                                  0],\n",
       "[ 1/2 + ((1 - I)*sqrt(2 - sqrt(2))*(-1 + I + sqrt(2)*I)/8 - 2**(1/4)*sqrt(7)*sqrt(1 - I)/4)*(-sqrt(2)*sqrt(1/2 - sqrt(2)/4) - sqrt(1/2 - sqrt(2)/4) + I*sqrt(1/2 - sqrt(2)/4)) + I/2],\n",
       "[  1/2 - I/2 + ((1 - I)*sqrt(2 - sqrt(2))*(-1 + I + sqrt(2)*I)/8 - 2**(1/4)*sqrt(7)*sqrt(1 - I)/4)*(sqrt(1/2 - sqrt(2)/4) + sqrt(2)*sqrt(1/2 - sqrt(2)/4) - I*sqrt(1/2 - sqrt(2)/4))],\n",
       "[                                                                                                                                                                                 -1],\n",
       "[-1/2 + ((1 - I)*sqrt(2 - sqrt(2))*(-1 + I + sqrt(2)*I)/8 - 2**(1/4)*sqrt(7)*sqrt(1 - I)/4)*(-sqrt(2)*sqrt(1/2 - sqrt(2)/4) - sqrt(1/2 - sqrt(2)/4) + I*sqrt(1/2 - sqrt(2)/4)) + I/2],\n",
       "[                                                                                                                                                                                  1]])"
      ]
     },
     "metadata": {},
     "output_type": "display_data"
    },
    {
     "data": {
      "text/latex": [
       "$\\displaystyle \\left[\\begin{matrix}0\\\\0\\\\0\\\\0\\\\i + \\sqrt{2} i\\\\1\\\\i + \\sqrt{2} i\\\\1\\\\0\\\\0\\\\0\\\\0\\\\0\\\\0\\\\0\\\\0\\end{matrix}\\right]$"
      ],
      "text/plain": [
       "Matrix([\n",
       "[            0],\n",
       "[            0],\n",
       "[            0],\n",
       "[            0],\n",
       "[I + sqrt(2)*I],\n",
       "[            1],\n",
       "[I + sqrt(2)*I],\n",
       "[            1],\n",
       "[            0],\n",
       "[            0],\n",
       "[            0],\n",
       "[            0],\n",
       "[            0],\n",
       "[            0],\n",
       "[            0],\n",
       "[            0]])"
      ]
     },
     "metadata": {},
     "output_type": "display_data"
    },
    {
     "data": {
      "text/latex": [
       "$\\displaystyle \\left[\\begin{matrix}0\\\\0\\\\0\\\\0\\\\0\\\\0\\\\0\\\\0\\\\-1\\\\0\\\\1\\\\0\\\\0\\\\0\\\\0\\\\0\\end{matrix}\\right]$"
      ],
      "text/plain": [
       "Matrix([\n",
       "[ 0],\n",
       "[ 0],\n",
       "[ 0],\n",
       "[ 0],\n",
       "[ 0],\n",
       "[ 0],\n",
       "[ 0],\n",
       "[ 0],\n",
       "[-1],\n",
       "[ 0],\n",
       "[ 1],\n",
       "[ 0],\n",
       "[ 0],\n",
       "[ 0],\n",
       "[ 0],\n",
       "[ 0]])"
      ]
     },
     "metadata": {},
     "output_type": "display_data"
    },
    {
     "data": {
      "text/latex": [
       "$\\displaystyle \\left[\\begin{matrix}0\\\\0\\\\0\\\\0\\\\- \\sqrt{2} i - i\\\\-1\\\\i + \\sqrt{2} i\\\\1\\\\0\\\\0\\\\0\\\\0\\\\0\\\\0\\\\0\\\\0\\end{matrix}\\right]$"
      ],
      "text/plain": [
       "Matrix([\n",
       "[             0],\n",
       "[             0],\n",
       "[             0],\n",
       "[             0],\n",
       "[-sqrt(2)*I - I],\n",
       "[            -1],\n",
       "[ I + sqrt(2)*I],\n",
       "[             1],\n",
       "[             0],\n",
       "[             0],\n",
       "[             0],\n",
       "[             0],\n",
       "[             0],\n",
       "[             0],\n",
       "[             0],\n",
       "[             0]])"
      ]
     },
     "metadata": {},
     "output_type": "display_data"
    },
    {
     "data": {
      "text/latex": [
       "$\\displaystyle \\left[\\begin{matrix}1\\\\0\\\\1\\\\0\\\\0\\\\0\\\\0\\\\0\\\\0\\\\0\\\\0\\\\0\\\\0\\\\0\\\\0\\\\0\\end{matrix}\\right]$"
      ],
      "text/plain": [
       "Matrix([\n",
       "[1],\n",
       "[0],\n",
       "[1],\n",
       "[0],\n",
       "[0],\n",
       "[0],\n",
       "[0],\n",
       "[0],\n",
       "[0],\n",
       "[0],\n",
       "[0],\n",
       "[0],\n",
       "[0],\n",
       "[0],\n",
       "[0],\n",
       "[0]])"
      ]
     },
     "metadata": {},
     "output_type": "display_data"
    },
    {
     "data": {
      "text/latex": [
       "$\\displaystyle \\left[\\begin{matrix}-1\\\\0\\\\1\\\\0\\\\0\\\\0\\\\0\\\\0\\\\0\\\\0\\\\0\\\\0\\\\0\\\\0\\\\0\\\\0\\end{matrix}\\right]$"
      ],
      "text/plain": [
       "Matrix([\n",
       "[-1],\n",
       "[ 0],\n",
       "[ 1],\n",
       "[ 0],\n",
       "[ 0],\n",
       "[ 0],\n",
       "[ 0],\n",
       "[ 0],\n",
       "[ 0],\n",
       "[ 0],\n",
       "[ 0],\n",
       "[ 0],\n",
       "[ 0],\n",
       "[ 0],\n",
       "[ 0],\n",
       "[ 0]])"
      ]
     },
     "metadata": {},
     "output_type": "display_data"
    },
    {
     "data": {
      "text/latex": [
       "$\\displaystyle \\left[\\begin{matrix}0\\\\0\\\\0\\\\0\\\\- i + \\sqrt{2} i\\\\-1\\\\- \\sqrt{2} i + i\\\\1\\\\0\\\\0\\\\0\\\\0\\\\0\\\\0\\\\0\\\\0\\end{matrix}\\right]$"
      ],
      "text/plain": [
       "Matrix([\n",
       "[             0],\n",
       "[             0],\n",
       "[             0],\n",
       "[             0],\n",
       "[-I + sqrt(2)*I],\n",
       "[            -1],\n",
       "[-sqrt(2)*I + I],\n",
       "[             1],\n",
       "[             0],\n",
       "[             0],\n",
       "[             0],\n",
       "[             0],\n",
       "[             0],\n",
       "[             0],\n",
       "[             0],\n",
       "[             0]])"
      ]
     },
     "metadata": {},
     "output_type": "display_data"
    },
    {
     "data": {
      "text/latex": [
       "$\\displaystyle \\left[\\begin{matrix}0\\\\0\\\\0\\\\0\\\\0\\\\0\\\\0\\\\0\\\\0\\\\1\\\\0\\\\-1\\\\-1\\\\-1\\\\1\\\\1\\end{matrix}\\right]$"
      ],
      "text/plain": [
       "Matrix([\n",
       "[ 0],\n",
       "[ 0],\n",
       "[ 0],\n",
       "[ 0],\n",
       "[ 0],\n",
       "[ 0],\n",
       "[ 0],\n",
       "[ 0],\n",
       "[ 0],\n",
       "[ 1],\n",
       "[ 0],\n",
       "[-1],\n",
       "[-1],\n",
       "[-1],\n",
       "[ 1],\n",
       "[ 1]])"
      ]
     },
     "metadata": {},
     "output_type": "display_data"
    },
    {
     "data": {
      "text/plain": [
       "[None, None, None, None, None, None, None, None, None, None, None]"
      ]
     },
     "execution_count": 31,
     "metadata": {},
     "output_type": "execute_result"
    }
   ],
   "source": [
    "[display(el[2][0]) for el in v]"
   ]
  }
 ],
 "metadata": {
  "kernelspec": {
   "display_name": ".venv",
   "language": "python",
   "name": "python3"
  },
  "language_info": {
   "codemirror_mode": {
    "name": "ipython",
    "version": 3
   },
   "file_extension": ".py",
   "mimetype": "text/x-python",
   "name": "python",
   "nbconvert_exporter": "python",
   "pygments_lexer": "ipython3",
   "version": "3.11.4"
  }
 },
 "nbformat": 4,
 "nbformat_minor": 2
}
