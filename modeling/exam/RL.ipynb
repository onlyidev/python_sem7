{
 "cells": [
  {
   "cell_type": "code",
   "execution_count": 12,
   "metadata": {},
   "outputs": [],
   "source": [
    "import sympy as sp\n",
    "import numpy as np"
   ]
  },
  {
   "cell_type": "code",
   "execution_count": 13,
   "metadata": {},
   "outputs": [],
   "source": [
    "L,R,t,I0 = sp.symbols(\"L R t I_0\")\n",
    "I,E = [sp.Function(x) for x in \"IE\"]\n",
    "eq = sp.Eq(L*sp.diff(I(t), t) + R*I(t), E(t))"
   ]
  },
  {
   "cell_type": "code",
   "execution_count": 14,
   "metadata": {},
   "outputs": [
    {
     "data": {
      "text/latex": [
       "$\\displaystyle L \\frac{d}{d t} I{\\left(t \\right)} + R I{\\left(t \\right)} = E_{0} \\cos{\\left(\\omega t \\right)}$"
      ],
      "text/plain": [
       "Eq(L*Derivative(I(t), t) + R*I(t), E_0*cos(omega*t))"
      ]
     },
     "execution_count": 14,
     "metadata": {},
     "output_type": "execute_result"
    }
   ],
   "source": [
    "E0, omega = sp.symbols(\"E_0 omega\")\n",
    "# b = eq.subs(E(t), E0*sp.sin(omega*t))\n",
    "b = eq.subs(E(t), E0*sp.cos(omega*t))\n",
    "b"
   ]
  },
  {
   "cell_type": "code",
   "execution_count": 18,
   "metadata": {},
   "outputs": [
    {
     "data": {
      "text/latex": [
       "$\\displaystyle I{\\left(t \\right)} = \\frac{E_{0} L \\omega \\sin{\\left(\\omega t \\right)}}{L^{2} \\omega^{2} + R^{2}} + \\frac{E_{0} R \\cos{\\left(\\omega t \\right)}}{L^{2} \\omega^{2} + R^{2}} + \\frac{\\left(- E_{0} R + I_{0} L^{2} \\omega^{2} + I_{0} R^{2}\\right) e^{- \\frac{R t}{L}}}{L^{2} \\omega^{2} + R^{2}}$"
      ],
      "text/plain": [
       "Eq(I(t), E_0*L*omega*sin(omega*t)/(L**2*omega**2 + R**2) + E_0*R*cos(omega*t)/(L**2*omega**2 + R**2) + (-E_0*R + I_0*L**2*omega**2 + I_0*R**2)*exp(-R*t/L)/(L**2*omega**2 + R**2))"
      ]
     },
     "metadata": {},
     "output_type": "display_data"
    },
    {
     "data": {
      "text/latex": [
       "$\\displaystyle I{\\left(t \\right)} = \\frac{\\left(- E_{0} R - E_{0} \\sqrt{L^{2} \\omega^{2} + R^{2}} e^{\\frac{R t}{L}} \\sin{\\left(\\delta - \\omega t \\right)} + I_{0} L^{2} \\omega^{2} + I_{0} R^{2}\\right) e^{- \\frac{R t}{L}}}{L^{2} \\omega^{2} + R^{2}}$"
      ],
      "text/plain": [
       "Eq(I(t), (-E_0*R - E_0*sqrt(L**2*omega**2 + R**2)*exp(R*t/L)*sin(delta - omega*t) + I_0*L**2*omega**2 + I_0*R**2)*exp(-R*t/L)/(L**2*omega**2 + R**2))"
      ]
     },
     "execution_count": 18,
     "metadata": {},
     "output_type": "execute_result"
    }
   ],
   "source": [
    "sol = sp.dsolve(b, I(t), ics={I(0): I0})\n",
    "A, delta = sp.symbols(\"A delta\")\n",
    "display(sol)\n",
    "# sol.simplify().subs(R*sp.sin(omega*t) - omega*L*sp.cos(omega*t), A*sp.sin(omega*t-delta)).subs(A, sp.sqrt(R**2 + omega**2*L**2)).simplify()\n",
    "sol.simplify().subs(R*sp.cos(omega*t) + omega*L*sp.sin(omega*t), A*sp.sin(omega*t-delta)).subs(A, sp.sqrt(R**2 + omega**2*L**2)).simplify()"
   ]
  },
  {
   "cell_type": "code",
   "execution_count": 16,
   "metadata": {},
   "outputs": [
    {
     "data": {
      "text/latex": [
       "$\\displaystyle - \\frac{E_{0} \\sin{\\left(\\delta - \\omega t \\right)}}{\\sqrt{L^{2} \\omega^{2} + R^{2}}} + \\left(- \\frac{E_{0} R}{L^{2} \\omega^{2} + R^{2}} + I_{0}\\right) e^{- \\frac{R t}{L}}$"
      ],
      "text/plain": [
       "-E_0*sin(delta - omega*t)/sqrt(L**2*omega**2 + R**2) + (-E_0*R/(L**2*omega**2 + R**2) + I_0)*exp(-R*t/L)"
      ]
     },
     "execution_count": 16,
     "metadata": {},
     "output_type": "execute_result"
    }
   ],
   "source": [
    "expr = (I0 - E0*R/(L**2*omega**2+R**2))*sp.E**(-R*t/L) + E0*sp.sin(omega*t-delta)/sp.sqrt(L**2*omega**2+R**2)\n",
    "expr"
   ]
  }
 ],
 "metadata": {
  "kernelspec": {
   "display_name": ".venv",
   "language": "python",
   "name": "python3"
  },
  "language_info": {
   "codemirror_mode": {
    "name": "ipython",
    "version": 3
   },
   "file_extension": ".py",
   "mimetype": "text/x-python",
   "name": "python",
   "nbconvert_exporter": "python",
   "pygments_lexer": "ipython3",
   "version": "3.11.4"
  }
 },
 "nbformat": 4,
 "nbformat_minor": 2
}
